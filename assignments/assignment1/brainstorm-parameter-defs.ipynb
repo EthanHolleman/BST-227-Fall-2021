{
 "cells": [
  {
   "cell_type": "markdown",
   "id": "d04c1c20",
   "metadata": {},
   "source": [
    "# Brainstorm and model parameter definitions\n"
   ]
  },
  {
   "cell_type": "markdown",
   "id": "26e196c1",
   "metadata": {},
   "source": [
    "Working off Quon's earlier notes on the simple model."
   ]
  },
  {
   "cell_type": "markdown",
   "id": "ebb46b11",
   "metadata": {},
   "source": [
    "- $i$ indexes over input sequences\n",
    "- $j$ indexes over sequence motifs (kmers)\n",
    "- $P$ defines the length of motifs\n",
    "- $k$ indexes over nucleotides (A, T, G, C)\n",
    "- $l$ indexes over models\n",
    "    - $l$ = 0 indicates TFBS\n",
    "    - \"foreground\" vs \"background\"\n",
    "    - Is another $l$ like term required to indicate if a specific motif is in fact a binding motif? Are we first considering if an entire sequence is an enhancer then if it contains a motif or just if it contains a motif?\n",
    "- $X_{i,j,p,k}$ is an indicator variable where $X_{i,j,p,k}$ = 1 if base $p$ of motif $j$ of sequence $i$ was drawn from model 1 (foreground) and is zero otherwise (from background)\n",
    "- $C_{i,j,l}$ is an indicator variable and = 1 if motif $j$ of sequence $i$ was drawn from the foreground.\n",
    "- $\\boldsymbol{X}$ is the set of all $X_{i,j,p,k}$\n",
    "- $\\boldsymbol{C}$ is the set of all $X_{i,, j, l}$"
   ]
  },
  {
   "cell_type": "markdown",
   "id": "5e3f2a3b",
   "metadata": {},
   "source": [
    "## Complete log likelihood"
   ]
  },
  {
   "cell_type": "markdown",
   "id": "c7c782bc",
   "metadata": {},
   "source": [
    "$L(\\theta | \\boldsymbol{X}, \\boldsymbol{C})$ = $ln P(\\boldsymbol{X}, \\boldsymbol{C} | \\theta)$"
   ]
  },
  {
   "cell_type": "markdown",
   "id": "1141d876",
   "metadata": {},
   "source": [
    "$ln\\prod_{i}\\prod_{j} P(X_{i, j}C_{i, j} | \\theta)$"
   ]
  },
  {
   "cell_type": "markdown",
   "id": "91dd59f4",
   "metadata": {},
   "source": [
    "Expand conditional prob since we know $P(A, B | C) = P(A | B, C)P(B | C)$"
   ]
  },
  {
   "cell_type": "markdown",
   "id": "f760d01b",
   "metadata": {},
   "source": [
    "$ln\\prod_{i}\\prod_{j}(\\prod_{p}\\prod_{k}\\prod_{l}[P(C_{i,j,l}=1 | \\theta)P(X_{i,j,p,k} = 1 | C_{i,j,l} = 1, \\theta)]$)\n",
    "\n",
    "Think there should be some exponent at end of expression and $X$ term may not be correct."
   ]
  },
  {
   "cell_type": "markdown",
   "id": "87943a75",
   "metadata": {},
   "source": [
    "## In class notes\n",
    " - We know seqs that are given have binding sites but we want to find where the binding site may be\n",
    " - Assuming one binding site per given sequence\n",
    "     - One position where it starts and whole thing is one site (start site + $P$)"
   ]
  },
  {
   "cell_type": "markdown",
   "id": "a4e21337",
   "metadata": {},
   "source": [
    "### Notation\n",
    "\n",
    "- Relax the problem yo\n",
    "- Width of motif is 8\n",
    "    - Sample at position 3\n",
    "    - Could include background when trying to look at the foreground\n",
    "    - Previously $X_{ij}$ = base at position i but now want to say $X_{ij}$ is a motif of length $P$\n",
    "    - Don't have to worry about weird boundary cases"
   ]
  }
 ],
 "metadata": {
  "kernelspec": {
   "display_name": "Python 3",
   "language": "python",
   "name": "python3"
  },
  "language_info": {
   "codemirror_mode": {
    "name": "ipython",
    "version": 3
   },
   "file_extension": ".py",
   "mimetype": "text/x-python",
   "name": "python",
   "nbconvert_exporter": "python",
   "pygments_lexer": "ipython3",
   "version": "3.9.6"
  }
 },
 "nbformat": 4,
 "nbformat_minor": 5
}
