{
 "cells": [
  {
   "cell_type": "markdown",
   "id": "03cea718",
   "metadata": {},
   "source": [
    "# Part 3: EM implementation"
   ]
  },
  {
   "cell_type": "code",
   "execution_count": 1,
   "id": "2dba9ddb",
   "metadata": {},
   "outputs": [],
   "source": [
    "import numpy as np\n",
    "from sklearn.preprocessing import OneHotEncoder"
   ]
  },
  {
   "cell_type": "code",
   "execution_count": 2,
   "id": "096c4963",
   "metadata": {},
   "outputs": [
    {
     "data": {
      "text/plain": [
       "['ATACCCCTGGCTGGGTCATGGTGACCTGGAGGAAGCGT',\n",
       " 'CATATATGGCCAGGGTCAGTGTGACCTCCATTTCCCAT',\n",
       " 'AGCAGCTGGCCTGGGTCACAGTGACCTGACCTCAAACC',\n",
       " 'AGGCTGTGTACAAGGTCAGAGTGACCTCTAGAAGCTCT',\n",
       " 'TACTCTAGTTCCAGGTCATGGTGACCTGTGAAAAATCT',\n",
       " 'AGGACTGTTTCAAGGTCACGGTGACCCTCGTGGGCTGT',\n",
       " 'GCAGGAAGTTTTGGGTCACGGTGACCTCTAGTTGTTGA',\n",
       " 'CAAGTGCTTCAAAGGTCATGGTGCCCTGGGGCCGAGAG',\n",
       " 'ACCAACATGGCAGGGTCAAGTTGACCTCCCTGGCCACT',\n",
       " 'TCTCTCTCTAGTAGGTCATGGTGACCTGTACACATTAT',\n",
       " 'TCAGACCACAGAGGGTCAAGGTGACCTGAGAGATCAGT',\n",
       " 'AGGCAATTCACTAGGTCAGGATGCCCTGGGGCAACAGT',\n",
       " 'TAGTCCTGAAAAGGGTCATGTTGACCTGATTGTCATGT',\n",
       " 'ATTAACTCTTCTAGGTCAGTGTGACCTAAACTCATCGG',\n",
       " 'GGACAATTATTGGGGTCACGGTGACCTGCCTGTTTCAG',\n",
       " 'GGTCCATAATATAGGTCATGTTGACCTGGGACAACTGG',\n",
       " 'CTCCAGGAGCAGGGGTCAGGGTGACCTCCAGCTCCTCA',\n",
       " 'GAGCCCATCTCTGGGTCATGTTGCCCTCTTACAGCACA',\n",
       " 'TGGGTTAAACCTGGGTCATGTTGACCTAGATACATCTC',\n",
       " 'GTGACATCCCCAGGGTCAAAGTGCCCTGAGTCTGGAGA',\n",
       " 'GCCTTCTAGGTCAGCATGACCTGGTCCTCAGAGGGGGG',\n",
       " 'GGCAATGAATCAAGGTCAGGCTAACCTGGCTTACTGCA',\n",
       " 'CCTACTAGCCCTGGGTCAACGTGCCCTGTAAGAGCATG',\n",
       " 'GGCGCAGCCCCAAGGTCAGGGTCACCTCGAGCCTCCAG',\n",
       " 'ACTTCTCCACAGAGGTCACGTTGACCTCCATGTGGCCA',\n",
       " 'TTGAAGTGACCCAGGTCACCTTGCCCTGAATGCTTAAG',\n",
       " 'TCCAATTATTCAAGGTCACAGTGACCCAAGTACTACAG',\n",
       " 'CTACTTCTCACAGGGTCAGTCTGTCCTGTGAGTTCCTA',\n",
       " 'GAGCCAAAAGGCAGGTCACGGTGTCCTGCAAAGGGCTG',\n",
       " 'GCATCCAACCCCAGGTCACTGTGACCCCAAGGCCTGGG',\n",
       " 'CCAGCTGGAAGCAGGTCAGGTTGCCCTGGCAGGCAGGT',\n",
       " 'AAACCTCAGTTAAGGTCACCTTGACCTCCAGCCAAAAT',\n",
       " 'GTCAGGATTGGGAGGTCATGGTGACCTCAGAAGAACAG',\n",
       " 'GTACAAATATTTGGGTCATGCTGACCTGGATGAAATTT',\n",
       " 'GCTAATCCTACTAGGTCATCATGACCTGCAATCACCCT',\n",
       " 'ATCTGGTCCTCTGGGTCACGGTGACATAGGGCTCAGGT',\n",
       " 'CTTTAAATTCAAAGGTCAGTGTGCCCTAAGGGAGGCGA',\n",
       " 'GTTTGTCAAATAAGGTCAGTGTGTCCTGTCACTCACCA',\n",
       " 'ACACTGACTACTAGGTCACTGTAACCTCACTATGATAC',\n",
       " 'AGAGACAGGAAAAGGTCAGCCTGCCCTGTAGCTACTGA',\n",
       " 'AGAAACTTGTCAAGGTCATTCTGACCTAGACTAGAGGG',\n",
       " 'GGGGACAGCTCTGGGTCAGCATGACCTTCTTTAGAGCC',\n",
       " 'AGGCCCTCTCCAAGGTCACTGTGACTTGCTTCTTCTTA',\n",
       " 'GACAGAGAGTCAAGGTCACCATGCCCTTTGCCCCGGCT',\n",
       " 'AGCACTGGGTGAAGGTCAGGTTGACATGCTTGCATTCC',\n",
       " 'ATTCTTGGCTCTAGGTCATCTTGACCTACAAACTGTTA',\n",
       " 'CAGCTGGCTTTGGGGTCAGAGTGACCTGGGTTGTTCGG',\n",
       " 'CATATATAGATAGGGTCAAAGTGACCTCAGCTTCAAGG',\n",
       " 'CAGAGCAGATCAAGGTCACTGCGACCTTCACCAAGTGG',\n",
       " 'CATGCCAAAGGAGGGTCATGATGACCTATGAAGAGATC',\n",
       " 'ATTCCCATTCCTGGGTCACAGTCACCTGGAAAACCTGA',\n",
       " 'GGCAGGGAAGGGAGGTCAGCTTGACCTGCTGCTTAATT',\n",
       " 'GGAGCAGTTATAAGGTCAGAGTGCCCTACCATCTTTCT',\n",
       " 'TTCTCCCTGCGTGGGTCAGAGTGACCCCAAAACTGATC',\n",
       " 'TGTCACTCTCAAAGGTCACTGTGAACTGTGGGGAGGGA',\n",
       " 'ACCAGGCACACAAGGTCACCCTAACCTCCCGGCTCTGC',\n",
       " 'AATCTGAAAACAGGGTCACAGTGACACGGCCAGAATGA',\n",
       " 'GGGAGAGGAGCGGGGTCAGAATGACCTCGTGGCTCTTG',\n",
       " 'AAAATTCCTCTGGGGTCAGGTTGACCTACAAAGAAAGC',\n",
       " 'CCTTTCCTACCTAGGTCATCTTGTCCTCTCATGTTCTG',\n",
       " 'ACTTGTTGGTCAAGGTCAGTTTGATCTTTGGGGATAAT',\n",
       " 'CTTGTCATTCATGGGTCATTTTGCCCTCAGATGCTTCT',\n",
       " 'CCCAGAGCGGCAAGGTCAAGATGTCCTAAGCTCCCTGT',\n",
       " 'CTCCACTGAGTGAGGTCATTGTGACCTCCAGCAGCAAA',\n",
       " 'TATTCAGGCTGTGGGTCACGGTGCTCTTTGTTGGGGGG',\n",
       " 'CTTTACATTCATAGGTCATCTTGACCTATGACCCATCC',\n",
       " 'TTTTGCAGCATGAGGTCATGGTGACCCCCGGGGAGACG',\n",
       " 'GAAAACTCTGATAGGTCACTATGCCCTTTAAGATAAAG',\n",
       " 'AGTGAAGCTGTGAGGTCAGGTTGCCCTATTAGACTGAG',\n",
       " 'CAGGACACACAAAAGTCACTGTGACCTCATTGGAGACA',\n",
       " 'ATCAGATGCACTGGATCAGGGTGTCCTGTCCAAGGAGA',\n",
       " 'TAACATATTAACGGGTCAGGTTGTCCTAATCTAAAGAA',\n",
       " 'TGATGCAGCTCAAGGTCACACTAACCCGCCCTGTGACA',\n",
       " 'TTCACTGCTCCTGGGTCACAGTCCCCTCGCTGTCACTG',\n",
       " 'AAGCCTTACACAGGGTCACAGTGAACCCCTGGGGATTT',\n",
       " 'GGCTGATCTGGCGGGCCAGGGTGACCTGTCGAAGGCCA',\n",
       " 'CTTCCCCCTGCAAGGTCACGGTGGCCACCCCGTGAGCC',\n",
       " 'CCCTGAAAAGATGGGTCACAATGACCCCTAAACCAGCC',\n",
       " 'CACATTGAAAAAAGGTCAGAGTGACATTTTCTACCTAA',\n",
       " 'TTTCACTTGCAAATGTCACAGTGTCCTGGCCAGAGCTA',\n",
       " 'CCACCTGTCTTTGTGTCACGTTGACCTTTCAGTCTTAA',\n",
       " 'GTTTGTTTTCCAGGGTCAGGTTGGCCCATTTCTAGCCC',\n",
       " 'CGAGTTCCCAGTGGGTCAAGTTGCCCCCGAGCGGCGTC',\n",
       " 'CTGCTCTGAGCAGGGTCACCTTGCCATTTTGTTTTAAA',\n",
       " 'TTGGCTCCCCAAAAGTCACGTTGACCTTTCCCATCACT',\n",
       " 'CAAGCAACAACAGGGTCAACGTGACATTAAATGGTATG',\n",
       " 'CAGGCTGCGGTAGAGTCAGAGTGACCTGAGGGGCTGAT',\n",
       " 'CCTCCATTGGCAAGGTCATGGTGAAATGCTGTCTCTTG',\n",
       " 'GACAGGCACAGAAGGTCACCTTGCCCCATGACTTGCCT',\n",
       " 'TATAATCCCAGAAGGTCAGGCTGTCCCAATCCTTGTAT',\n",
       " 'TCTTTTGCCTTGGTGTCACTGTGACCTGGCACGTAGTT',\n",
       " 'GAATTCTAAACAAGGTCATTTTGACATATGGAGAGCAT',\n",
       " 'TACTGCCTGCAAAGGTCTTGTTGACCTGGGACACTCAC',\n",
       " 'CTAAGGTCACCTTGCTCTGGGCTTGGTGAGGGGGGGGG',\n",
       " 'GGGCCCATCTCCAGGTCAGGTTCTCCTGGCTCCACCTG',\n",
       " 'GTGAAACTGGGTCAAGATGGCCTCGGATTTGAGCGGGG',\n",
       " 'CACCTCTCCTCCATGTCAAGGTGACCCCAAAATAGTAG',\n",
       " 'ATAAAGATCTCTGGGTCAACTTGACATCTTCTAGACTC',\n",
       " 'TTCAAGTTTATTAGGCCACAGTGACCTGTGTTTATCGC',\n",
       " 'CGTGCTCTGTATAGGTCACGGCGTCCCGGATCACGTTC',\n",
       " 'CGTGCTCTGTATAGGTCACGGCGTCCCGGATCACGTTC',\n",
       " 'GGTTGAGGCTCAGGGGCACTGCGACCTCACTGTGTCCC',\n",
       " 'AGTTACCGACCTGGGTCACGTTCACCCAGAGGGCAACT',\n",
       " 'TAAGGCTCAAAAAGGTCAGGTTATCCCGGCACCAGTCT',\n",
       " 'ATGTTGAGCTCAGAGTCAGAATGCCCTGCCCCAGACAT',\n",
       " 'GAAGGCCTGGCAAGGTCACTCTGAACCCAAGGGGTGAA',\n",
       " 'CGTGCTCCGTGTAGGTCACGGCGTCCCGGATCACGTTC',\n",
       " 'TAAAATAAACCAATGTCAAATTGACCTTTGGTTCCCTT',\n",
       " 'GGAGCCAGACTGAGGGCAGGGTGCCCTCCCTGCCCTCC',\n",
       " 'GAGGGATCCGTTGTGTCACAGTGACCCGCATTCCTGTC',\n",
       " 'TCACCATCAGCAAGGTCAGCTTGACACTCAAGTGGAAG',\n",
       " 'CAGCTTGCTTCTATGTCAATGTGCCCTTGCTCCTTACT',\n",
       " 'TGGCAAGACACAAGGTCAGTGTGGACTGGGCACATGGT',\n",
       " 'ACACTAAATGAAAGGTCATTTTACCCTCCTGGGGAGAT',\n",
       " 'AGTGATAGAGCGGTGTCAAGTTGACCTTTTGTAAAATC',\n",
       " 'GCGGCTGTGCCCGGGTCACGACGCCCTTTAAAGCTTCA',\n",
       " 'GCTCCTTCCCCAGGCTCACTGTGACCCAGCCATAGTTG',\n",
       " 'ACCCTGAGCTGCAGGTCACCCTAACCTGTTTGCCTTCC',\n",
       " 'GTCCCAAGGGCTGGGTCACCCTGCCACGGCCTCGCCCA',\n",
       " 'CTGCCACATCCTAGGGCATCATGACCTCAGAAAAATGC',\n",
       " 'AAACGTCATGCTGGGTCATGGTGAACAGGATCCAGGAC',\n",
       " 'AGTTGATAAACAGGGTCAGGCTGCTCAGAGGGAGAATG',\n",
       " 'TGCTTAACTTCTGTGTCACTGTGACATTTCTAAATGTC',\n",
       " 'TGTTTCCCATTTAGGTCACTTTGATCTATGACTGAGCC',\n",
       " 'CAAGTGTGCTCTGGGTCACCATGACCAACCTGTCAGTG',\n",
       " 'CACAAGGAGAAACGGTCATGGTGACCCATTCTGAGCTG',\n",
       " 'CACTGCTGGAGAAGGTCAGGTTCCCCCCTGCTGGAGAA',\n",
       " 'GGTTCCAGGGCAAGGTCAGTCCGACATGCATGAAACCC',\n",
       " 'AACAAATATACTGGGGCACGGTGGCCCCTTCTCTCCAG',\n",
       " 'CTGTGTGGTGGAAAGTCAGGGTGACCAGATGGCTTGGG',\n",
       " 'TTAGGGTCATGTTGACTTTTCCCCATATCGGGGGGGGG',\n",
       " 'GCGGATGTCAGAAGGTCAGGTCGCTCTGCTCCTTTCGC',\n",
       " 'TCTAAAGAGGTAATGTCAAAGTGCCCTCCAAAAAGGCT',\n",
       " 'ATTTCCACTTCTAGGTCAGAGAGACCCTATAACTTCAC',\n",
       " 'GAGGAGTCAGAAATGTCAAGCTGTCCTCGAAGGCAGCT',\n",
       " 'AAAACACAAAGAAGGTCAAGGTGCTCCTCAACTTAGAT',\n",
       " 'GAACGGGATCAACTGTCAGGCTGACCTGCCCCGCCCTC',\n",
       " 'ATGGCTCACCCTGACCTCTGCCTGAAACGGGGGGGGGG',\n",
       " 'TGGATTAACTATGAGTCAAGGTGCCCCGTGCCGACCCA',\n",
       " 'TGAACACTTGCCAGGTCACTTTGTTCTACTTAGATATA',\n",
       " 'CAGGGTGTGGCCAGGTCAAGGTGAACCACATGCTGCTG',\n",
       " 'TTAAATCACACTGGGTCACAGTGATTTCTGCCCTTAGA',\n",
       " 'CCGTCTGTCTGGGGGTCACAGCGTCCTGCGGAGGGACC',\n",
       " 'GATGTTAGAAAAAGGTCATCATAACCCGGAGTGCATTT',\n",
       " 'ATCTGTGGGACTAGGTCACTGTGACAAACTATATAATA',\n",
       " 'CTGGAAGATCTGGGGTCTTGGTGACCTCTCAGCTTTCA',\n",
       " 'AGGCGGCGGGGAGGGTCAGGGTGCGCTGTCTCCTCCGG',\n",
       " 'TTGGATTTCTTGGGGTCAAGCTAACCTCACCTAAAGAA',\n",
       " 'CGGTTCTTAGCAGGGGCAGCCCGCCCTGACATGCGTGT',\n",
       " 'AATGGAATGACAAAGTCACTCTGCCCCTGACTAGGTCA',\n",
       " 'CTGCTGAGTGACATGTCAAGCTGTCCTGAGAGCACACT',\n",
       " 'TTAAGAACGTCAAGATCATCTTGCCCTATAAAGGTTAT',\n",
       " 'ATTCAATGACCTGGGTCAAGAAGTCCTCCACAGGTCTG',\n",
       " 'TCATCTGTTTGTAGGTCAGCGTCACCCATAACTGTCTG',\n",
       " 'AGCAACTGACAGAGGTCAGGTCGACCCAGGGATCCTGA',\n",
       " 'CTCTGCCTGAGCATGTCATGCTGCCCTTGGGGGGGGGG',\n",
       " 'TGCAAAGAGAAAATGTCAGGGCGACATGCCGCCAAGAT',\n",
       " 'TGGGCCTTGTATGTGTCACGGTGACACATCTGCAGGGA',\n",
       " 'GCAAACCAAACAGTGTCACAGTGCTCCTGAAGAAAACG',\n",
       " 'TATGCATCTGGAAGGGCAGACTGCCCCCAGAATCCTGT',\n",
       " 'GGCTTCTGAGCTGAGTCAGACTGACCCATCCCACCGTT',\n",
       " 'CCTGACCCTGTGGGGTCACTTTGCTCTTTGTGACTTAA',\n",
       " 'CTCTCTTTGTCACGGTCACTGTGTCCACATCTGGATGC',\n",
       " 'GGGAACAGTCCAGGGTCAGACTGCTCACATGATGTGCT',\n",
       " 'ACTGGAGATGTGGGGTCATGGTGACTCCTGAGTGGAAA',\n",
       " 'TTCATCTGGAAGAGGTCAGGCTAAACTGAAGGTACACT',\n",
       " 'CGAGGCTTAACTAGGTCTGGTTGACCATTTCCTAGATC',\n",
       " 'GGGTGAGGGTCAAGGGCAACGAGCCCTGAGGCCACACC',\n",
       " 'TGGTAATGGTCTGGGACAAGGTGACCACAGCATTCTGA',\n",
       " 'AGAGCTGTGTGTAGGTCTTGGTGAACTGGAGTAAGATT',\n",
       " 'GGAGACTTGAACGGGTCACGTTACCTTGGCAAGTCTCC',\n",
       " 'TGGCAATGTTTTGTGCCACTGTGACCTCATAATGTTAA',\n",
       " 'AAGCACAGATGAAGGTCTAGGTGCCCCTTCGTTTCTGA',\n",
       " 'TTTGCTAAATGTGGGACAGGGAGACCTGTTTAGGATGA',\n",
       " 'ACAAGGGCAATGTCATGCTGATCCAGTACCTGTTGGGG',\n",
       " 'TGTTTGCCCTTAAGATCAGGTTGACCAGAGGAAGCCTG',\n",
       " 'AAAGATACACCTGTGTCACGCTGCTCCTTCCCCGACCG',\n",
       " 'GCCAGCAAGCTGAGGTCAAGCTGCACTGTCAATACAAC',\n",
       " 'GGGGCCTGGCAGGGGTCACCAAGCCCTGTGCCACATGA',\n",
       " 'CTTTGGAGAGGGAGGTCAGGGCACCCTTGCCTGGCACA',\n",
       " 'CCTACATATAGAGGGTCAGGATATCATCTTTGCACAGA',\n",
       " 'GGAGAATGCATGGGGACAGGATGCCCTGCTGATGGGTG',\n",
       " 'GCTGACAAAGCAGGGTCAGGGTATTATTTGCATTCTCC',\n",
       " 'TGGAGCTACAGAGGGCCATGCTGGCCTGGAATAGCGGC',\n",
       " 'CAAGACAAACCCAAGTCATGTTGATCTTCTGCTTCCTT',\n",
       " 'AGCACACACCTAATGTCATGCTGACATTCTTTACAACC',\n",
       " 'CCAGTTCCTGGGAGGGCAGTGTGACCAGGAGCAAGGAA',\n",
       " 'GCACTTAATTAAAAGGCAGCTTGACCTCCTTATCACCA',\n",
       " 'TCTGGCTAGGCCAGGGCAAAGGGACCTGGGCCATGACC',\n",
       " 'CTACAAAGACAAATGTCAGGATGACTTAGAGGCATTCA',\n",
       " 'GGTATTTCTGCTGGGTCACTTCATCCCGGGGGCCTCTG',\n",
       " 'ACCAGCAAACTAGGATCATCTTGTCCTGTATTTTTGCC',\n",
       " 'CCTTCTGAGTCAAGCTCAAGACGCCCTGCTGGCAAGTG',\n",
       " 'GTTCTTAAACCAGGGCCAGGTCACCCTGGAGAAGAACT',\n",
       " 'AGATTCATAATAGTGTCACTCTGACATTAACAAGCCTA',\n",
       " 'GCTGATAACCCAAGGTCTTGCTGAACTTGCTAGTACAA',\n",
       " 'ACACACCTGGCTGTGTCAATAGGACCTGCCTCTCCTAA',\n",
       " 'CTGACCCACACAGGGGCAACCTGAACTCCTGAGCCATA',\n",
       " 'ACAAATGTGTATGTGTCACAGTAACCCATTATTGTGGC',\n",
       " 'CAAAGGACCTCGGTGACATGTTGACCTCTCCCTCTGCC',\n",
       " 'GCCACTTACAGAAGGTCAGAGAGGCCTTCCTGGAAGGG',\n",
       " 'TTAAGACCTTGTGGGTCAGGGCTACCTGCCCAGTTCAG',\n",
       " 'TCCAATTGCTGCAGGTCACAGGAACCTTGATCTGTGCT',\n",
       " 'GACCATGAAGCCCGGTCACATGGCCCTGGGGCTGGGAG',\n",
       " 'TTCTGTTAACCTGGGTCATAAAGACATGAATGAGTTTA',\n",
       " 'AATGTATGTGCACTGTCACTTTGCTCTGGGTGGAAGTA',\n",
       " 'TCTCCCTGCCCAGAGTCACGCTGCCTCCCTGGTTACCT',\n",
       " 'TGCTAGATGCCAAGGTCATTTTGTTTTCCTTCAGAATC',\n",
       " 'AGGGTCTGTGCCAGGTCTGGGTGAACCTTTCTCCTCCT',\n",
       " 'CCGGATATATTTGGGTCACACTAATCTAAGCAGGAATT',\n",
       " 'ATCTTCTCCTGAGGGCCTGTTTGACCTGAGACACAAAC',\n",
       " 'AGTAAACAACCCAGGTCAGGATATCCATTTAAATTACC',\n",
       " 'AACAGGTTTTCAAGGGCAGCTTAACATTCTCAAGTGAT',\n",
       " 'TAGAACAGAGTGATGTCACTGTGCCTTGTTGCTGACAT',\n",
       " 'CCAGGTCTGAGGAGATCAGGTTGAACTGAACAAGGTTC',\n",
       " 'TGATCTACCCTTAGGTCACCCTGTTCCTCCTGACCCCT',\n",
       " 'CAAGCATGCTTAGGATCATTGTGCCCCACAATAAAAAA',\n",
       " 'GTCATCTTCAAAAGGTCACCAGGCACTGGATGACTTCA',\n",
       " 'TGTTACCACATAGGGTCAGGGCCCCCCAGGCCCCAGGT',\n",
       " 'ATGCCCTCATCTCTGGCACCTTGACCTGCCCCATCTCC',\n",
       " 'AATGAGATTGCAGGGGCAATGTGTTCCCTGCTTGAGAA',\n",
       " 'GAGAGGGCGGACAGGTCACTTTGTCTCCACTCTAGTTT',\n",
       " 'GGATGGTTTATAAGGTCACAAGCACCTGAGAAAAGATC',\n",
       " 'CAAGTGCACAATCGGTCATTATGACATGAGTTGATTTT',\n",
       " 'AATACTGAATCCAGGTCACCTAGCACTCGGTGGGGTAA',\n",
       " 'AAAGCCAGAGGAGGCTCAGTTAGACCTCAGAAGGGAAC',\n",
       " 'TTTATTTCATATGGGTCAGAGTGCTTTAGAAGACTGTT',\n",
       " 'CATTAAGAAAATAGATCATGTTGTTCTGAGTTGCTCTC',\n",
       " 'TTTGGACTAATCAGGTCACTACACCCTGACACAGCAGT',\n",
       " 'CCGGAGGGTGGTAGGTCACCGCGCTCCTAGCACCTGAG',\n",
       " 'AACAAAGTCAACGGCTCACTTTGTCCCCACCCCACCCT',\n",
       " 'GCCTTCTCCACAGGGTCATCCTCTCCAGCTTATATTCC',\n",
       " 'GCTTCTAACCGGGACTCAGGGTGCCCTCTGTAGAATAG',\n",
       " 'TCAGAAACTCTTATCTCACGTTAACCTGAGACCTTGCC',\n",
       " 'CCTACAGTCTCAGTGCCACTTTAACCCGTCCTTCTTGG',\n",
       " 'TCCGAATTTCAAGGACCAAGGTGACCCGACCTGTGTAT',\n",
       " 'TTACAGCCCTCACTGTCACCCTGTCCCCAGGTCCCTCC',\n",
       " 'GGTAAGAACACCAGGTCAGACTATCTTGCCTCCAGCAC',\n",
       " 'GGATTTTCTGGTGGGTCTCCCTACCCTCCATGAAAGAG',\n",
       " 'AAAAATTTCCCCGAGCCACTGTAACCTGAGCTAATGAA',\n",
       " 'GGTTTTCTTTCCAGGTCACTGGAATCTACAAAGCCACC',\n",
       " 'AAGTGTACTCCTGGGTCACCCCACTCTCCTGCAAGACA',\n",
       " 'GAACCATGCCAAGTGTCACTGTGACAAATGTCAAGTGT',\n",
       " 'AAACTCTGAATGTCACTTTAACATTTAAAAAGAGAGGG',\n",
       " 'GCCATTTTATCAAGGACAGAAAGCCCTGACCCACCACG',\n",
       " 'GGGGCTGTTTCCAGGCCAAGGTGCCTTTCTCAGATCCT',\n",
       " 'AGAAAACAGACAGGCTCAATTTCACCTATTCCTGCAAT',\n",
       " 'AAGGAGGCAAAAGGGACAGGCTGTACTCTAAAGGACTT',\n",
       " 'GCCAAGTAAACAAGGTCATATTGGACCAGACACAGCCG',\n",
       " 'CCCTCTCCCTGTGGGTCATTGTAAACCATTTTTAAGCC',\n",
       " 'TTGAGCAGGGGTGGAGCAGTCTGCCCTGTGCCGCTCTG',\n",
       " 'GTTTGCATTAGGAGGTCAAGCTGCTCAGTGCTGTCTTT',\n",
       " 'AGAAAGTGAACTGGGTCACCTGACACTGATCCAGAGAA',\n",
       " 'AACATCCCGTGAGGGCCAGGATGTTCCGCACGAGTCTC',\n",
       " 'AGATGACCTTATAGGACAGGCTGTACTGGTAGTGTGGG',\n",
       " 'TTTGGTGCCCTTGGGTCAGGTCTACCTGGCTCAACCTC',\n",
       " 'CTATCATAAGCAAGGTCAAGGTTTTCTCAGAAATTGCT',\n",
       " 'CTTGTTAGGTCATGGGCACCCTGAAACTAATCGGGGGG',\n",
       " 'GGGTCACCTGTGGGGTCAGGTGGTCATCATAGACACTA',\n",
       " 'CTCAGCACACGTGGGTCATCATAGCCTTGAGAATAGAT',\n",
       " 'AACAGTGCCCGTGGGCCAGAGTGTCCACAACACTCATT',\n",
       " 'GTAAACGAGTGAAGGTCTTGATGAACTTAAGAACAAAC',\n",
       " 'GACTGGTCTGCTGAGTCACAGCAACCCCACGCTCCAGG',\n",
       " 'TCAAGGTCTGCTTGGTCATGTTGCACTGTGTTTTCACC',\n",
       " 'AGCTTTTGACCCAGGTCAAAGGCTCCTGACACACACAA',\n",
       " 'CTTTCCAAGCCAGAGTCAAAGTCACATGGCTTGGTAGC',\n",
       " 'GGAGCGCATCACCGGTCAGTGCGCCCCCTCCAGGAGCG',\n",
       " 'AGCCGGTCAAGAATGTCATCTTGCTCCTCAATTTCTGT',\n",
       " 'CCACCATGATCAGTGTCACGGACACATCCCAGCATAGC',\n",
       " 'AGCCTGCTGCCAATATCAGAGTGATCCCTACCAATGTG',\n",
       " 'CACATTCTTGCCAGGTCATGATAATATTGCAAAAGTTG',\n",
       " 'CTAATCCTCCAGCGGTCACAGTGACTTATACAAGGGCT',\n",
       " 'CTCAGCCACAGTGAGTCAGTGTACACTGGCACGACTCC',\n",
       " 'CTAATTCCACGAAGCTCACTCTATCCTATTTCCATTTT',\n",
       " 'AATGAAGCACTGGGGTCATGTTGTTCACATCCTGGGAT',\n",
       " 'ACTCCATTTAGCGGGTCACGTAGCCACTAGGGCTTCCT',\n",
       " 'TTTATCCTACCAGGCCCAAAGTGATCTGGCCCCTGCCT',\n",
       " 'CTGCCTCCTGAAATGTCAGCGTAGCCCTCAAACTCATG',\n",
       " 'ACTTCAGTTTCAGGCTCACCAGAACCTCTTCTGACCAT',\n",
       " 'AGTGAGTAAAAAAAGGCATCTTAACCTGCTGGCTACCC',\n",
       " 'AAGCAGGACTGTGTATCAGTGTGCCCCATGTTGTTAGT',\n",
       " 'CGCAGCGAGTGACTGTCACGTGGACCCCTCTTACAACC',\n",
       " 'CAGCATTATCCCAGGACATGAGGTCCTGGAGGTTAGAG',\n",
       " 'AAAACCAAATGAGGCTCACTTTCTCCTTCCAGGTTTCC',\n",
       " 'AAAAATCTTTCAGGGGCAGGTAGAACCTAGAGCATCTC',\n",
       " 'CACCCTAACACTAGGTCAAAACAGCCTGGAGCTGCTTG',\n",
       " 'ACTAATTTCTCAAGGTCAGGATAGCTCTCTAAATAGAG',\n",
       " 'CCCCAGCTTCACAGCTCATGGTACTCTCGGTCTTTCCA',\n",
       " 'CCTGGACAGTCTGGGGCTGCGTGCTCTAGACCGGGGGC',\n",
       " 'TGCGTGTCCTCCAGGGCAGGGAGTCATTGGGAAGGCAG',\n",
       " 'GCTGCTTGTTCTGTGTCACTTGGCACCGAGGACATTGA',\n",
       " 'GGACATAGGCATAGGGCATGACACCCTCACTCTGCATG',\n",
       " 'CTGAAAGCAAATGGGTCATTATGACTATTTGCTTACGG',\n",
       " 'AGGACCAAGGCCAGGTCACCTGGTTCCAGGGCTTACGC',\n",
       " 'CTTTCCCTTTCTAGGTCAGGTCGTTACTGCTCATTTTG',\n",
       " 'GGCTTTGTTACCAAGTCAGGGTCCCACCTTCCCTAGGC',\n",
       " 'CATCCCCTGGTCATGTCATCGGGATCTGAGTGCCGGGG',\n",
       " 'TGTAAACAATTAGAGTCACCATGGTCTGAGCAGGATGA',\n",
       " 'GTGAGGCGAGGAAAGTCAGTCGAACCTCAATGAACTGG',\n",
       " 'CTCCAAGATAAAATCTCATTCTGTCCTTGTCCCTCTAA',\n",
       " 'TGAACTGGAACTATGTCACTACAACATGGTTTACAACA',\n",
       " 'TGCAAGGCACAGATGTCACCTCAACCTTCAGAAACACA',\n",
       " 'TAGCCCTGGAATAGGTCACCAGGCTCCAGCGACTATAA',\n",
       " 'TGTTCATAATCAAGGTCAGCATAGCACAAAGACTCCTA',\n",
       " 'ATAAATACTGCAAGCTCATTGTAATATCATAAAGTGAT',\n",
       " 'GAATGACAGCATGTCTCAGGATGTCCCAAAATGAGTCC',\n",
       " 'TAATAAGCAGCAAAGACAAGTTATCCTGGCATTTTACC',\n",
       " 'TAGGAGGGTCACAGGTCTGTGTGCTCAGCAAATGTTTG',\n",
       " 'TGGAGTGCCTGTGTGACTAGGTGACCTGTTATTTATGT',\n",
       " 'CGATGCCCAGTAAGGTCAGAGAGTTATCCTGCAGTAAC',\n",
       " 'ATGAGTTTTACTGGGTCTTGGTCTTCTATTTCAGTTGC',\n",
       " 'GAGAGAGGGCCACTCTCATTGTAACCTGTGCTCTCCAA',\n",
       " 'GTTTAATAGGGCAGGGCAAGCTGTACTTCTGAAAATGC',\n",
       " 'TGTCTCTCAAGAGGGCCAGGTTAACAAGGGGTCAGGGG',\n",
       " 'TGTTTTTTCCCAAGGTCAAAAGGGCCAGTAATTCACCC',\n",
       " 'GCTCCCCACCCCGGGTCACCCTAGTCCTCCAGTCGGCT',\n",
       " 'CAAACTCCTGCTTTGTCAGAGGGACCTGGGACTCAAGT',\n",
       " 'CATTCATGAGTTGGGTCACTCTAGACTTCACAGAACAG',\n",
       " 'TAATGACAGTATAACCTCAAGGTGTGGCGGGGGGGGGG',\n",
       " 'TCCCTCATCCTCAGGTCACAGTACATTGTTCTACTGTA',\n",
       " 'GCTAAATGACCCAGGGCATTCTCCCCCACAGCAGCGGA',\n",
       " 'CTATCTTTCCCTGGATCATATTCATCTCACATAATGCA',\n",
       " 'GTCTGCATCAAAATGCCAGATTGTCATCTCCAGTTTAG',\n",
       " 'CACATATTTAAAGAGGCAAGCTGTCCCACTGGAGAGAT',\n",
       " 'AGGGGAGCGCAGAGGTCAGTGAAATCCCCAGCCAGGCC',\n",
       " 'AGCATGACGCACAGGGCAGGCCGACTTTTTCAAGGGCA',\n",
       " 'GACAGCTGGCCTAGGGCATGGACACCAGTCTCAGGTTT',\n",
       " 'ATTTATGCTGTCCGGTCACCGTGACAATGCAGCTGAGG',\n",
       " 'TTAAGTGTTTATGGGCCACAGTGCAATACCAGCTGCCA',\n",
       " 'TAAAGAAGAGATGGCACATTCTGACCTAACTTCACTAG',\n",
       " 'AAAAACAGGGCCAGGGCACCTGAACATGCATGCAGGGA',\n",
       " 'GTTTACCCCCCAGGAGCAGGTGCACCTGGGTCACCTCA',\n",
       " 'TTAACGGGTTAGAGGGCAGTTAGAACTGCCCTTGCTGC',\n",
       " 'TTGGGTGGCACAGAGTCACGTTATTTTCTGACAGTGTA',\n",
       " 'ATTAAGCCAAAGGGGACATGTTGCTCCAGGGAGAGTCT',\n",
       " 'ATCAACATGTCAGGGTCAGGACGCGCCACACAGATGTG',\n",
       " 'TGAAAGGAACAAAACTCACATTCCCCTGACCCTGCTTT',\n",
       " 'TGGCAAGAAGGAGGCTCCCTGTGCCCTGGAGCTGCTCT',\n",
       " 'TTAAATTGCCTAAGGTCACGATATAACCACTGATAGAA',\n",
       " 'AGACTGTCTTTCATGTCACAGAGCCTTGCACTGTGAGA',\n",
       " 'GGCCCAAGATGCAGGTCTGGGTGCTTTAGGCAGGGAGT',\n",
       " 'GATTTTATCTCAGTGGCTCTTTCACCTCTTGGTAGCCC',\n",
       " 'AAGGGCTAGGAAATATCTATGTGCCCTGGGCAAATGCA',\n",
       " 'TGCTTCAAGGCAGGGCCACCGACTCCCCTAAGGTGTCC',\n",
       " 'AAGATAAACAAACAGTCATTCTGACATTTAGAGAGGCA',\n",
       " 'AAATGCCCTTCTAGAGCAAGTTGCCTTTTAAACGGCAA',\n",
       " 'AGCCAGAAGAAAGGGGCTCACTGTCCAGATACCACCCT',\n",
       " 'AAGACATTTGATAAGTCACAACGCACTCTACAAGTGCA',\n",
       " 'AATTCTCCACAGAGGCCAGAGTAATCCTTTTAAAACAG',\n",
       " 'TCACAGGCCAAAGGACCAGACTACCCTCAGAACCACCT',\n",
       " 'CTGGCATTCTGTGGGGCATCAGGGCCTCTTTAATTAGA',\n",
       " 'TTTGCACAGCAAATGTCACCCAGCACCCCCTCCAACCA',\n",
       " 'AGCAGAATGCTGCAGTCAGGGTGACACAATGCAAACTG',\n",
       " 'ATCTTGCAGTCCAGGTCAAAACATCCAGTTCCCTGCCT',\n",
       " 'CCAAGAGCTATGTGCCCCCAGAACACCCTGGGGGGGGG',\n",
       " 'AGGTAGCTGGAAGGGTCACTCTGGTAATAGACTGCTGC',\n",
       " 'CTCCAGCCAAAGAGATCAGCCTTCCCTGAACCCCTCCC']"
      ]
     },
     "execution_count": 2,
     "metadata": {},
     "output_type": "execute_result"
    }
   ],
   "source": [
    "def read_data():\n",
    "    with open('sequence.padded.txt') as handle:\n",
    "        # I dont think this is the actual sequences we should be using\n",
    "        # put using as placeholder for now.\n",
    "        return [s.strip() for s in handle.readlines()]\n",
    "\n",
    "data = read_data()\n",
    "data"
   ]
  },
  {
   "cell_type": "markdown",
   "id": "824d91ec",
   "metadata": {},
   "source": [
    "Create matrix $X_{i,j,p,k}$ using one-hot encoding scheme."
   ]
  },
  {
   "cell_type": "code",
   "execution_count": 112,
   "id": "9b1da2a3",
   "metadata": {},
   "outputs": [],
   "source": [
    "seq_length = len(data[0])\n",
    "motif_length = 8\n",
    "number_motifs = seq_length - motif_length + 1\n",
    "X = np.zeros((len(data), number_motifs, motif_length, 4))\n",
    "\n",
    "def nuc_to_one_hot(nuc):\n",
    "    # Convert nucleotide to the index in one hot encoded array\n",
    "    # that should be hot (==1)\n",
    "    upper_nuc = nuc.upper()\n",
    "    mapping = {'A': 0, 'T': 1, 'G': 2, 'C': 3}\n",
    "    return mapping[upper_nuc]\n",
    "\n",
    "j_p = []\n",
    "for i in range(seq_length):\n",
    "    for j in range(number_motifs):\n",
    "        for p in range(motif_length):\n",
    "            nuc = data[i][j+p]\n",
    "            k_hot = nuc_to_one_hot(nuc)\n",
    "            X[i][j][p][k_hot] = 1.0\n",
    "\n",
    "assert X.sum() == seq_length * number_motifs * motif_length"
   ]
  },
  {
   "cell_type": "markdown",
   "id": "e6a87f9d",
   "metadata": {},
   "source": [
    "Randomly initialize the model parameters."
   ]
  },
  {
   "cell_type": "code",
   "execution_count": 113,
   "id": "ddb2699a",
   "metadata": {},
   "outputs": [],
   "source": [
    "def init_EM(seq_length, motif_length):\n",
    "    number_motifs_per_sequence = seq_length - motif_length + 1\n",
    "    lambda_j = np.random.uniform(0, 1, size=(number_motifs_per_sequence,))\n",
    "    lambda_j_norm = lambda_j / lambda_j.sum()\n",
    "    psi_0 = np.random.uniform(0, 1, size=(4, motif_length))\n",
    "    psi_1 = np.random.uniform(0, 1, size=(4, motif_length))\n",
    "    psi_0 = (psi_0.T/psi_0.sum(axis=1)).T  # https://stackoverflow.com/questions/16202348/numpy-divide-row-by-row-sum\n",
    "    psi_1 = (psi_1.T/psi_1.sum(axis=1)).T\n",
    "    \n",
    "    return lambda_j_norm, psi_0, psi_1"
   ]
  },
  {
   "cell_type": "code",
   "execution_count": 116,
   "id": "70e371c6",
   "metadata": {},
   "outputs": [],
   "source": [
    "lambda_j, psi_0, psi_1 = init_EM(seq_length, motif_length)"
   ]
  },
  {
   "cell_type": "markdown",
   "id": "56920512",
   "metadata": {},
   "source": [
    "## E step"
   ]
  },
  {
   "cell_type": "markdown",
   "id": "2a75cdd5",
   "metadata": {},
   "source": [
    "![](e.png)"
   ]
  },
  {
   "cell_type": "markdown",
   "id": "1c8a7c4e",
   "metadata": {},
   "source": [
    "First calculate the numerator of the equation."
   ]
  },
  {
   "cell_type": "code",
   "execution_count": 124,
   "id": "91599068",
   "metadata": {},
   "outputs": [],
   "source": [
    "def e_numerator(i, j, X, lambda_j, psi_0, psi_1):\n",
    "    # i = current sequence\n",
    "    # j = current j index\n",
    "    # X = Data\n",
    "    psi_1_term = (X[i][j] * psi_1.T)\n",
    "    # remove zero terms this is in lieu of having exponent X_{i,j,p,k}\n",
    "    # whcih would cause 0 encoded values (cold values) to have\n",
    "    # value of 1 and therefore not contribute to the product\n",
    "    psi_1_term = psi_1_term[psi_1_term != 0]\n",
    "    # take product of all remaining terms (these are probibities seeing\n",
    "    # the bases in the given motif in their given positions given they\n",
    "    # are in the TFBS)\n",
    "    psi_1_term = np.log(psi_1_term).sum()\n",
    "    \n",
    "    # now need to get product of all other motifs (j' != j) but assuming they are\n",
    "    # not the TFBS (psi^0). \n",
    "    psi_0_term = X[i][np.arange(len(X[i]))!=j] * psi_0.T\n",
    "    psi_0_term = psi_0_term.flatten()\n",
    "    psi_0_term = np.log(psi_0_term[psi_0_term != 0]).sum()\n",
    "    return np.log(lambda_j[j]) + psi_0_term + psi_1_term  # log of products is sum of logs"
   ]
  },
  {
   "cell_type": "code",
   "execution_count": 119,
   "id": "019b629f",
   "metadata": {},
   "outputs": [
    {
     "data": {
      "text/plain": [
       "-604.4315015640672"
      ]
     },
     "execution_count": 119,
     "metadata": {},
     "output_type": "execute_result"
    }
   ],
   "source": [
    "numerator(0, 0, X, lambda_j, psi_0, psi_1)"
   ]
  },
  {
   "cell_type": "code",
   "execution_count": 125,
   "id": "c8f052b6",
   "metadata": {},
   "outputs": [],
   "source": [
    "def e_denominator(i, j, X, lambda_j, psi_0, psi_1):\n",
    "    # Get all lambda values that are not j\n",
    "    lambda_j_prime = np.delete(lambda_j, j)\n",
    "    sum_terms = []\n",
    "    j_prime_indexes = np.delete(list(range(len(lambda_j))), j)\n",
    "    for j_prime in j_prime_indexes:\n",
    "        psi_1_term = X[i][j_prime] * psi_0.T\n",
    "        psi_1_term = psi_1_term[psi_1_term != 0].flatten().prod()\n",
    "        psi_0_term = X[i][np.arange(len(X[i]))!=j_prime] * psi_0.T\n",
    "        psi_0_term = psi_1_term[psi_1_term != 0].prod()\n",
    "        sum_terms.append(\n",
    "            psi_1_term * psi_0_term * lambda_j[j_prime]\n",
    "        )\n",
    "    return np.log(sum(sum_terms))"
   ]
  },
  {
   "cell_type": "code",
   "execution_count": 121,
   "id": "99ecb9f4",
   "metadata": {
    "scrolled": true
   },
   "outputs": [
    {
     "data": {
      "text/plain": [
       "-32.26328611566109"
      ]
     },
     "execution_count": 121,
     "metadata": {},
     "output_type": "execute_result"
    }
   ],
   "source": [
    "denominator(0, 0, X, lambda_j, psi_0, psi_1)"
   ]
  },
  {
   "cell_type": "code",
   "execution_count": 141,
   "id": "a472bef6",
   "metadata": {},
   "outputs": [],
   "source": [
    "def e_step_ij(i, j, X, lambda_j, psi_0, psi_1):\n",
    "    # Calculate P(C_{i} = j | X_{i}, \\theta) for 1 i and j value\n",
    "    return e_numerator(i, j, X, lambda_j, psi_0, psi_1) - e_denominator(i, j, X, lambda_j, psi_0, psi_1) "
   ]
  },
  {
   "cell_type": "markdown",
   "id": "17454f04",
   "metadata": {},
   "source": [
    "Function to do one iteration of the I step."
   ]
  },
  {
   "cell_type": "code",
   "execution_count": 145,
   "id": "224bc085",
   "metadata": {},
   "outputs": [
    {
     "data": {
      "text/plain": [
       "array([-561.62499968, -561.7284384 , -566.68139075, -559.75908395,\n",
       "       -569.81150711, -564.11426938, -571.00151514, -564.9640083 ,\n",
       "       -556.81109116, -557.99471054, -564.32950531, -569.30222129,\n",
       "       -561.25281779, -563.72549226, -555.54360909, -567.83317061,\n",
       "       -566.18347438, -568.888207  , -556.64644839, -569.4309473 ,\n",
       "       -555.9208588 , -570.94257976, -568.38596906, -565.99833547,\n",
       "       -562.45530041, -560.59520836, -566.90519787, -562.83709335,\n",
       "       -564.79951559, -565.6166644 , -568.49565769])"
      ]
     },
     "execution_count": 145,
     "metadata": {},
     "output_type": "execute_result"
    }
   ],
   "source": [
    "def e_step(X, lambda_j, psi_0, psi_1):\n",
    "    posts = []\n",
    "    for i in range(X.shape[0]):  # number of sequences\n",
    "        posts.append(\n",
    "            [e_step_ij(i, j, X, lambda_j, psi_0, psi_1) for j in range(X.shape[1])]\n",
    "        )\n",
    "    return np.array(posts)\n",
    "\n",
    "e_step_1 = e_step(X, lambda_j, psi_0, psi_1)\n",
    "e_step_1[1]"
   ]
  },
  {
   "cell_type": "markdown",
   "id": "59b46126",
   "metadata": {},
   "source": [
    "Calculate ELBO. What exactly is ELBO here?"
   ]
  },
  {
   "cell_type": "markdown",
   "id": "2b1129dd",
   "metadata": {},
   "source": [
    "#### ELBO lecture notes\n",
    "\n",
    "- "
   ]
  },
  {
   "cell_type": "code",
   "execution_count": null,
   "id": "fac83850",
   "metadata": {},
   "outputs": [],
   "source": [
    "def loglikelihood(XXss, lambda_j, psi_0, psi_1, posteriors):\n",
    "    "
   ]
  },
  {
   "cell_type": "code",
   "execution_count": 150,
   "id": "0505735d",
   "metadata": {},
   "outputs": [
    {
     "data": {
      "text/plain": [
       "6.88684287167941e-245"
      ]
     },
     "execution_count": 150,
     "metadata": {},
     "output_type": "execute_result"
    }
   ],
   "source": [
    "sum(np.e ** e_step_1[2])"
   ]
  },
  {
   "cell_type": "markdown",
   "id": "6c084e15",
   "metadata": {},
   "source": [
    "## M step"
   ]
  },
  {
   "cell_type": "markdown",
   "id": "f489e589",
   "metadata": {},
   "source": [
    "Quon says $\\boldsymbol{E}[C_{i,j}] = P(C_{i} = j | X_{i}, \\theta)$"
   ]
  },
  {
   "cell_type": "markdown",
   "id": "e3a2c987",
   "metadata": {},
   "source": [
    "He also gives what $\\boldsymbol{E}[C_{i,j}] = P(C_{i} = j | X_{i}, \\theta)$ equals to in the E step (shown in the image below.)"
   ]
  },
  {
   "cell_type": "markdown",
   "id": "fb1c0235",
   "metadata": {},
   "source": [
    "### $\\lambda_{j}$"
   ]
  },
  {
   "cell_type": "markdown",
   "id": "08a6290f",
   "metadata": {},
   "source": [
    "Take sum of all values at each index $i$ over vector $C_{i, j}$ which would store prob each $j$ (each motif) being the transcription factor binding site and divide this value by the number of sequences $N$.\n",
    "- Would this not always just sum to 1? And therefore $\\lambda_{j}$ is basically fixed at 1 over the number of sequences?"
   ]
  },
  {
   "cell_type": "code",
   "execution_count": 169,
   "id": "358fc081",
   "metadata": {},
   "outputs": [
    {
     "data": {
      "text/plain": [
       "(357, 31)"
      ]
     },
     "execution_count": 169,
     "metadata": {},
     "output_type": "execute_result"
    }
   ],
   "source": [
    "e_step_1.shape"
   ]
  },
  {
   "cell_type": "code",
   "execution_count": 170,
   "id": "1ea165a2",
   "metadata": {},
   "outputs": [
    {
     "data": {
      "text/plain": [
       "array([-572.16821545, -580.7835557 , -577.38610676, -576.4721679 ,\n",
       "       -570.11963541, -571.41823003, -571.78661016, -582.11858281,\n",
       "       -569.35081316, -567.17825307, -572.22665658, -581.58766499,\n",
       "       -571.50237156, -575.87204121, -567.41126423, -574.52390012,\n",
       "       -576.24121983, -575.0131689 , -576.78227197, -572.02878225,\n",
       "       -567.38997154, -581.28441579, -576.08230422, -574.26195648,\n",
       "       -572.64333978, -571.28948864, -577.40812545, -571.41794428,\n",
       "       -569.90676362, -573.42478895, -568.176371  ])"
      ]
     },
     "execution_count": 170,
     "metadata": {},
     "output_type": "execute_result"
    }
   ],
   "source": [
    "e_step_1[0]"
   ]
  },
  {
   "cell_type": "code",
   "execution_count": null,
   "id": "c65f21ac",
   "metadata": {},
   "outputs": [],
   "source": [
    "e_step_1"
   ]
  },
  {
   "cell_type": "code",
   "execution_count": 174,
   "id": "999c8d1d",
   "metadata": {},
   "outputs": [],
   "source": [
    "def lambda_j_m_step(E_Cij, number_seqs):\n",
    "    return E_Cij.sum(axis=0) / number_seqs"
   ]
  },
  {
   "cell_type": "code",
   "execution_count": 171,
   "id": "457ed91a",
   "metadata": {},
   "outputs": [],
   "source": [
    "new_lambda_j = lambda_j_m_step(e_step_1, X.shape[0])"
   ]
  },
  {
   "cell_type": "code",
   "execution_count": 172,
   "id": "f2e44596",
   "metadata": {},
   "outputs": [
    {
     "data": {
      "text/plain": [
       "array([-62.71691577, -63.05779531, -63.31498319, -64.76568963,\n",
       "       -63.10450845, -63.14917784, -63.88537224, -63.52601493,\n",
       "       -62.4799424 , -63.25383101, -64.56375275, -64.04239571,\n",
       "       -63.01064996, -64.48868862, -61.98046732, -63.36127541,\n",
       "       -66.61330252, -66.37574594, -62.68994602, -62.92390036,\n",
       "       -62.51928642, -65.01503091, -63.63956944, -63.73426561,\n",
       "       -63.55859655, -63.12894706, -63.42997417, -62.76863772,\n",
       "       -63.44980247, -63.52538458, -63.18981867])"
      ]
     },
     "execution_count": 172,
     "metadata": {},
     "output_type": "execute_result"
    }
   ],
   "source": [
    "new_lambda_j"
   ]
  },
  {
   "cell_type": "code",
   "execution_count": 173,
   "id": "e8bc6191",
   "metadata": {},
   "outputs": [],
   "source": [
    "assert new_lambda_j.shape == lambda_j.shape"
   ]
  },
  {
   "cell_type": "markdown",
   "id": "bf68010a",
   "metadata": {},
   "source": [
    "### $\\psi^{1}_{p, k}$"
   ]
  },
  {
   "cell_type": "markdown",
   "id": "d38a02a0",
   "metadata": {},
   "source": [
    "- How does taking a sum over $i$ for $C_{i, j}$look compared to taking a sum over $i$ and $j$?"
   ]
  },
  {
   "cell_type": "markdown",
   "id": "a80c70db",
   "metadata": {},
   "source": [
    "Product of indicator variables for a given motif (For example the matrix at `X[0][0]`) and the expectation at that motif calculated during the E step. Then take a sum overall all those values and divide by the number of sequences."
   ]
  },
  {
   "cell_type": "code",
   "execution_count": 175,
   "id": "a385ee73",
   "metadata": {},
   "outputs": [
    {
     "data": {
      "text/plain": [
       "-1.6027120880907733"
      ]
     },
     "execution_count": 175,
     "metadata": {},
     "output_type": "execute_result"
    }
   ],
   "source": [
    "(X[0][0][0][0]*e_step_1[0][0]) / N # this would product one cell in the psi matrix need to iterate through p and Ks"
   ]
  },
  {
   "cell_type": "code",
   "execution_count": 176,
   "id": "09827e08",
   "metadata": {},
   "outputs": [
    {
     "data": {
      "text/plain": [
       "(4, 8)"
      ]
     },
     "execution_count": 176,
     "metadata": {},
     "output_type": "execute_result"
    }
   ],
   "source": [
    "def psi_1_m_step(E_Cij, psi_1, num_seqs):\n",
    "    for p in range(psi_1.T.shape[0]):\n",
    "        for k in range(psi_1.T.shape[1]):\n",
    "            products = []\n",
    "            for i in range(X.shape[0]):\n",
    "                for j in range(X.shape[1]):\n",
    "                    products.append(X[i][j][p][k] * E_Cij[i][j])\n",
    "            psi_1[k][p] = sum(products) / num_seqs\n",
    "    return psi_1\n",
    "\n",
    "psi_1_m_step(e_step_1, psi_1, X.shape[0]).shape"
   ]
  },
  {
   "cell_type": "markdown",
   "id": "37ef5ec7",
   "metadata": {},
   "source": [
    "### $\\psi^{0}_{p, k}$\n",
    "\n",
    "Seems pretty much like other $\\psi$ but add some subtractions and change the denominator to the number of sequences times the number of possible motifs."
   ]
  },
  {
   "cell_type": "code",
   "execution_count": 168,
   "id": "d6d1f08f",
   "metadata": {},
   "outputs": [
    {
     "data": {
      "text/plain": [
       "array([[-4.23607898e+02, -4.20529241e+02, -4.26709246e+02,\n",
       "        -4.27233861e+02, -4.27895316e+02, -4.23155964e+02,\n",
       "        -4.23142528e+02, -4.20013611e+02],\n",
       "       [-4.55653290e+02, -4.48071800e+02, -4.49344839e+02,\n",
       "        -4.44374676e+02, -4.46188364e+02, -4.48676340e+02,\n",
       "        -4.35623737e+02, -4.36874457e+02],\n",
       "       [-5.13292563e+02, -5.17618903e+02, -5.10672147e+02,\n",
       "        -5.14357574e+02, -5.12092142e+02, -5.14136138e+02,\n",
       "        -5.27983553e+02, -5.40014776e+02],\n",
       "       [ 4.43182475e-01,  4.43509192e-01,  4.43073123e-01,\n",
       "         4.43163578e-01,  4.43034622e-01,  4.43192189e-01,\n",
       "         4.43106579e-01,  4.43459694e-01]])"
      ]
     },
     "execution_count": 168,
     "metadata": {},
     "output_type": "execute_result"
    }
   ],
   "source": [
    "seq_len = 100\n",
    "def psi_0_m_step(E_Cij, psi_0, seq_len, num_seqs):\n",
    "    for p in range(psi_1.T.shape[0]):\n",
    "        for k in range(psi_1.T.shape[1]):\n",
    "            products = []\n",
    "            for i in range(X.shape[0]):\n",
    "                for j in range(X.shape[1]):\n",
    "                    products.append(1 - X[i][j][p][k] * rand[i][j])\n",
    "        psi_1[k][p] = sum(products) / ((seq_len - X.shape[1] + 1 - 1) * num_seqs)\n",
    "    \n",
    "    return psi_1\n",
    "\n",
    "psi_0_m_step(e_step_1, psi_0, seq_len, X.shape[0])"
   ]
  },
  {
   "cell_type": "code",
   "execution_count": 177,
   "id": "6845c8b4",
   "metadata": {},
   "outputs": [
    {
     "data": {
      "text/plain": [
       "array([[1., 0., 0., 0.],\n",
       "       [0., 1., 0., 0.],\n",
       "       [1., 0., 0., 0.],\n",
       "       [0., 0., 0., 1.],\n",
       "       [0., 0., 0., 1.],\n",
       "       [0., 0., 0., 1.],\n",
       "       [0., 0., 0., 1.],\n",
       "       [0., 1., 0., 0.]])"
      ]
     },
     "execution_count": 177,
     "metadata": {},
     "output_type": "execute_result"
    }
   ],
   "source": [
    "X[0][0]"
   ]
  },
  {
   "cell_type": "code",
   "execution_count": 178,
   "id": "96552061",
   "metadata": {},
   "outputs": [
    {
     "data": {
      "text/plain": [
       "array([[-423.60789849,   -0.        ,   -0.        ,   -0.        ],\n",
       "       [  -0.        , -448.07180045,   -0.        ,   -0.        ],\n",
       "       [-426.7092458 ,   -0.        ,   -0.        ,   -0.        ],\n",
       "       [  -0.        ,   -0.        ,   -0.        , -483.94149548],\n",
       "       [  -0.        ,   -0.        ,   -0.        , -483.73178397],\n",
       "       [  -0.        ,   -0.        ,   -0.        , -483.9391633 ],\n",
       "       [  -0.        ,   -0.        ,   -0.        , -483.15778753],\n",
       "       [  -0.        , -436.87445744,   -0.        ,   -0.        ]])"
      ]
     },
     "execution_count": 178,
     "metadata": {},
     "output_type": "execute_result"
    }
   ],
   "source": [
    "X[0][0] * psi_1.T"
   ]
  }
 ],
 "metadata": {
  "kernelspec": {
   "display_name": "Python 3",
   "language": "python",
   "name": "python3"
  },
  "language_info": {
   "codemirror_mode": {
    "name": "ipython",
    "version": 3
   },
   "file_extension": ".py",
   "mimetype": "text/x-python",
   "name": "python",
   "nbconvert_exporter": "python",
   "pygments_lexer": "ipython3",
   "version": "3.9.6"
  }
 },
 "nbformat": 4,
 "nbformat_minor": 5
}
