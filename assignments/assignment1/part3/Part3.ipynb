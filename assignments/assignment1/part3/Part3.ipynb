{
 "cells": [
  {
   "cell_type": "markdown",
   "id": "03cea718",
   "metadata": {},
   "source": [
    "# Part 3: EM implementation"
   ]
  },
  {
   "cell_type": "code",
   "execution_count": 1,
   "id": "2dba9ddb",
   "metadata": {},
   "outputs": [],
   "source": [
    "import numpy as np\n",
    "from sklearn.preprocessing import OneHotEncoder"
   ]
  },
  {
   "cell_type": "code",
   "execution_count": 2,
   "id": "096c4963",
   "metadata": {},
   "outputs": [
    {
     "data": {
      "text/plain": [
       "['ATACCCCTGGCTGGGTCATGGTGACCTGGAGGAAGCGT',\n",
       " 'CATATATGGCCAGGGTCAGTGTGACCTCCATTTCCCAT',\n",
       " 'AGCAGCTGGCCTGGGTCACAGTGACCTGACCTCAAACC',\n",
       " 'AGGCTGTGTACAAGGTCAGAGTGACCTCTAGAAGCTCT',\n",
       " 'TACTCTAGTTCCAGGTCATGGTGACCTGTGAAAAATCT',\n",
       " 'AGGACTGTTTCAAGGTCACGGTGACCCTCGTGGGCTGT',\n",
       " 'GCAGGAAGTTTTGGGTCACGGTGACCTCTAGTTGTTGA',\n",
       " 'CAAGTGCTTCAAAGGTCATGGTGCCCTGGGGCCGAGAG',\n",
       " 'ACCAACATGGCAGGGTCAAGTTGACCTCCCTGGCCACT',\n",
       " 'TCTCTCTCTAGTAGGTCATGGTGACCTGTACACATTAT',\n",
       " 'TCAGACCACAGAGGGTCAAGGTGACCTGAGAGATCAGT',\n",
       " 'AGGCAATTCACTAGGTCAGGATGCCCTGGGGCAACAGT',\n",
       " 'TAGTCCTGAAAAGGGTCATGTTGACCTGATTGTCATGT',\n",
       " 'ATTAACTCTTCTAGGTCAGTGTGACCTAAACTCATCGG',\n",
       " 'GGACAATTATTGGGGTCACGGTGACCTGCCTGTTTCAG',\n",
       " 'GGTCCATAATATAGGTCATGTTGACCTGGGACAACTGG',\n",
       " 'CTCCAGGAGCAGGGGTCAGGGTGACCTCCAGCTCCTCA',\n",
       " 'GAGCCCATCTCTGGGTCATGTTGCCCTCTTACAGCACA',\n",
       " 'TGGGTTAAACCTGGGTCATGTTGACCTAGATACATCTC',\n",
       " 'GTGACATCCCCAGGGTCAAAGTGCCCTGAGTCTGGAGA',\n",
       " 'GCCTTCTAGGTCAGCATGACCTGGTCCTCAGAGGGGGG',\n",
       " 'GGCAATGAATCAAGGTCAGGCTAACCTGGCTTACTGCA',\n",
       " 'CCTACTAGCCCTGGGTCAACGTGCCCTGTAAGAGCATG',\n",
       " 'GGCGCAGCCCCAAGGTCAGGGTCACCTCGAGCCTCCAG',\n",
       " 'ACTTCTCCACAGAGGTCACGTTGACCTCCATGTGGCCA',\n",
       " 'TTGAAGTGACCCAGGTCACCTTGCCCTGAATGCTTAAG',\n",
       " 'TCCAATTATTCAAGGTCACAGTGACCCAAGTACTACAG',\n",
       " 'CTACTTCTCACAGGGTCAGTCTGTCCTGTGAGTTCCTA',\n",
       " 'GAGCCAAAAGGCAGGTCACGGTGTCCTGCAAAGGGCTG',\n",
       " 'GCATCCAACCCCAGGTCACTGTGACCCCAAGGCCTGGG',\n",
       " 'CCAGCTGGAAGCAGGTCAGGTTGCCCTGGCAGGCAGGT',\n",
       " 'AAACCTCAGTTAAGGTCACCTTGACCTCCAGCCAAAAT',\n",
       " 'GTCAGGATTGGGAGGTCATGGTGACCTCAGAAGAACAG',\n",
       " 'GTACAAATATTTGGGTCATGCTGACCTGGATGAAATTT',\n",
       " 'GCTAATCCTACTAGGTCATCATGACCTGCAATCACCCT',\n",
       " 'ATCTGGTCCTCTGGGTCACGGTGACATAGGGCTCAGGT',\n",
       " 'CTTTAAATTCAAAGGTCAGTGTGCCCTAAGGGAGGCGA',\n",
       " 'GTTTGTCAAATAAGGTCAGTGTGTCCTGTCACTCACCA',\n",
       " 'ACACTGACTACTAGGTCACTGTAACCTCACTATGATAC',\n",
       " 'AGAGACAGGAAAAGGTCAGCCTGCCCTGTAGCTACTGA',\n",
       " 'AGAAACTTGTCAAGGTCATTCTGACCTAGACTAGAGGG',\n",
       " 'GGGGACAGCTCTGGGTCAGCATGACCTTCTTTAGAGCC',\n",
       " 'AGGCCCTCTCCAAGGTCACTGTGACTTGCTTCTTCTTA',\n",
       " 'GACAGAGAGTCAAGGTCACCATGCCCTTTGCCCCGGCT',\n",
       " 'AGCACTGGGTGAAGGTCAGGTTGACATGCTTGCATTCC',\n",
       " 'ATTCTTGGCTCTAGGTCATCTTGACCTACAAACTGTTA',\n",
       " 'CAGCTGGCTTTGGGGTCAGAGTGACCTGGGTTGTTCGG',\n",
       " 'CATATATAGATAGGGTCAAAGTGACCTCAGCTTCAAGG',\n",
       " 'CAGAGCAGATCAAGGTCACTGCGACCTTCACCAAGTGG',\n",
       " 'CATGCCAAAGGAGGGTCATGATGACCTATGAAGAGATC',\n",
       " 'ATTCCCATTCCTGGGTCACAGTCACCTGGAAAACCTGA',\n",
       " 'GGCAGGGAAGGGAGGTCAGCTTGACCTGCTGCTTAATT',\n",
       " 'GGAGCAGTTATAAGGTCAGAGTGCCCTACCATCTTTCT',\n",
       " 'TTCTCCCTGCGTGGGTCAGAGTGACCCCAAAACTGATC',\n",
       " 'TGTCACTCTCAAAGGTCACTGTGAACTGTGGGGAGGGA',\n",
       " 'ACCAGGCACACAAGGTCACCCTAACCTCCCGGCTCTGC',\n",
       " 'AATCTGAAAACAGGGTCACAGTGACACGGCCAGAATGA',\n",
       " 'GGGAGAGGAGCGGGGTCAGAATGACCTCGTGGCTCTTG',\n",
       " 'AAAATTCCTCTGGGGTCAGGTTGACCTACAAAGAAAGC',\n",
       " 'CCTTTCCTACCTAGGTCATCTTGTCCTCTCATGTTCTG',\n",
       " 'ACTTGTTGGTCAAGGTCAGTTTGATCTTTGGGGATAAT',\n",
       " 'CTTGTCATTCATGGGTCATTTTGCCCTCAGATGCTTCT',\n",
       " 'CCCAGAGCGGCAAGGTCAAGATGTCCTAAGCTCCCTGT',\n",
       " 'CTCCACTGAGTGAGGTCATTGTGACCTCCAGCAGCAAA',\n",
       " 'TATTCAGGCTGTGGGTCACGGTGCTCTTTGTTGGGGGG',\n",
       " 'CTTTACATTCATAGGTCATCTTGACCTATGACCCATCC',\n",
       " 'TTTTGCAGCATGAGGTCATGGTGACCCCCGGGGAGACG',\n",
       " 'GAAAACTCTGATAGGTCACTATGCCCTTTAAGATAAAG',\n",
       " 'AGTGAAGCTGTGAGGTCAGGTTGCCCTATTAGACTGAG',\n",
       " 'CAGGACACACAAAAGTCACTGTGACCTCATTGGAGACA',\n",
       " 'ATCAGATGCACTGGATCAGGGTGTCCTGTCCAAGGAGA',\n",
       " 'TAACATATTAACGGGTCAGGTTGTCCTAATCTAAAGAA',\n",
       " 'TGATGCAGCTCAAGGTCACACTAACCCGCCCTGTGACA',\n",
       " 'TTCACTGCTCCTGGGTCACAGTCCCCTCGCTGTCACTG',\n",
       " 'AAGCCTTACACAGGGTCACAGTGAACCCCTGGGGATTT',\n",
       " 'GGCTGATCTGGCGGGCCAGGGTGACCTGTCGAAGGCCA',\n",
       " 'CTTCCCCCTGCAAGGTCACGGTGGCCACCCCGTGAGCC',\n",
       " 'CCCTGAAAAGATGGGTCACAATGACCCCTAAACCAGCC',\n",
       " 'CACATTGAAAAAAGGTCAGAGTGACATTTTCTACCTAA',\n",
       " 'TTTCACTTGCAAATGTCACAGTGTCCTGGCCAGAGCTA',\n",
       " 'CCACCTGTCTTTGTGTCACGTTGACCTTTCAGTCTTAA',\n",
       " 'GTTTGTTTTCCAGGGTCAGGTTGGCCCATTTCTAGCCC',\n",
       " 'CGAGTTCCCAGTGGGTCAAGTTGCCCCCGAGCGGCGTC',\n",
       " 'CTGCTCTGAGCAGGGTCACCTTGCCATTTTGTTTTAAA',\n",
       " 'TTGGCTCCCCAAAAGTCACGTTGACCTTTCCCATCACT',\n",
       " 'CAAGCAACAACAGGGTCAACGTGACATTAAATGGTATG',\n",
       " 'CAGGCTGCGGTAGAGTCAGAGTGACCTGAGGGGCTGAT',\n",
       " 'CCTCCATTGGCAAGGTCATGGTGAAATGCTGTCTCTTG',\n",
       " 'GACAGGCACAGAAGGTCACCTTGCCCCATGACTTGCCT',\n",
       " 'TATAATCCCAGAAGGTCAGGCTGTCCCAATCCTTGTAT',\n",
       " 'TCTTTTGCCTTGGTGTCACTGTGACCTGGCACGTAGTT',\n",
       " 'GAATTCTAAACAAGGTCATTTTGACATATGGAGAGCAT',\n",
       " 'TACTGCCTGCAAAGGTCTTGTTGACCTGGGACACTCAC',\n",
       " 'CTAAGGTCACCTTGCTCTGGGCTTGGTGAGGGGGGGGG',\n",
       " 'GGGCCCATCTCCAGGTCAGGTTCTCCTGGCTCCACCTG',\n",
       " 'GTGAAACTGGGTCAAGATGGCCTCGGATTTGAGCGGGG',\n",
       " 'CACCTCTCCTCCATGTCAAGGTGACCCCAAAATAGTAG',\n",
       " 'ATAAAGATCTCTGGGTCAACTTGACATCTTCTAGACTC',\n",
       " 'TTCAAGTTTATTAGGCCACAGTGACCTGTGTTTATCGC',\n",
       " 'CGTGCTCTGTATAGGTCACGGCGTCCCGGATCACGTTC',\n",
       " 'CGTGCTCTGTATAGGTCACGGCGTCCCGGATCACGTTC',\n",
       " 'GGTTGAGGCTCAGGGGCACTGCGACCTCACTGTGTCCC',\n",
       " 'AGTTACCGACCTGGGTCACGTTCACCCAGAGGGCAACT',\n",
       " 'TAAGGCTCAAAAAGGTCAGGTTATCCCGGCACCAGTCT',\n",
       " 'ATGTTGAGCTCAGAGTCAGAATGCCCTGCCCCAGACAT',\n",
       " 'GAAGGCCTGGCAAGGTCACTCTGAACCCAAGGGGTGAA',\n",
       " 'CGTGCTCCGTGTAGGTCACGGCGTCCCGGATCACGTTC',\n",
       " 'TAAAATAAACCAATGTCAAATTGACCTTTGGTTCCCTT',\n",
       " 'GGAGCCAGACTGAGGGCAGGGTGCCCTCCCTGCCCTCC',\n",
       " 'GAGGGATCCGTTGTGTCACAGTGACCCGCATTCCTGTC',\n",
       " 'TCACCATCAGCAAGGTCAGCTTGACACTCAAGTGGAAG',\n",
       " 'CAGCTTGCTTCTATGTCAATGTGCCCTTGCTCCTTACT',\n",
       " 'TGGCAAGACACAAGGTCAGTGTGGACTGGGCACATGGT',\n",
       " 'ACACTAAATGAAAGGTCATTTTACCCTCCTGGGGAGAT',\n",
       " 'AGTGATAGAGCGGTGTCAAGTTGACCTTTTGTAAAATC',\n",
       " 'GCGGCTGTGCCCGGGTCACGACGCCCTTTAAAGCTTCA',\n",
       " 'GCTCCTTCCCCAGGCTCACTGTGACCCAGCCATAGTTG',\n",
       " 'ACCCTGAGCTGCAGGTCACCCTAACCTGTTTGCCTTCC',\n",
       " 'GTCCCAAGGGCTGGGTCACCCTGCCACGGCCTCGCCCA',\n",
       " 'CTGCCACATCCTAGGGCATCATGACCTCAGAAAAATGC',\n",
       " 'AAACGTCATGCTGGGTCATGGTGAACAGGATCCAGGAC',\n",
       " 'AGTTGATAAACAGGGTCAGGCTGCTCAGAGGGAGAATG',\n",
       " 'TGCTTAACTTCTGTGTCACTGTGACATTTCTAAATGTC',\n",
       " 'TGTTTCCCATTTAGGTCACTTTGATCTATGACTGAGCC',\n",
       " 'CAAGTGTGCTCTGGGTCACCATGACCAACCTGTCAGTG',\n",
       " 'CACAAGGAGAAACGGTCATGGTGACCCATTCTGAGCTG',\n",
       " 'CACTGCTGGAGAAGGTCAGGTTCCCCCCTGCTGGAGAA',\n",
       " 'GGTTCCAGGGCAAGGTCAGTCCGACATGCATGAAACCC',\n",
       " 'AACAAATATACTGGGGCACGGTGGCCCCTTCTCTCCAG',\n",
       " 'CTGTGTGGTGGAAAGTCAGGGTGACCAGATGGCTTGGG',\n",
       " 'TTAGGGTCATGTTGACTTTTCCCCATATCGGGGGGGGG',\n",
       " 'GCGGATGTCAGAAGGTCAGGTCGCTCTGCTCCTTTCGC',\n",
       " 'TCTAAAGAGGTAATGTCAAAGTGCCCTCCAAAAAGGCT',\n",
       " 'ATTTCCACTTCTAGGTCAGAGAGACCCTATAACTTCAC',\n",
       " 'GAGGAGTCAGAAATGTCAAGCTGTCCTCGAAGGCAGCT',\n",
       " 'AAAACACAAAGAAGGTCAAGGTGCTCCTCAACTTAGAT',\n",
       " 'GAACGGGATCAACTGTCAGGCTGACCTGCCCCGCCCTC',\n",
       " 'ATGGCTCACCCTGACCTCTGCCTGAAACGGGGGGGGGG',\n",
       " 'TGGATTAACTATGAGTCAAGGTGCCCCGTGCCGACCCA',\n",
       " 'TGAACACTTGCCAGGTCACTTTGTTCTACTTAGATATA',\n",
       " 'CAGGGTGTGGCCAGGTCAAGGTGAACCACATGCTGCTG',\n",
       " 'TTAAATCACACTGGGTCACAGTGATTTCTGCCCTTAGA',\n",
       " 'CCGTCTGTCTGGGGGTCACAGCGTCCTGCGGAGGGACC',\n",
       " 'GATGTTAGAAAAAGGTCATCATAACCCGGAGTGCATTT',\n",
       " 'ATCTGTGGGACTAGGTCACTGTGACAAACTATATAATA',\n",
       " 'CTGGAAGATCTGGGGTCTTGGTGACCTCTCAGCTTTCA',\n",
       " 'AGGCGGCGGGGAGGGTCAGGGTGCGCTGTCTCCTCCGG',\n",
       " 'TTGGATTTCTTGGGGTCAAGCTAACCTCACCTAAAGAA',\n",
       " 'CGGTTCTTAGCAGGGGCAGCCCGCCCTGACATGCGTGT',\n",
       " 'AATGGAATGACAAAGTCACTCTGCCCCTGACTAGGTCA',\n",
       " 'CTGCTGAGTGACATGTCAAGCTGTCCTGAGAGCACACT',\n",
       " 'TTAAGAACGTCAAGATCATCTTGCCCTATAAAGGTTAT',\n",
       " 'ATTCAATGACCTGGGTCAAGAAGTCCTCCACAGGTCTG',\n",
       " 'TCATCTGTTTGTAGGTCAGCGTCACCCATAACTGTCTG',\n",
       " 'AGCAACTGACAGAGGTCAGGTCGACCCAGGGATCCTGA',\n",
       " 'CTCTGCCTGAGCATGTCATGCTGCCCTTGGGGGGGGGG',\n",
       " 'TGCAAAGAGAAAATGTCAGGGCGACATGCCGCCAAGAT',\n",
       " 'TGGGCCTTGTATGTGTCACGGTGACACATCTGCAGGGA',\n",
       " 'GCAAACCAAACAGTGTCACAGTGCTCCTGAAGAAAACG',\n",
       " 'TATGCATCTGGAAGGGCAGACTGCCCCCAGAATCCTGT',\n",
       " 'GGCTTCTGAGCTGAGTCAGACTGACCCATCCCACCGTT',\n",
       " 'CCTGACCCTGTGGGGTCACTTTGCTCTTTGTGACTTAA',\n",
       " 'CTCTCTTTGTCACGGTCACTGTGTCCACATCTGGATGC',\n",
       " 'GGGAACAGTCCAGGGTCAGACTGCTCACATGATGTGCT',\n",
       " 'ACTGGAGATGTGGGGTCATGGTGACTCCTGAGTGGAAA',\n",
       " 'TTCATCTGGAAGAGGTCAGGCTAAACTGAAGGTACACT',\n",
       " 'CGAGGCTTAACTAGGTCTGGTTGACCATTTCCTAGATC',\n",
       " 'GGGTGAGGGTCAAGGGCAACGAGCCCTGAGGCCACACC',\n",
       " 'TGGTAATGGTCTGGGACAAGGTGACCACAGCATTCTGA',\n",
       " 'AGAGCTGTGTGTAGGTCTTGGTGAACTGGAGTAAGATT',\n",
       " 'GGAGACTTGAACGGGTCACGTTACCTTGGCAAGTCTCC',\n",
       " 'TGGCAATGTTTTGTGCCACTGTGACCTCATAATGTTAA',\n",
       " 'AAGCACAGATGAAGGTCTAGGTGCCCCTTCGTTTCTGA',\n",
       " 'TTTGCTAAATGTGGGACAGGGAGACCTGTTTAGGATGA',\n",
       " 'ACAAGGGCAATGTCATGCTGATCCAGTACCTGTTGGGG',\n",
       " 'TGTTTGCCCTTAAGATCAGGTTGACCAGAGGAAGCCTG',\n",
       " 'AAAGATACACCTGTGTCACGCTGCTCCTTCCCCGACCG',\n",
       " 'GCCAGCAAGCTGAGGTCAAGCTGCACTGTCAATACAAC',\n",
       " 'GGGGCCTGGCAGGGGTCACCAAGCCCTGTGCCACATGA',\n",
       " 'CTTTGGAGAGGGAGGTCAGGGCACCCTTGCCTGGCACA',\n",
       " 'CCTACATATAGAGGGTCAGGATATCATCTTTGCACAGA',\n",
       " 'GGAGAATGCATGGGGACAGGATGCCCTGCTGATGGGTG',\n",
       " 'GCTGACAAAGCAGGGTCAGGGTATTATTTGCATTCTCC',\n",
       " 'TGGAGCTACAGAGGGCCATGCTGGCCTGGAATAGCGGC',\n",
       " 'CAAGACAAACCCAAGTCATGTTGATCTTCTGCTTCCTT',\n",
       " 'AGCACACACCTAATGTCATGCTGACATTCTTTACAACC',\n",
       " 'CCAGTTCCTGGGAGGGCAGTGTGACCAGGAGCAAGGAA',\n",
       " 'GCACTTAATTAAAAGGCAGCTTGACCTCCTTATCACCA',\n",
       " 'TCTGGCTAGGCCAGGGCAAAGGGACCTGGGCCATGACC',\n",
       " 'CTACAAAGACAAATGTCAGGATGACTTAGAGGCATTCA',\n",
       " 'GGTATTTCTGCTGGGTCACTTCATCCCGGGGGCCTCTG',\n",
       " 'ACCAGCAAACTAGGATCATCTTGTCCTGTATTTTTGCC',\n",
       " 'CCTTCTGAGTCAAGCTCAAGACGCCCTGCTGGCAAGTG',\n",
       " 'GTTCTTAAACCAGGGCCAGGTCACCCTGGAGAAGAACT',\n",
       " 'AGATTCATAATAGTGTCACTCTGACATTAACAAGCCTA',\n",
       " 'GCTGATAACCCAAGGTCTTGCTGAACTTGCTAGTACAA',\n",
       " 'ACACACCTGGCTGTGTCAATAGGACCTGCCTCTCCTAA',\n",
       " 'CTGACCCACACAGGGGCAACCTGAACTCCTGAGCCATA',\n",
       " 'ACAAATGTGTATGTGTCACAGTAACCCATTATTGTGGC',\n",
       " 'CAAAGGACCTCGGTGACATGTTGACCTCTCCCTCTGCC',\n",
       " 'GCCACTTACAGAAGGTCAGAGAGGCCTTCCTGGAAGGG',\n",
       " 'TTAAGACCTTGTGGGTCAGGGCTACCTGCCCAGTTCAG',\n",
       " 'TCCAATTGCTGCAGGTCACAGGAACCTTGATCTGTGCT',\n",
       " 'GACCATGAAGCCCGGTCACATGGCCCTGGGGCTGGGAG',\n",
       " 'TTCTGTTAACCTGGGTCATAAAGACATGAATGAGTTTA',\n",
       " 'AATGTATGTGCACTGTCACTTTGCTCTGGGTGGAAGTA',\n",
       " 'TCTCCCTGCCCAGAGTCACGCTGCCTCCCTGGTTACCT',\n",
       " 'TGCTAGATGCCAAGGTCATTTTGTTTTCCTTCAGAATC',\n",
       " 'AGGGTCTGTGCCAGGTCTGGGTGAACCTTTCTCCTCCT',\n",
       " 'CCGGATATATTTGGGTCACACTAATCTAAGCAGGAATT',\n",
       " 'ATCTTCTCCTGAGGGCCTGTTTGACCTGAGACACAAAC',\n",
       " 'AGTAAACAACCCAGGTCAGGATATCCATTTAAATTACC',\n",
       " 'AACAGGTTTTCAAGGGCAGCTTAACATTCTCAAGTGAT',\n",
       " 'TAGAACAGAGTGATGTCACTGTGCCTTGTTGCTGACAT',\n",
       " 'CCAGGTCTGAGGAGATCAGGTTGAACTGAACAAGGTTC',\n",
       " 'TGATCTACCCTTAGGTCACCCTGTTCCTCCTGACCCCT',\n",
       " 'CAAGCATGCTTAGGATCATTGTGCCCCACAATAAAAAA',\n",
       " 'GTCATCTTCAAAAGGTCACCAGGCACTGGATGACTTCA',\n",
       " 'TGTTACCACATAGGGTCAGGGCCCCCCAGGCCCCAGGT',\n",
       " 'ATGCCCTCATCTCTGGCACCTTGACCTGCCCCATCTCC',\n",
       " 'AATGAGATTGCAGGGGCAATGTGTTCCCTGCTTGAGAA',\n",
       " 'GAGAGGGCGGACAGGTCACTTTGTCTCCACTCTAGTTT',\n",
       " 'GGATGGTTTATAAGGTCACAAGCACCTGAGAAAAGATC',\n",
       " 'CAAGTGCACAATCGGTCATTATGACATGAGTTGATTTT',\n",
       " 'AATACTGAATCCAGGTCACCTAGCACTCGGTGGGGTAA',\n",
       " 'AAAGCCAGAGGAGGCTCAGTTAGACCTCAGAAGGGAAC',\n",
       " 'TTTATTTCATATGGGTCAGAGTGCTTTAGAAGACTGTT',\n",
       " 'CATTAAGAAAATAGATCATGTTGTTCTGAGTTGCTCTC',\n",
       " 'TTTGGACTAATCAGGTCACTACACCCTGACACAGCAGT',\n",
       " 'CCGGAGGGTGGTAGGTCACCGCGCTCCTAGCACCTGAG',\n",
       " 'AACAAAGTCAACGGCTCACTTTGTCCCCACCCCACCCT',\n",
       " 'GCCTTCTCCACAGGGTCATCCTCTCCAGCTTATATTCC',\n",
       " 'GCTTCTAACCGGGACTCAGGGTGCCCTCTGTAGAATAG',\n",
       " 'TCAGAAACTCTTATCTCACGTTAACCTGAGACCTTGCC',\n",
       " 'CCTACAGTCTCAGTGCCACTTTAACCCGTCCTTCTTGG',\n",
       " 'TCCGAATTTCAAGGACCAAGGTGACCCGACCTGTGTAT',\n",
       " 'TTACAGCCCTCACTGTCACCCTGTCCCCAGGTCCCTCC',\n",
       " 'GGTAAGAACACCAGGTCAGACTATCTTGCCTCCAGCAC',\n",
       " 'GGATTTTCTGGTGGGTCTCCCTACCCTCCATGAAAGAG',\n",
       " 'AAAAATTTCCCCGAGCCACTGTAACCTGAGCTAATGAA',\n",
       " 'GGTTTTCTTTCCAGGTCACTGGAATCTACAAAGCCACC',\n",
       " 'AAGTGTACTCCTGGGTCACCCCACTCTCCTGCAAGACA',\n",
       " 'GAACCATGCCAAGTGTCACTGTGACAAATGTCAAGTGT',\n",
       " 'AAACTCTGAATGTCACTTTAACATTTAAAAAGAGAGGG',\n",
       " 'GCCATTTTATCAAGGACAGAAAGCCCTGACCCACCACG',\n",
       " 'GGGGCTGTTTCCAGGCCAAGGTGCCTTTCTCAGATCCT',\n",
       " 'AGAAAACAGACAGGCTCAATTTCACCTATTCCTGCAAT',\n",
       " 'AAGGAGGCAAAAGGGACAGGCTGTACTCTAAAGGACTT',\n",
       " 'GCCAAGTAAACAAGGTCATATTGGACCAGACACAGCCG',\n",
       " 'CCCTCTCCCTGTGGGTCATTGTAAACCATTTTTAAGCC',\n",
       " 'TTGAGCAGGGGTGGAGCAGTCTGCCCTGTGCCGCTCTG',\n",
       " 'GTTTGCATTAGGAGGTCAAGCTGCTCAGTGCTGTCTTT',\n",
       " 'AGAAAGTGAACTGGGTCACCTGACACTGATCCAGAGAA',\n",
       " 'AACATCCCGTGAGGGCCAGGATGTTCCGCACGAGTCTC',\n",
       " 'AGATGACCTTATAGGACAGGCTGTACTGGTAGTGTGGG',\n",
       " 'TTTGGTGCCCTTGGGTCAGGTCTACCTGGCTCAACCTC',\n",
       " 'CTATCATAAGCAAGGTCAAGGTTTTCTCAGAAATTGCT',\n",
       " 'CTTGTTAGGTCATGGGCACCCTGAAACTAATCGGGGGG',\n",
       " 'GGGTCACCTGTGGGGTCAGGTGGTCATCATAGACACTA',\n",
       " 'CTCAGCACACGTGGGTCATCATAGCCTTGAGAATAGAT',\n",
       " 'AACAGTGCCCGTGGGCCAGAGTGTCCACAACACTCATT',\n",
       " 'GTAAACGAGTGAAGGTCTTGATGAACTTAAGAACAAAC',\n",
       " 'GACTGGTCTGCTGAGTCACAGCAACCCCACGCTCCAGG',\n",
       " 'TCAAGGTCTGCTTGGTCATGTTGCACTGTGTTTTCACC',\n",
       " 'AGCTTTTGACCCAGGTCAAAGGCTCCTGACACACACAA',\n",
       " 'CTTTCCAAGCCAGAGTCAAAGTCACATGGCTTGGTAGC',\n",
       " 'GGAGCGCATCACCGGTCAGTGCGCCCCCTCCAGGAGCG',\n",
       " 'AGCCGGTCAAGAATGTCATCTTGCTCCTCAATTTCTGT',\n",
       " 'CCACCATGATCAGTGTCACGGACACATCCCAGCATAGC',\n",
       " 'AGCCTGCTGCCAATATCAGAGTGATCCCTACCAATGTG',\n",
       " 'CACATTCTTGCCAGGTCATGATAATATTGCAAAAGTTG',\n",
       " 'CTAATCCTCCAGCGGTCACAGTGACTTATACAAGGGCT',\n",
       " 'CTCAGCCACAGTGAGTCAGTGTACACTGGCACGACTCC',\n",
       " 'CTAATTCCACGAAGCTCACTCTATCCTATTTCCATTTT',\n",
       " 'AATGAAGCACTGGGGTCATGTTGTTCACATCCTGGGAT',\n",
       " 'ACTCCATTTAGCGGGTCACGTAGCCACTAGGGCTTCCT',\n",
       " 'TTTATCCTACCAGGCCCAAAGTGATCTGGCCCCTGCCT',\n",
       " 'CTGCCTCCTGAAATGTCAGCGTAGCCCTCAAACTCATG',\n",
       " 'ACTTCAGTTTCAGGCTCACCAGAACCTCTTCTGACCAT',\n",
       " 'AGTGAGTAAAAAAAGGCATCTTAACCTGCTGGCTACCC',\n",
       " 'AAGCAGGACTGTGTATCAGTGTGCCCCATGTTGTTAGT',\n",
       " 'CGCAGCGAGTGACTGTCACGTGGACCCCTCTTACAACC',\n",
       " 'CAGCATTATCCCAGGACATGAGGTCCTGGAGGTTAGAG',\n",
       " 'AAAACCAAATGAGGCTCACTTTCTCCTTCCAGGTTTCC',\n",
       " 'AAAAATCTTTCAGGGGCAGGTAGAACCTAGAGCATCTC',\n",
       " 'CACCCTAACACTAGGTCAAAACAGCCTGGAGCTGCTTG',\n",
       " 'ACTAATTTCTCAAGGTCAGGATAGCTCTCTAAATAGAG',\n",
       " 'CCCCAGCTTCACAGCTCATGGTACTCTCGGTCTTTCCA',\n",
       " 'CCTGGACAGTCTGGGGCTGCGTGCTCTAGACCGGGGGC',\n",
       " 'TGCGTGTCCTCCAGGGCAGGGAGTCATTGGGAAGGCAG',\n",
       " 'GCTGCTTGTTCTGTGTCACTTGGCACCGAGGACATTGA',\n",
       " 'GGACATAGGCATAGGGCATGACACCCTCACTCTGCATG',\n",
       " 'CTGAAAGCAAATGGGTCATTATGACTATTTGCTTACGG',\n",
       " 'AGGACCAAGGCCAGGTCACCTGGTTCCAGGGCTTACGC',\n",
       " 'CTTTCCCTTTCTAGGTCAGGTCGTTACTGCTCATTTTG',\n",
       " 'GGCTTTGTTACCAAGTCAGGGTCCCACCTTCCCTAGGC',\n",
       " 'CATCCCCTGGTCATGTCATCGGGATCTGAGTGCCGGGG',\n",
       " 'TGTAAACAATTAGAGTCACCATGGTCTGAGCAGGATGA',\n",
       " 'GTGAGGCGAGGAAAGTCAGTCGAACCTCAATGAACTGG',\n",
       " 'CTCCAAGATAAAATCTCATTCTGTCCTTGTCCCTCTAA',\n",
       " 'TGAACTGGAACTATGTCACTACAACATGGTTTACAACA',\n",
       " 'TGCAAGGCACAGATGTCACCTCAACCTTCAGAAACACA',\n",
       " 'TAGCCCTGGAATAGGTCACCAGGCTCCAGCGACTATAA',\n",
       " 'TGTTCATAATCAAGGTCAGCATAGCACAAAGACTCCTA',\n",
       " 'ATAAATACTGCAAGCTCATTGTAATATCATAAAGTGAT',\n",
       " 'GAATGACAGCATGTCTCAGGATGTCCCAAAATGAGTCC',\n",
       " 'TAATAAGCAGCAAAGACAAGTTATCCTGGCATTTTACC',\n",
       " 'TAGGAGGGTCACAGGTCTGTGTGCTCAGCAAATGTTTG',\n",
       " 'TGGAGTGCCTGTGTGACTAGGTGACCTGTTATTTATGT',\n",
       " 'CGATGCCCAGTAAGGTCAGAGAGTTATCCTGCAGTAAC',\n",
       " 'ATGAGTTTTACTGGGTCTTGGTCTTCTATTTCAGTTGC',\n",
       " 'GAGAGAGGGCCACTCTCATTGTAACCTGTGCTCTCCAA',\n",
       " 'GTTTAATAGGGCAGGGCAAGCTGTACTTCTGAAAATGC',\n",
       " 'TGTCTCTCAAGAGGGCCAGGTTAACAAGGGGTCAGGGG',\n",
       " 'TGTTTTTTCCCAAGGTCAAAAGGGCCAGTAATTCACCC',\n",
       " 'GCTCCCCACCCCGGGTCACCCTAGTCCTCCAGTCGGCT',\n",
       " 'CAAACTCCTGCTTTGTCAGAGGGACCTGGGACTCAAGT',\n",
       " 'CATTCATGAGTTGGGTCACTCTAGACTTCACAGAACAG',\n",
       " 'TAATGACAGTATAACCTCAAGGTGTGGCGGGGGGGGGG',\n",
       " 'TCCCTCATCCTCAGGTCACAGTACATTGTTCTACTGTA',\n",
       " 'GCTAAATGACCCAGGGCATTCTCCCCCACAGCAGCGGA',\n",
       " 'CTATCTTTCCCTGGATCATATTCATCTCACATAATGCA',\n",
       " 'GTCTGCATCAAAATGCCAGATTGTCATCTCCAGTTTAG',\n",
       " 'CACATATTTAAAGAGGCAAGCTGTCCCACTGGAGAGAT',\n",
       " 'AGGGGAGCGCAGAGGTCAGTGAAATCCCCAGCCAGGCC',\n",
       " 'AGCATGACGCACAGGGCAGGCCGACTTTTTCAAGGGCA',\n",
       " 'GACAGCTGGCCTAGGGCATGGACACCAGTCTCAGGTTT',\n",
       " 'ATTTATGCTGTCCGGTCACCGTGACAATGCAGCTGAGG',\n",
       " 'TTAAGTGTTTATGGGCCACAGTGCAATACCAGCTGCCA',\n",
       " 'TAAAGAAGAGATGGCACATTCTGACCTAACTTCACTAG',\n",
       " 'AAAAACAGGGCCAGGGCACCTGAACATGCATGCAGGGA',\n",
       " 'GTTTACCCCCCAGGAGCAGGTGCACCTGGGTCACCTCA',\n",
       " 'TTAACGGGTTAGAGGGCAGTTAGAACTGCCCTTGCTGC',\n",
       " 'TTGGGTGGCACAGAGTCACGTTATTTTCTGACAGTGTA',\n",
       " 'ATTAAGCCAAAGGGGACATGTTGCTCCAGGGAGAGTCT',\n",
       " 'ATCAACATGTCAGGGTCAGGACGCGCCACACAGATGTG',\n",
       " 'TGAAAGGAACAAAACTCACATTCCCCTGACCCTGCTTT',\n",
       " 'TGGCAAGAAGGAGGCTCCCTGTGCCCTGGAGCTGCTCT',\n",
       " 'TTAAATTGCCTAAGGTCACGATATAACCACTGATAGAA',\n",
       " 'AGACTGTCTTTCATGTCACAGAGCCTTGCACTGTGAGA',\n",
       " 'GGCCCAAGATGCAGGTCTGGGTGCTTTAGGCAGGGAGT',\n",
       " 'GATTTTATCTCAGTGGCTCTTTCACCTCTTGGTAGCCC',\n",
       " 'AAGGGCTAGGAAATATCTATGTGCCCTGGGCAAATGCA',\n",
       " 'TGCTTCAAGGCAGGGCCACCGACTCCCCTAAGGTGTCC',\n",
       " 'AAGATAAACAAACAGTCATTCTGACATTTAGAGAGGCA',\n",
       " 'AAATGCCCTTCTAGAGCAAGTTGCCTTTTAAACGGCAA',\n",
       " 'AGCCAGAAGAAAGGGGCTCACTGTCCAGATACCACCCT',\n",
       " 'AAGACATTTGATAAGTCACAACGCACTCTACAAGTGCA',\n",
       " 'AATTCTCCACAGAGGCCAGAGTAATCCTTTTAAAACAG',\n",
       " 'TCACAGGCCAAAGGACCAGACTACCCTCAGAACCACCT',\n",
       " 'CTGGCATTCTGTGGGGCATCAGGGCCTCTTTAATTAGA',\n",
       " 'TTTGCACAGCAAATGTCACCCAGCACCCCCTCCAACCA',\n",
       " 'AGCAGAATGCTGCAGTCAGGGTGACACAATGCAAACTG',\n",
       " 'ATCTTGCAGTCCAGGTCAAAACATCCAGTTCCCTGCCT',\n",
       " 'CCAAGAGCTATGTGCCCCCAGAACACCCTGGGGGGGGG',\n",
       " 'AGGTAGCTGGAAGGGTCACTCTGGTAATAGACTGCTGC',\n",
       " 'CTCCAGCCAAAGAGATCAGCCTTCCCTGAACCCCTCCC']"
      ]
     },
     "execution_count": 2,
     "metadata": {},
     "output_type": "execute_result"
    }
   ],
   "source": [
    "def read_data():\n",
    "    with open('sequence.padded.txt') as handle:\n",
    "        # I dont think this is the actual sequences we should be using\n",
    "        # put using as placeholder for now.\n",
    "        return [s.strip() for s in handle.readlines()]\n",
    "\n",
    "data = read_data()\n",
    "data"
   ]
  },
  {
   "cell_type": "markdown",
   "id": "824d91ec",
   "metadata": {},
   "source": [
    "Create matrix $X_{i,j,p,k}$"
   ]
  },
  {
   "cell_type": "code",
   "execution_count": 3,
   "id": "9b1da2a3",
   "metadata": {},
   "outputs": [],
   "source": [
    "seq_length = len(data[0])\n",
    "motif_length = 8\n",
    "number_motifs = seq_length - motif_length + 1\n",
    "X = np.zeros((len(data), seq_length, motif_length, 4))\n",
    "\n",
    "def nuc_to_one_hot(nuc):\n",
    "    # Convert nucleotide to the index in one hot encoded array\n",
    "    # that should be hot (==1)\n",
    "    upper_nuc = nuc.upper()\n",
    "    mapping = {'A': 0, 'T': 1, 'G': 2, 'C': 3}\n",
    "    return mapping[upper_nuc]\n",
    "\n",
    "j_p = []\n",
    "for i in range(seq_length):\n",
    "    for j in range(number_motifs):\n",
    "        for p in range(motif_length):\n",
    "            nuc = data[i][j+p]\n",
    "            k_hot = nuc_to_one_hot(nuc)\n",
    "            X[i][j][p][k_hot] = 1.0\n",
    "\n",
    "assert X.sum() == seq_length * number_motifs * motif_length"
   ]
  },
  {
   "cell_type": "markdown",
   "id": "e6a87f9d",
   "metadata": {},
   "source": [
    "Initialize model parameters."
   ]
  },
  {
   "cell_type": "code",
   "execution_count": 4,
   "id": "ddb2699a",
   "metadata": {},
   "outputs": [],
   "source": [
    "def init_EM(seq_length, motif_length):\n",
    "    number_motifs_per_sequence = seq_length - motif_length + 1\n",
    "    lambda_j = np.random.uniform(0, 1, size=(number_motifs_per_sequence,))\n",
    "    lambda_j_norm = lambda_j / lambda_j.sum()\n",
    "    psi_0 = np.random.uniform(0, 1, size=(4, motif_length))\n",
    "    psi_1 = np.random.uniform(0, 1, size=(4, motif_length))\n",
    "    psi_0 = (psi_0.T/psi_0.sum(axis=1)).T  # https://stackoverflow.com/questions/16202348/numpy-divide-row-by-row-sum\n",
    "    psi_1 = (psi_1.T/psi_1.sum(axis=1)).T\n",
    "    \n",
    "    return lambda_j_norm, psi_0, psi_1"
   ]
  },
  {
   "cell_type": "code",
   "execution_count": 5,
   "id": "70e371c6",
   "metadata": {},
   "outputs": [],
   "source": [
    "lambda_j, psi_0, psi_1 = init_EM(seq_length, motif_length)"
   ]
  },
  {
   "cell_type": "markdown",
   "id": "b313a22a",
   "metadata": {},
   "source": [
    "![](e.png)"
   ]
  },
  {
   "cell_type": "markdown",
   "id": "5cd86487",
   "metadata": {},
   "source": [
    "## E step numerator"
   ]
  },
  {
   "cell_type": "markdown",
   "id": "3d132afb",
   "metadata": {},
   "source": [
    "- $\\prod_{p}\\prod_{k} {\\psi^{1}}$ is product of probabilities of the nucleotides in a given motif J \n",
    "- $\\prod_{j'!=j}\\prod_{p}\\prod_{k}$ is product of probabilities of the nucleotides of all motifs for the same sequence that are not motif J.\n",
    "\n",
    "The numerator is then the sum of everything."
   ]
  },
  {
   "cell_type": "markdown",
   "id": "f4c736b7",
   "metadata": {},
   "source": [
    "### Questions\n",
    "- What does the product of $P(C_{i} = j | X, \\theta)$ look like in terms of shape?\n",
    "\n",
    "If asking what is the prob of $C_{i} = j$ then you are really asking what is the prob of motif at position j being the transcription factor binding site. You need to be able to answer this question for all $j$. So you should have an array with shape `(number of sequences, number of motifs per sequence`).\n",
    "\n",
    "- How does taking the log here work? Products become sums so below may not actually be correct. I don't think we can just take the log whenever we want. I am not sure I understand Quon description of how to work in log space."
   ]
  },
  {
   "cell_type": "markdown",
   "id": "9247e382",
   "metadata": {},
   "source": [
    "### Log space notes\n"
   ]
  },
  {
   "cell_type": "markdown",
   "id": "ee49653b",
   "metadata": {},
   "source": []
  },
  {
   "cell_type": "code",
   "execution_count": 6,
   "id": "2d47ab99",
   "metadata": {},
   "outputs": [],
   "source": [
    "def E_step(X, lambda_j, psi_0, psi_1):\n",
    "    num = lambda_j * (X * psi_1.T) * (X * psi_1.T)\n",
    "    denom = lambda_j * (X * psi_1.T) * (X * psi_1.T)"
   ]
  },
  {
   "cell_type": "markdown",
   "id": "4397b9af",
   "metadata": {},
   "source": [
    "First take product along axis 3. This will just return an array of what were the non-zero nucleotide probibilties ($\\prod_{k}$)."
   ]
  },
  {
   "cell_type": "markdown",
   "id": "fb87e663",
   "metadata": {},
   "source": [
    "#### Numerator ($psi_{1}$) part (in the motif)"
   ]
  },
  {
   "cell_type": "code",
   "execution_count": 7,
   "id": "342c6261",
   "metadata": {},
   "outputs": [
    {
     "data": {
      "text/plain": [
       "array([[0.11597112, 0.        , 0.        , 0.        ],\n",
       "       [0.        , 0.04522459, 0.        , 0.        ],\n",
       "       [0.07555558, 0.        , 0.        , 0.        ],\n",
       "       [0.        , 0.        , 0.        , 0.10898697],\n",
       "       [0.        , 0.        , 0.        , 0.06261992],\n",
       "       [0.        , 0.        , 0.        , 0.29971703],\n",
       "       [0.        , 0.        , 0.        , 0.04570203],\n",
       "       [0.        , 0.07314194, 0.        , 0.        ]])"
      ]
     },
     "execution_count": 7,
     "metadata": {},
     "output_type": "execute_result"
    }
   ],
   "source": [
    "a = X[0][0]*psi_1.T\n",
    "a"
   ]
  },
  {
   "cell_type": "code",
   "execution_count": 8,
   "id": "f5bfa0e9",
   "metadata": {},
   "outputs": [
    {
     "data": {
      "text/plain": [
       "array([0.11597112, 0.04522459, 0.07555558, 0.10898697, 0.06261992,\n",
       "       0.29971703, 0.04570203, 0.07314194])"
      ]
     },
     "execution_count": 8,
     "metadata": {},
     "output_type": "execute_result"
    }
   ],
   "source": [
    "a.flatten()\n",
    "a[a != 0]"
   ]
  },
  {
   "cell_type": "markdown",
   "id": "7b43d6c4",
   "metadata": {},
   "source": [
    "Now need where not in the motif (all other motifs in this case that are not motif 0 of sequence 0)."
   ]
  },
  {
   "cell_type": "code",
   "execution_count": 9,
   "id": "7b2ebcc1",
   "metadata": {},
   "outputs": [
    {
     "data": {
      "text/plain": [
       "(37, 8, 4)"
      ]
     },
     "execution_count": 9,
     "metadata": {},
     "output_type": "execute_result"
    }
   ],
   "source": [
    "cut = X[0][np.arange(len(X[0]))!=0]\n",
    "cut.shape"
   ]
  },
  {
   "cell_type": "code",
   "execution_count": 10,
   "id": "bd75a0c8",
   "metadata": {},
   "outputs": [
    {
     "data": {
      "text/plain": [
       "(38, 8, 4)"
      ]
     },
     "execution_count": 10,
     "metadata": {},
     "output_type": "execute_result"
    }
   ],
   "source": [
    "X[0].shape"
   ]
  },
  {
   "cell_type": "code",
   "execution_count": 11,
   "id": "63f15641",
   "metadata": {},
   "outputs": [
    {
     "data": {
      "text/plain": [
       "(8, 4)"
      ]
     },
     "execution_count": 11,
     "metadata": {},
     "output_type": "execute_result"
    }
   ],
   "source": [
    "b = (cut[0] * psi_0.T)\n",
    "b.shape"
   ]
  },
  {
   "cell_type": "code",
   "execution_count": 12,
   "id": "a623eb53",
   "metadata": {},
   "outputs": [
    {
     "data": {
      "text/plain": [
       "7.311662667238134e-253"
      ]
     },
     "execution_count": 12,
     "metadata": {},
     "output_type": "execute_result"
    }
   ],
   "source": [
    "c = (cut * psi_0.T).flatten()\n",
    "c[c != 0].prod()"
   ]
  },
  {
   "cell_type": "code",
   "execution_count": 13,
   "id": "8c8cca4a",
   "metadata": {},
   "outputs": [
    {
     "data": {
      "text/plain": [
       "4"
      ]
     },
     "execution_count": 13,
     "metadata": {},
     "output_type": "execute_result"
    }
   ],
   "source": [
    "x=2\n",
    "e = 2\n",
    "x**e"
   ]
  },
  {
   "cell_type": "code",
   "execution_count": 14,
   "id": "86df88d5",
   "metadata": {},
   "outputs": [
    {
     "data": {
      "text/plain": [
       "1.3862943611198906"
      ]
     },
     "execution_count": 14,
     "metadata": {},
     "output_type": "execute_result"
    }
   ],
   "source": [
    "np.log(x**e)"
   ]
  },
  {
   "cell_type": "code",
   "execution_count": 15,
   "id": "f298d4ea",
   "metadata": {},
   "outputs": [
    {
     "data": {
      "text/plain": [
       "1.3862943611198906"
      ]
     },
     "execution_count": 15,
     "metadata": {},
     "output_type": "execute_result"
    }
   ],
   "source": [
    "e*np.log(x)"
   ]
  },
  {
   "cell_type": "markdown",
   "id": "2a75cdd5",
   "metadata": {},
   "source": [
    "![](e.png)"
   ]
  },
  {
   "cell_type": "code",
   "execution_count": 16,
   "id": "91599068",
   "metadata": {},
   "outputs": [],
   "source": [
    "def numerator(i, j, X, lambda_j, psi_0, psi_1):\n",
    "    # i = current sequence\n",
    "    # j = current j index\n",
    "    # X = Data\n",
    "    psi_1_term = (X[i][j] * psi_1.T).flatten()\n",
    "    # remove zero terms this is in lieu of having exponent X_{i,j,p,k}\n",
    "    # cause term to go to 1\n",
    "    psi_1_term = psi_1_term[psi_1_term != 0]\n",
    "    # take product of all remaining terms (these are probibities seeing\n",
    "    # the bases in the given motif in their given positions given they\n",
    "    # are in the TFBS)\n",
    "    psi_1_term = np.log(psi_1_term).sum()\n",
    "    \n",
    "    # now need to get product of all other motifs but assuming they are\n",
    "    # not the TFBS\n",
    "    psi_0_term = X[i][np.arange(len(X[i]))!=j]\n",
    "    psi_0_term = psi_0_term.flatten()\n",
    "    psi_0_term = np.log(psi_0_term[psi_0_term != 0]).sum()\n",
    "    \n",
    "    return np.log(lambda_j[j]) + psi_0_term + psi_1_term"
   ]
  },
  {
   "cell_type": "code",
   "execution_count": null,
   "id": "c8f052b6",
   "metadata": {},
   "outputs": [],
   "source": [
    "def denominator(i, j, X, lambda_j, psi_0, psi_1):\n",
    "    # Get all lambda values that are not j\n",
    "    lambda_j_prime = np.delete(lambda_j, j)\n",
    "    for j_prime in lambda_j_prime:\n",
    "        psi_one_term = (X[i][j_prime] * psi_1.T).flatten()"
   ]
  },
  {
   "cell_type": "code",
   "execution_count": 31,
   "id": "e352fa13",
   "metadata": {},
   "outputs": [
    {
     "ename": "AttributeError",
     "evalue": "'numpy.ndarray' object has no attribute 'delete'",
     "output_type": "error",
     "traceback": [
      "\u001b[0;31m---------------------------------------------------------------------------\u001b[0m",
      "\u001b[0;31mAttributeError\u001b[0m                            Traceback (most recent call last)",
      "\u001b[0;32m/tmp/ipykernel_41324/740222256.py\u001b[0m in \u001b[0;36m<module>\u001b[0;34m\u001b[0m\n\u001b[0;32m----> 1\u001b[0;31m \u001b[0mnp\u001b[0m\u001b[0;34m.\u001b[0m\u001b[0marray\u001b[0m\u001b[0;34m(\u001b[0m\u001b[0;34m[\u001b[0m\u001b[0;36m1\u001b[0m\u001b[0;34m,\u001b[0m \u001b[0;36m2\u001b[0m\u001b[0;34m,\u001b[0m \u001b[0;36m3\u001b[0m\u001b[0;34m,\u001b[0m \u001b[0;36m4\u001b[0m\u001b[0;34m]\u001b[0m\u001b[0;34m)\u001b[0m\u001b[0;34m.\u001b[0m\u001b[0mdelete\u001b[0m\u001b[0;34m(\u001b[0m\u001b[0;36m0\u001b[0m\u001b[0;34m)\u001b[0m\u001b[0;34m\u001b[0m\u001b[0;34m\u001b[0m\u001b[0m\n\u001b[0m",
      "\u001b[0;31mAttributeError\u001b[0m: 'numpy.ndarray' object has no attribute 'delete'"
     ]
    }
   ],
   "source": []
  },
  {
   "cell_type": "markdown",
   "id": "d3a7b4c3",
   "metadata": {},
   "source": [
    "What is j prime prime in the denominator?"
   ]
  },
  {
   "cell_type": "markdown",
   "id": "07650010",
   "metadata": {},
   "source": [
    "Convince myself that log of sums is same as product"
   ]
  },
  {
   "cell_type": "code",
   "execution_count": 17,
   "id": "1d5615e6",
   "metadata": {},
   "outputs": [
    {
     "data": {
      "text/plain": [
       "2.709514915865458e-09"
      ]
     },
     "execution_count": 17,
     "metadata": {},
     "output_type": "execute_result"
    }
   ],
   "source": [
    "a = a.flatten()\n",
    "a = a[a != 0]\n",
    "np.e**(np.log(a).sum())"
   ]
  },
  {
   "cell_type": "code",
   "execution_count": 18,
   "id": "1c0b3bed",
   "metadata": {},
   "outputs": [
    {
     "data": {
      "text/plain": [
       "2.7095149158654565e-09"
      ]
     },
     "execution_count": 18,
     "metadata": {},
     "output_type": "execute_result"
    }
   ],
   "source": [
    "a.prod()"
   ]
  },
  {
   "cell_type": "code",
   "execution_count": 19,
   "id": "1557162f",
   "metadata": {},
   "outputs": [
    {
     "data": {
      "text/plain": [
       "(357, 38, 8)"
      ]
     },
     "execution_count": 19,
     "metadata": {},
     "output_type": "execute_result"
    }
   ],
   "source": [
    "prod = X * psi_1.T\n",
    "prod_3 = prod.prod(axis=3)\n",
    "prod_3.shape"
   ]
  },
  {
   "cell_type": "code",
   "execution_count": 20,
   "id": "2c1d3da4",
   "metadata": {},
   "outputs": [
    {
     "data": {
      "text/plain": [
       "array([[0.11597112, 0.        , 0.        , 0.        ],\n",
       "       [0.        , 0.04522459, 0.        , 0.        ],\n",
       "       [0.07555558, 0.        , 0.        , 0.        ],\n",
       "       [0.        , 0.        , 0.        , 0.10898697],\n",
       "       [0.        , 0.        , 0.        , 0.06261992],\n",
       "       [0.        , 0.        , 0.        , 0.29971703],\n",
       "       [0.        , 0.        , 0.        , 0.04570203],\n",
       "       [0.        , 0.07314194, 0.        , 0.        ]])"
      ]
     },
     "execution_count": 20,
     "metadata": {},
     "output_type": "execute_result"
    }
   ],
   "source": [
    "prod[0][0]  # one motif"
   ]
  },
  {
   "cell_type": "markdown",
   "id": "e94caa23",
   "metadata": {},
   "source": [
    "Then take the product along axis 2 of this new array. This is the product for each motif ($\\prod_{p}$)"
   ]
  },
  {
   "cell_type": "code",
   "execution_count": 21,
   "id": "42315678",
   "metadata": {},
   "outputs": [
    {
     "data": {
      "text/plain": [
       "(357, 38)"
      ]
     },
     "execution_count": 21,
     "metadata": {},
     "output_type": "execute_result"
    }
   ],
   "source": [
    "prod_3.prod(axis=2).shape"
   ]
  },
  {
   "cell_type": "markdown",
   "id": "270bdb59",
   "metadata": {},
   "source": [
    "Combine into one operation."
   ]
  },
  {
   "cell_type": "code",
   "execution_count": 22,
   "id": "6f17c3b5",
   "metadata": {},
   "outputs": [
    {
     "data": {
      "text/plain": [
       "(357, 38)"
      ]
     },
     "execution_count": 22,
     "metadata": {},
     "output_type": "execute_result"
    }
   ],
   "source": [
    "prod_pk_psi_1 = (X * psi_1.T)\n",
    "prod_pk_psi_1[prod_pk_psi_1 == 0] = 1\n",
    "\n",
    "prod_pk_psi_1 = np.log(prod_pk_psi_1)\n",
    "prod_pk_psi_1[prod_pk_psi_1 == 0] = 1\n",
    "\n",
    "n1 = prod_pk_psi_1.prod(axis=3).prod(axis=2)\n",
    "n1.shape"
   ]
  },
  {
   "cell_type": "code",
   "execution_count": 23,
   "id": "8287932d",
   "metadata": {},
   "outputs": [
    {
     "data": {
      "text/plain": [
       "(357, 38)"
      ]
     },
     "execution_count": 23,
     "metadata": {},
     "output_type": "execute_result"
    }
   ],
   "source": [
    "prod_pk_psi_0 = (X * psi_0.T)\n",
    "prod_pk_psi_0[prod_pk_psi_0 == 0] = 1\n",
    "\n",
    "prod_pk_psi_0 = np.log(prod_pk_psi_0)\n",
    "prod_pk_psi_0[prod_pk_psi_0 == 0] = 1\n",
    "n2 = prod_pk_psi_0.prod(axis=3).prod(axis=2)\n",
    "n2.shape"
   ]
  },
  {
   "cell_type": "markdown",
   "id": "6c084e15",
   "metadata": {},
   "source": [
    "## M step"
   ]
  },
  {
   "cell_type": "markdown",
   "id": "f489e589",
   "metadata": {},
   "source": [
    "Quon says $\\boldsymbol{E}[C_{i,j}] = P(C_{i} = j | X_{i}, \\theta)$"
   ]
  },
  {
   "cell_type": "markdown",
   "id": "e3a2c987",
   "metadata": {},
   "source": [
    "He also gives what $\\boldsymbol{E}[C_{i,j}] = P(C_{i} = j | X_{i}, \\theta)$ equals to in the E step (shown in the image below.)"
   ]
  },
  {
   "cell_type": "markdown",
   "id": "fb1c0235",
   "metadata": {},
   "source": [
    "### $\\lambda_{j}$"
   ]
  },
  {
   "cell_type": "markdown",
   "id": "08a6290f",
   "metadata": {},
   "source": [
    "Take sum of all values at each index $i$ over vector $C_{i, j}$ which would store prob each $j$ (each motif) being the transcription factor binding site and divide this value by the number of sequences $N$.\n",
    "- Would this not always just sum to 1? And therefore $\\lambda_{j}$ is basically fixed at 1 over the number of sequences?"
   ]
  },
  {
   "cell_type": "code",
   "execution_count": 24,
   "id": "28011034",
   "metadata": {},
   "outputs": [],
   "source": [
    "# use random data for now that should be in theory in the same shape as what the E step would produce\n",
    "N = X.shape[0]\n",
    "m = X.shape[1]\n",
    "rand = np.random.random((N, m))"
   ]
  },
  {
   "cell_type": "code",
   "execution_count": 25,
   "id": "a5406cc7",
   "metadata": {},
   "outputs": [
    {
     "data": {
      "text/plain": [
       "array([1.17646643e+74, 1.14650026e+75, 1.24620820e+75, 3.15698072e+72,\n",
       "       2.26447212e+75, 2.97630218e+74, 7.71695357e+75, 3.73262896e+75,\n",
       "       2.22443887e+73, 1.15356741e+76, 7.33034719e+76, 1.20733316e+77,\n",
       "       1.54040141e+74, 3.74894193e+75, 2.93543782e+76, 1.09194068e+79,\n",
       "       1.28624197e+75, 2.06408159e+77, 3.23948003e+75, 8.70052987e+75,\n",
       "       4.08827950e+76, 1.37848745e+74, 1.81407734e+76, 2.52832555e+74,\n",
       "       2.13575569e+72, 2.16275711e+76, 1.02883245e+73, 2.23829698e+75,\n",
       "       7.58911551e+75, 6.57638003e+76, 6.09563577e+75, 3.01944384e+74,\n",
       "       1.16087462e+75, 1.18945511e+74, 2.47621240e+77, 3.04173418e+72,\n",
       "       3.66156042e+74, 4.09224375e+76])"
      ]
     },
     "execution_count": 25,
     "metadata": {},
     "output_type": "execute_result"
    }
   ],
   "source": [
    "np.e**rand.sum(axis=0) / N"
   ]
  },
  {
   "cell_type": "markdown",
   "id": "bf68010a",
   "metadata": {},
   "source": [
    "### $\\psi^{1}_{p, k}$"
   ]
  },
  {
   "cell_type": "markdown",
   "id": "d38a02a0",
   "metadata": {},
   "source": [
    "- How does taking a sum over $i$ for $C_{i, j}$look compared to taking a sum over $i$ and $j$?"
   ]
  },
  {
   "cell_type": "markdown",
   "id": "a80c70db",
   "metadata": {},
   "source": [
    "Product of indicator variables for a given motif (For example the matrix at `X[0][0]`) and the expectation at that motif calculated during the E step. Then take a sum overall all those values and divide by the number of sequences."
   ]
  },
  {
   "cell_type": "code",
   "execution_count": 26,
   "id": "a385ee73",
   "metadata": {},
   "outputs": [
    {
     "data": {
      "text/plain": [
       "0.0002811729716141022"
      ]
     },
     "execution_count": 26,
     "metadata": {},
     "output_type": "execute_result"
    }
   ],
   "source": [
    "(X[0][0][0][0]*rand[0][0]) / N # this would product one cell in the psi matrix need to iterate through p and Ks"
   ]
  },
  {
   "cell_type": "code",
   "execution_count": 27,
   "id": "09827e08",
   "metadata": {},
   "outputs": [
    {
     "name": "stdout",
     "output_type": "stream",
     "text": [
      "[[0.11597112 0.03387243 0.07555558 0.17352129 0.12573083 0.0417171\n",
      "  0.19749639 0.23613525]\n",
      " [0.16619038 0.04522459 0.16139631 0.16748459 0.15447033 0.09024389\n",
      "  0.14184798 0.07314194]\n",
      " [0.03724527 0.00148296 0.31625834 0.27427653 0.10607105 0.02439327\n",
      "  0.11688184 0.12339072]\n",
      " [0.42362929 0.44322599 0.44895867 0.42713755 0.45416678 0.46115143\n",
      "  0.42440585 0.42747741]]\n"
     ]
    }
   ],
   "source": [
    "for p in range(psi_1.T.shape[0]):\n",
    "    for k in range(psi_1.T.shape[1]):\n",
    "        products = []\n",
    "        for i in range(X.shape[0]):\n",
    "            for j in range(X.shape[1]):\n",
    "                products.append(X[i][j][p][k] * rand[i][j])\n",
    "    psi_1[k][p] = sum(products) / N\n",
    "print(psi_1)"
   ]
  },
  {
   "cell_type": "markdown",
   "id": "37ef5ec7",
   "metadata": {},
   "source": [
    "### $\\psi^{0}_{p, k}$\n",
    "\n",
    "Seems pretty much like other $\\psi$ but add some subtractions and change the denominator to the number of sequences times the number of possible motifs."
   ]
  },
  {
   "cell_type": "code",
   "execution_count": 28,
   "id": "d6d1f08f",
   "metadata": {},
   "outputs": [
    {
     "name": "stdout",
     "output_type": "stream",
     "text": [
      "[[0.11597112 0.03387243 0.07555558 0.17352129 0.12573083 0.0417171\n",
      "  0.19749639 0.23613525]\n",
      " [0.16619038 0.04522459 0.16139631 0.16748459 0.15447033 0.09024389\n",
      "  0.14184798 0.07314194]\n",
      " [0.03724527 0.00148296 0.31625834 0.27427653 0.10607105 0.02439327\n",
      "  0.11688184 0.12339072]\n",
      " [0.6060705  0.60575442 0.60566196 0.60601391 0.60557796 0.6054653\n",
      "  0.60605797 0.60600843]]\n"
     ]
    }
   ],
   "source": [
    "seq_len = 100\n",
    "\n",
    "for p in range(psi_1.T.shape[0]):\n",
    "    for k in range(psi_1.T.shape[1]):\n",
    "        products = []\n",
    "        for i in range(X.shape[0]):\n",
    "            for j in range(X.shape[1]):\n",
    "                products.append(1 - X[i][j][p][k] * rand[i][j])\n",
    "    psi_1[k][p] = sum(products) / ((seq_len - X.shape[1] + 1 - 1) * N)\n",
    "print(psi_1)"
   ]
  }
 ],
 "metadata": {
  "kernelspec": {
   "display_name": "Python 3 (ipykernel)",
   "language": "python",
   "name": "python3"
  },
  "language_info": {
   "codemirror_mode": {
    "name": "ipython",
    "version": 3
   },
   "file_extension": ".py",
   "mimetype": "text/x-python",
   "name": "python",
   "nbconvert_exporter": "python",
   "pygments_lexer": "ipython3",
   "version": "3.9.6"
  }
 },
 "nbformat": 4,
 "nbformat_minor": 5
}
