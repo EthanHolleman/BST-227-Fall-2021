{
 "cells": [
  {
   "cell_type": "markdown",
   "id": "03cea718",
   "metadata": {},
   "source": [
    "# Part 3: EM implementation"
   ]
  },
  {
   "cell_type": "code",
   "execution_count": 1,
   "id": "2dba9ddb",
   "metadata": {},
   "outputs": [],
   "source": [
    "import numpy as np\n",
    "from sklearn.preprocessing import OneHotEncoder"
   ]
  },
  {
   "cell_type": "code",
   "execution_count": 2,
   "id": "096c4963",
   "metadata": {},
   "outputs": [
    {
     "data": {
      "text/plain": [
       "['ATACCCCTGGCTGGGTCATGGTGACCTGGAGGAAGCGT',\n",
       " 'CATATATGGCCAGGGTCAGTGTGACCTCCATTTCCCAT',\n",
       " 'AGCAGCTGGCCTGGGTCACAGTGACCTGACCTCAAACC',\n",
       " 'AGGCTGTGTACAAGGTCAGAGTGACCTCTAGAAGCTCT',\n",
       " 'TACTCTAGTTCCAGGTCATGGTGACCTGTGAAAAATCT',\n",
       " 'AGGACTGTTTCAAGGTCACGGTGACCCTCGTGGGCTGT',\n",
       " 'GCAGGAAGTTTTGGGTCACGGTGACCTCTAGTTGTTGA',\n",
       " 'CAAGTGCTTCAAAGGTCATGGTGCCCTGGGGCCGAGAG',\n",
       " 'ACCAACATGGCAGGGTCAAGTTGACCTCCCTGGCCACT',\n",
       " 'TCTCTCTCTAGTAGGTCATGGTGACCTGTACACATTAT',\n",
       " 'TCAGACCACAGAGGGTCAAGGTGACCTGAGAGATCAGT',\n",
       " 'AGGCAATTCACTAGGTCAGGATGCCCTGGGGCAACAGT',\n",
       " 'TAGTCCTGAAAAGGGTCATGTTGACCTGATTGTCATGT',\n",
       " 'ATTAACTCTTCTAGGTCAGTGTGACCTAAACTCATCGG',\n",
       " 'GGACAATTATTGGGGTCACGGTGACCTGCCTGTTTCAG',\n",
       " 'GGTCCATAATATAGGTCATGTTGACCTGGGACAACTGG',\n",
       " 'CTCCAGGAGCAGGGGTCAGGGTGACCTCCAGCTCCTCA',\n",
       " 'GAGCCCATCTCTGGGTCATGTTGCCCTCTTACAGCACA',\n",
       " 'TGGGTTAAACCTGGGTCATGTTGACCTAGATACATCTC',\n",
       " 'GTGACATCCCCAGGGTCAAAGTGCCCTGAGTCTGGAGA',\n",
       " 'GCCTTCTAGGTCAGCATGACCTGGTCCTCAGAGGGGGG',\n",
       " 'GGCAATGAATCAAGGTCAGGCTAACCTGGCTTACTGCA',\n",
       " 'CCTACTAGCCCTGGGTCAACGTGCCCTGTAAGAGCATG',\n",
       " 'GGCGCAGCCCCAAGGTCAGGGTCACCTCGAGCCTCCAG',\n",
       " 'ACTTCTCCACAGAGGTCACGTTGACCTCCATGTGGCCA',\n",
       " 'TTGAAGTGACCCAGGTCACCTTGCCCTGAATGCTTAAG',\n",
       " 'TCCAATTATTCAAGGTCACAGTGACCCAAGTACTACAG',\n",
       " 'CTACTTCTCACAGGGTCAGTCTGTCCTGTGAGTTCCTA',\n",
       " 'GAGCCAAAAGGCAGGTCACGGTGTCCTGCAAAGGGCTG',\n",
       " 'GCATCCAACCCCAGGTCACTGTGACCCCAAGGCCTGGG',\n",
       " 'CCAGCTGGAAGCAGGTCAGGTTGCCCTGGCAGGCAGGT',\n",
       " 'AAACCTCAGTTAAGGTCACCTTGACCTCCAGCCAAAAT',\n",
       " 'GTCAGGATTGGGAGGTCATGGTGACCTCAGAAGAACAG',\n",
       " 'GTACAAATATTTGGGTCATGCTGACCTGGATGAAATTT',\n",
       " 'GCTAATCCTACTAGGTCATCATGACCTGCAATCACCCT',\n",
       " 'ATCTGGTCCTCTGGGTCACGGTGACATAGGGCTCAGGT',\n",
       " 'CTTTAAATTCAAAGGTCAGTGTGCCCTAAGGGAGGCGA',\n",
       " 'GTTTGTCAAATAAGGTCAGTGTGTCCTGTCACTCACCA',\n",
       " 'ACACTGACTACTAGGTCACTGTAACCTCACTATGATAC',\n",
       " 'AGAGACAGGAAAAGGTCAGCCTGCCCTGTAGCTACTGA',\n",
       " 'AGAAACTTGTCAAGGTCATTCTGACCTAGACTAGAGGG',\n",
       " 'GGGGACAGCTCTGGGTCAGCATGACCTTCTTTAGAGCC',\n",
       " 'AGGCCCTCTCCAAGGTCACTGTGACTTGCTTCTTCTTA',\n",
       " 'GACAGAGAGTCAAGGTCACCATGCCCTTTGCCCCGGCT',\n",
       " 'AGCACTGGGTGAAGGTCAGGTTGACATGCTTGCATTCC',\n",
       " 'ATTCTTGGCTCTAGGTCATCTTGACCTACAAACTGTTA',\n",
       " 'CAGCTGGCTTTGGGGTCAGAGTGACCTGGGTTGTTCGG',\n",
       " 'CATATATAGATAGGGTCAAAGTGACCTCAGCTTCAAGG',\n",
       " 'CAGAGCAGATCAAGGTCACTGCGACCTTCACCAAGTGG',\n",
       " 'CATGCCAAAGGAGGGTCATGATGACCTATGAAGAGATC',\n",
       " 'ATTCCCATTCCTGGGTCACAGTCACCTGGAAAACCTGA',\n",
       " 'GGCAGGGAAGGGAGGTCAGCTTGACCTGCTGCTTAATT',\n",
       " 'GGAGCAGTTATAAGGTCAGAGTGCCCTACCATCTTTCT',\n",
       " 'TTCTCCCTGCGTGGGTCAGAGTGACCCCAAAACTGATC',\n",
       " 'TGTCACTCTCAAAGGTCACTGTGAACTGTGGGGAGGGA',\n",
       " 'ACCAGGCACACAAGGTCACCCTAACCTCCCGGCTCTGC',\n",
       " 'AATCTGAAAACAGGGTCACAGTGACACGGCCAGAATGA',\n",
       " 'GGGAGAGGAGCGGGGTCAGAATGACCTCGTGGCTCTTG',\n",
       " 'AAAATTCCTCTGGGGTCAGGTTGACCTACAAAGAAAGC',\n",
       " 'CCTTTCCTACCTAGGTCATCTTGTCCTCTCATGTTCTG',\n",
       " 'ACTTGTTGGTCAAGGTCAGTTTGATCTTTGGGGATAAT',\n",
       " 'CTTGTCATTCATGGGTCATTTTGCCCTCAGATGCTTCT',\n",
       " 'CCCAGAGCGGCAAGGTCAAGATGTCCTAAGCTCCCTGT',\n",
       " 'CTCCACTGAGTGAGGTCATTGTGACCTCCAGCAGCAAA',\n",
       " 'TATTCAGGCTGTGGGTCACGGTGCTCTTTGTTGGGGGG',\n",
       " 'CTTTACATTCATAGGTCATCTTGACCTATGACCCATCC',\n",
       " 'TTTTGCAGCATGAGGTCATGGTGACCCCCGGGGAGACG',\n",
       " 'GAAAACTCTGATAGGTCACTATGCCCTTTAAGATAAAG',\n",
       " 'AGTGAAGCTGTGAGGTCAGGTTGCCCTATTAGACTGAG',\n",
       " 'CAGGACACACAAAAGTCACTGTGACCTCATTGGAGACA',\n",
       " 'ATCAGATGCACTGGATCAGGGTGTCCTGTCCAAGGAGA',\n",
       " 'TAACATATTAACGGGTCAGGTTGTCCTAATCTAAAGAA',\n",
       " 'TGATGCAGCTCAAGGTCACACTAACCCGCCCTGTGACA',\n",
       " 'TTCACTGCTCCTGGGTCACAGTCCCCTCGCTGTCACTG',\n",
       " 'AAGCCTTACACAGGGTCACAGTGAACCCCTGGGGATTT',\n",
       " 'GGCTGATCTGGCGGGCCAGGGTGACCTGTCGAAGGCCA',\n",
       " 'CTTCCCCCTGCAAGGTCACGGTGGCCACCCCGTGAGCC',\n",
       " 'CCCTGAAAAGATGGGTCACAATGACCCCTAAACCAGCC',\n",
       " 'CACATTGAAAAAAGGTCAGAGTGACATTTTCTACCTAA',\n",
       " 'TTTCACTTGCAAATGTCACAGTGTCCTGGCCAGAGCTA',\n",
       " 'CCACCTGTCTTTGTGTCACGTTGACCTTTCAGTCTTAA',\n",
       " 'GTTTGTTTTCCAGGGTCAGGTTGGCCCATTTCTAGCCC',\n",
       " 'CGAGTTCCCAGTGGGTCAAGTTGCCCCCGAGCGGCGTC',\n",
       " 'CTGCTCTGAGCAGGGTCACCTTGCCATTTTGTTTTAAA',\n",
       " 'TTGGCTCCCCAAAAGTCACGTTGACCTTTCCCATCACT',\n",
       " 'CAAGCAACAACAGGGTCAACGTGACATTAAATGGTATG',\n",
       " 'CAGGCTGCGGTAGAGTCAGAGTGACCTGAGGGGCTGAT',\n",
       " 'CCTCCATTGGCAAGGTCATGGTGAAATGCTGTCTCTTG',\n",
       " 'GACAGGCACAGAAGGTCACCTTGCCCCATGACTTGCCT',\n",
       " 'TATAATCCCAGAAGGTCAGGCTGTCCCAATCCTTGTAT',\n",
       " 'TCTTTTGCCTTGGTGTCACTGTGACCTGGCACGTAGTT',\n",
       " 'GAATTCTAAACAAGGTCATTTTGACATATGGAGAGCAT',\n",
       " 'TACTGCCTGCAAAGGTCTTGTTGACCTGGGACACTCAC',\n",
       " 'CTAAGGTCACCTTGCTCTGGGCTTGGTGAGGGGGGGGG',\n",
       " 'GGGCCCATCTCCAGGTCAGGTTCTCCTGGCTCCACCTG',\n",
       " 'GTGAAACTGGGTCAAGATGGCCTCGGATTTGAGCGGGG',\n",
       " 'CACCTCTCCTCCATGTCAAGGTGACCCCAAAATAGTAG',\n",
       " 'ATAAAGATCTCTGGGTCAACTTGACATCTTCTAGACTC',\n",
       " 'TTCAAGTTTATTAGGCCACAGTGACCTGTGTTTATCGC',\n",
       " 'CGTGCTCTGTATAGGTCACGGCGTCCCGGATCACGTTC',\n",
       " 'CGTGCTCTGTATAGGTCACGGCGTCCCGGATCACGTTC',\n",
       " 'GGTTGAGGCTCAGGGGCACTGCGACCTCACTGTGTCCC',\n",
       " 'AGTTACCGACCTGGGTCACGTTCACCCAGAGGGCAACT',\n",
       " 'TAAGGCTCAAAAAGGTCAGGTTATCCCGGCACCAGTCT',\n",
       " 'ATGTTGAGCTCAGAGTCAGAATGCCCTGCCCCAGACAT',\n",
       " 'GAAGGCCTGGCAAGGTCACTCTGAACCCAAGGGGTGAA',\n",
       " 'CGTGCTCCGTGTAGGTCACGGCGTCCCGGATCACGTTC',\n",
       " 'TAAAATAAACCAATGTCAAATTGACCTTTGGTTCCCTT',\n",
       " 'GGAGCCAGACTGAGGGCAGGGTGCCCTCCCTGCCCTCC',\n",
       " 'GAGGGATCCGTTGTGTCACAGTGACCCGCATTCCTGTC',\n",
       " 'TCACCATCAGCAAGGTCAGCTTGACACTCAAGTGGAAG',\n",
       " 'CAGCTTGCTTCTATGTCAATGTGCCCTTGCTCCTTACT',\n",
       " 'TGGCAAGACACAAGGTCAGTGTGGACTGGGCACATGGT',\n",
       " 'ACACTAAATGAAAGGTCATTTTACCCTCCTGGGGAGAT',\n",
       " 'AGTGATAGAGCGGTGTCAAGTTGACCTTTTGTAAAATC',\n",
       " 'GCGGCTGTGCCCGGGTCACGACGCCCTTTAAAGCTTCA',\n",
       " 'GCTCCTTCCCCAGGCTCACTGTGACCCAGCCATAGTTG',\n",
       " 'ACCCTGAGCTGCAGGTCACCCTAACCTGTTTGCCTTCC',\n",
       " 'GTCCCAAGGGCTGGGTCACCCTGCCACGGCCTCGCCCA',\n",
       " 'CTGCCACATCCTAGGGCATCATGACCTCAGAAAAATGC',\n",
       " 'AAACGTCATGCTGGGTCATGGTGAACAGGATCCAGGAC',\n",
       " 'AGTTGATAAACAGGGTCAGGCTGCTCAGAGGGAGAATG',\n",
       " 'TGCTTAACTTCTGTGTCACTGTGACATTTCTAAATGTC',\n",
       " 'TGTTTCCCATTTAGGTCACTTTGATCTATGACTGAGCC',\n",
       " 'CAAGTGTGCTCTGGGTCACCATGACCAACCTGTCAGTG',\n",
       " 'CACAAGGAGAAACGGTCATGGTGACCCATTCTGAGCTG',\n",
       " 'CACTGCTGGAGAAGGTCAGGTTCCCCCCTGCTGGAGAA',\n",
       " 'GGTTCCAGGGCAAGGTCAGTCCGACATGCATGAAACCC',\n",
       " 'AACAAATATACTGGGGCACGGTGGCCCCTTCTCTCCAG',\n",
       " 'CTGTGTGGTGGAAAGTCAGGGTGACCAGATGGCTTGGG',\n",
       " 'TTAGGGTCATGTTGACTTTTCCCCATATCGGGGGGGGG',\n",
       " 'GCGGATGTCAGAAGGTCAGGTCGCTCTGCTCCTTTCGC',\n",
       " 'TCTAAAGAGGTAATGTCAAAGTGCCCTCCAAAAAGGCT',\n",
       " 'ATTTCCACTTCTAGGTCAGAGAGACCCTATAACTTCAC',\n",
       " 'GAGGAGTCAGAAATGTCAAGCTGTCCTCGAAGGCAGCT',\n",
       " 'AAAACACAAAGAAGGTCAAGGTGCTCCTCAACTTAGAT',\n",
       " 'GAACGGGATCAACTGTCAGGCTGACCTGCCCCGCCCTC',\n",
       " 'ATGGCTCACCCTGACCTCTGCCTGAAACGGGGGGGGGG',\n",
       " 'TGGATTAACTATGAGTCAAGGTGCCCCGTGCCGACCCA',\n",
       " 'TGAACACTTGCCAGGTCACTTTGTTCTACTTAGATATA',\n",
       " 'CAGGGTGTGGCCAGGTCAAGGTGAACCACATGCTGCTG',\n",
       " 'TTAAATCACACTGGGTCACAGTGATTTCTGCCCTTAGA',\n",
       " 'CCGTCTGTCTGGGGGTCACAGCGTCCTGCGGAGGGACC',\n",
       " 'GATGTTAGAAAAAGGTCATCATAACCCGGAGTGCATTT',\n",
       " 'ATCTGTGGGACTAGGTCACTGTGACAAACTATATAATA',\n",
       " 'CTGGAAGATCTGGGGTCTTGGTGACCTCTCAGCTTTCA',\n",
       " 'AGGCGGCGGGGAGGGTCAGGGTGCGCTGTCTCCTCCGG',\n",
       " 'TTGGATTTCTTGGGGTCAAGCTAACCTCACCTAAAGAA',\n",
       " 'CGGTTCTTAGCAGGGGCAGCCCGCCCTGACATGCGTGT',\n",
       " 'AATGGAATGACAAAGTCACTCTGCCCCTGACTAGGTCA',\n",
       " 'CTGCTGAGTGACATGTCAAGCTGTCCTGAGAGCACACT',\n",
       " 'TTAAGAACGTCAAGATCATCTTGCCCTATAAAGGTTAT',\n",
       " 'ATTCAATGACCTGGGTCAAGAAGTCCTCCACAGGTCTG',\n",
       " 'TCATCTGTTTGTAGGTCAGCGTCACCCATAACTGTCTG',\n",
       " 'AGCAACTGACAGAGGTCAGGTCGACCCAGGGATCCTGA',\n",
       " 'CTCTGCCTGAGCATGTCATGCTGCCCTTGGGGGGGGGG',\n",
       " 'TGCAAAGAGAAAATGTCAGGGCGACATGCCGCCAAGAT',\n",
       " 'TGGGCCTTGTATGTGTCACGGTGACACATCTGCAGGGA',\n",
       " 'GCAAACCAAACAGTGTCACAGTGCTCCTGAAGAAAACG',\n",
       " 'TATGCATCTGGAAGGGCAGACTGCCCCCAGAATCCTGT',\n",
       " 'GGCTTCTGAGCTGAGTCAGACTGACCCATCCCACCGTT',\n",
       " 'CCTGACCCTGTGGGGTCACTTTGCTCTTTGTGACTTAA',\n",
       " 'CTCTCTTTGTCACGGTCACTGTGTCCACATCTGGATGC',\n",
       " 'GGGAACAGTCCAGGGTCAGACTGCTCACATGATGTGCT',\n",
       " 'ACTGGAGATGTGGGGTCATGGTGACTCCTGAGTGGAAA',\n",
       " 'TTCATCTGGAAGAGGTCAGGCTAAACTGAAGGTACACT',\n",
       " 'CGAGGCTTAACTAGGTCTGGTTGACCATTTCCTAGATC',\n",
       " 'GGGTGAGGGTCAAGGGCAACGAGCCCTGAGGCCACACC',\n",
       " 'TGGTAATGGTCTGGGACAAGGTGACCACAGCATTCTGA',\n",
       " 'AGAGCTGTGTGTAGGTCTTGGTGAACTGGAGTAAGATT',\n",
       " 'GGAGACTTGAACGGGTCACGTTACCTTGGCAAGTCTCC',\n",
       " 'TGGCAATGTTTTGTGCCACTGTGACCTCATAATGTTAA',\n",
       " 'AAGCACAGATGAAGGTCTAGGTGCCCCTTCGTTTCTGA',\n",
       " 'TTTGCTAAATGTGGGACAGGGAGACCTGTTTAGGATGA',\n",
       " 'ACAAGGGCAATGTCATGCTGATCCAGTACCTGTTGGGG',\n",
       " 'TGTTTGCCCTTAAGATCAGGTTGACCAGAGGAAGCCTG',\n",
       " 'AAAGATACACCTGTGTCACGCTGCTCCTTCCCCGACCG',\n",
       " 'GCCAGCAAGCTGAGGTCAAGCTGCACTGTCAATACAAC',\n",
       " 'GGGGCCTGGCAGGGGTCACCAAGCCCTGTGCCACATGA',\n",
       " 'CTTTGGAGAGGGAGGTCAGGGCACCCTTGCCTGGCACA',\n",
       " 'CCTACATATAGAGGGTCAGGATATCATCTTTGCACAGA',\n",
       " 'GGAGAATGCATGGGGACAGGATGCCCTGCTGATGGGTG',\n",
       " 'GCTGACAAAGCAGGGTCAGGGTATTATTTGCATTCTCC',\n",
       " 'TGGAGCTACAGAGGGCCATGCTGGCCTGGAATAGCGGC',\n",
       " 'CAAGACAAACCCAAGTCATGTTGATCTTCTGCTTCCTT',\n",
       " 'AGCACACACCTAATGTCATGCTGACATTCTTTACAACC',\n",
       " 'CCAGTTCCTGGGAGGGCAGTGTGACCAGGAGCAAGGAA',\n",
       " 'GCACTTAATTAAAAGGCAGCTTGACCTCCTTATCACCA',\n",
       " 'TCTGGCTAGGCCAGGGCAAAGGGACCTGGGCCATGACC',\n",
       " 'CTACAAAGACAAATGTCAGGATGACTTAGAGGCATTCA',\n",
       " 'GGTATTTCTGCTGGGTCACTTCATCCCGGGGGCCTCTG',\n",
       " 'ACCAGCAAACTAGGATCATCTTGTCCTGTATTTTTGCC',\n",
       " 'CCTTCTGAGTCAAGCTCAAGACGCCCTGCTGGCAAGTG',\n",
       " 'GTTCTTAAACCAGGGCCAGGTCACCCTGGAGAAGAACT',\n",
       " 'AGATTCATAATAGTGTCACTCTGACATTAACAAGCCTA',\n",
       " 'GCTGATAACCCAAGGTCTTGCTGAACTTGCTAGTACAA',\n",
       " 'ACACACCTGGCTGTGTCAATAGGACCTGCCTCTCCTAA',\n",
       " 'CTGACCCACACAGGGGCAACCTGAACTCCTGAGCCATA',\n",
       " 'ACAAATGTGTATGTGTCACAGTAACCCATTATTGTGGC',\n",
       " 'CAAAGGACCTCGGTGACATGTTGACCTCTCCCTCTGCC',\n",
       " 'GCCACTTACAGAAGGTCAGAGAGGCCTTCCTGGAAGGG',\n",
       " 'TTAAGACCTTGTGGGTCAGGGCTACCTGCCCAGTTCAG',\n",
       " 'TCCAATTGCTGCAGGTCACAGGAACCTTGATCTGTGCT',\n",
       " 'GACCATGAAGCCCGGTCACATGGCCCTGGGGCTGGGAG',\n",
       " 'TTCTGTTAACCTGGGTCATAAAGACATGAATGAGTTTA',\n",
       " 'AATGTATGTGCACTGTCACTTTGCTCTGGGTGGAAGTA',\n",
       " 'TCTCCCTGCCCAGAGTCACGCTGCCTCCCTGGTTACCT',\n",
       " 'TGCTAGATGCCAAGGTCATTTTGTTTTCCTTCAGAATC',\n",
       " 'AGGGTCTGTGCCAGGTCTGGGTGAACCTTTCTCCTCCT',\n",
       " 'CCGGATATATTTGGGTCACACTAATCTAAGCAGGAATT',\n",
       " 'ATCTTCTCCTGAGGGCCTGTTTGACCTGAGACACAAAC',\n",
       " 'AGTAAACAACCCAGGTCAGGATATCCATTTAAATTACC',\n",
       " 'AACAGGTTTTCAAGGGCAGCTTAACATTCTCAAGTGAT',\n",
       " 'TAGAACAGAGTGATGTCACTGTGCCTTGTTGCTGACAT',\n",
       " 'CCAGGTCTGAGGAGATCAGGTTGAACTGAACAAGGTTC',\n",
       " 'TGATCTACCCTTAGGTCACCCTGTTCCTCCTGACCCCT',\n",
       " 'CAAGCATGCTTAGGATCATTGTGCCCCACAATAAAAAA',\n",
       " 'GTCATCTTCAAAAGGTCACCAGGCACTGGATGACTTCA',\n",
       " 'TGTTACCACATAGGGTCAGGGCCCCCCAGGCCCCAGGT',\n",
       " 'ATGCCCTCATCTCTGGCACCTTGACCTGCCCCATCTCC',\n",
       " 'AATGAGATTGCAGGGGCAATGTGTTCCCTGCTTGAGAA',\n",
       " 'GAGAGGGCGGACAGGTCACTTTGTCTCCACTCTAGTTT',\n",
       " 'GGATGGTTTATAAGGTCACAAGCACCTGAGAAAAGATC',\n",
       " 'CAAGTGCACAATCGGTCATTATGACATGAGTTGATTTT',\n",
       " 'AATACTGAATCCAGGTCACCTAGCACTCGGTGGGGTAA',\n",
       " 'AAAGCCAGAGGAGGCTCAGTTAGACCTCAGAAGGGAAC',\n",
       " 'TTTATTTCATATGGGTCAGAGTGCTTTAGAAGACTGTT',\n",
       " 'CATTAAGAAAATAGATCATGTTGTTCTGAGTTGCTCTC',\n",
       " 'TTTGGACTAATCAGGTCACTACACCCTGACACAGCAGT',\n",
       " 'CCGGAGGGTGGTAGGTCACCGCGCTCCTAGCACCTGAG',\n",
       " 'AACAAAGTCAACGGCTCACTTTGTCCCCACCCCACCCT',\n",
       " 'GCCTTCTCCACAGGGTCATCCTCTCCAGCTTATATTCC',\n",
       " 'GCTTCTAACCGGGACTCAGGGTGCCCTCTGTAGAATAG',\n",
       " 'TCAGAAACTCTTATCTCACGTTAACCTGAGACCTTGCC',\n",
       " 'CCTACAGTCTCAGTGCCACTTTAACCCGTCCTTCTTGG',\n",
       " 'TCCGAATTTCAAGGACCAAGGTGACCCGACCTGTGTAT',\n",
       " 'TTACAGCCCTCACTGTCACCCTGTCCCCAGGTCCCTCC',\n",
       " 'GGTAAGAACACCAGGTCAGACTATCTTGCCTCCAGCAC',\n",
       " 'GGATTTTCTGGTGGGTCTCCCTACCCTCCATGAAAGAG',\n",
       " 'AAAAATTTCCCCGAGCCACTGTAACCTGAGCTAATGAA',\n",
       " 'GGTTTTCTTTCCAGGTCACTGGAATCTACAAAGCCACC',\n",
       " 'AAGTGTACTCCTGGGTCACCCCACTCTCCTGCAAGACA',\n",
       " 'GAACCATGCCAAGTGTCACTGTGACAAATGTCAAGTGT',\n",
       " 'AAACTCTGAATGTCACTTTAACATTTAAAAAGAGAGGG',\n",
       " 'GCCATTTTATCAAGGACAGAAAGCCCTGACCCACCACG',\n",
       " 'GGGGCTGTTTCCAGGCCAAGGTGCCTTTCTCAGATCCT',\n",
       " 'AGAAAACAGACAGGCTCAATTTCACCTATTCCTGCAAT',\n",
       " 'AAGGAGGCAAAAGGGACAGGCTGTACTCTAAAGGACTT',\n",
       " 'GCCAAGTAAACAAGGTCATATTGGACCAGACACAGCCG',\n",
       " 'CCCTCTCCCTGTGGGTCATTGTAAACCATTTTTAAGCC',\n",
       " 'TTGAGCAGGGGTGGAGCAGTCTGCCCTGTGCCGCTCTG',\n",
       " 'GTTTGCATTAGGAGGTCAAGCTGCTCAGTGCTGTCTTT',\n",
       " 'AGAAAGTGAACTGGGTCACCTGACACTGATCCAGAGAA',\n",
       " 'AACATCCCGTGAGGGCCAGGATGTTCCGCACGAGTCTC',\n",
       " 'AGATGACCTTATAGGACAGGCTGTACTGGTAGTGTGGG',\n",
       " 'TTTGGTGCCCTTGGGTCAGGTCTACCTGGCTCAACCTC',\n",
       " 'CTATCATAAGCAAGGTCAAGGTTTTCTCAGAAATTGCT',\n",
       " 'CTTGTTAGGTCATGGGCACCCTGAAACTAATCGGGGGG',\n",
       " 'GGGTCACCTGTGGGGTCAGGTGGTCATCATAGACACTA',\n",
       " 'CTCAGCACACGTGGGTCATCATAGCCTTGAGAATAGAT',\n",
       " 'AACAGTGCCCGTGGGCCAGAGTGTCCACAACACTCATT',\n",
       " 'GTAAACGAGTGAAGGTCTTGATGAACTTAAGAACAAAC',\n",
       " 'GACTGGTCTGCTGAGTCACAGCAACCCCACGCTCCAGG',\n",
       " 'TCAAGGTCTGCTTGGTCATGTTGCACTGTGTTTTCACC',\n",
       " 'AGCTTTTGACCCAGGTCAAAGGCTCCTGACACACACAA',\n",
       " 'CTTTCCAAGCCAGAGTCAAAGTCACATGGCTTGGTAGC',\n",
       " 'GGAGCGCATCACCGGTCAGTGCGCCCCCTCCAGGAGCG',\n",
       " 'AGCCGGTCAAGAATGTCATCTTGCTCCTCAATTTCTGT',\n",
       " 'CCACCATGATCAGTGTCACGGACACATCCCAGCATAGC',\n",
       " 'AGCCTGCTGCCAATATCAGAGTGATCCCTACCAATGTG',\n",
       " 'CACATTCTTGCCAGGTCATGATAATATTGCAAAAGTTG',\n",
       " 'CTAATCCTCCAGCGGTCACAGTGACTTATACAAGGGCT',\n",
       " 'CTCAGCCACAGTGAGTCAGTGTACACTGGCACGACTCC',\n",
       " 'CTAATTCCACGAAGCTCACTCTATCCTATTTCCATTTT',\n",
       " 'AATGAAGCACTGGGGTCATGTTGTTCACATCCTGGGAT',\n",
       " 'ACTCCATTTAGCGGGTCACGTAGCCACTAGGGCTTCCT',\n",
       " 'TTTATCCTACCAGGCCCAAAGTGATCTGGCCCCTGCCT',\n",
       " 'CTGCCTCCTGAAATGTCAGCGTAGCCCTCAAACTCATG',\n",
       " 'ACTTCAGTTTCAGGCTCACCAGAACCTCTTCTGACCAT',\n",
       " 'AGTGAGTAAAAAAAGGCATCTTAACCTGCTGGCTACCC',\n",
       " 'AAGCAGGACTGTGTATCAGTGTGCCCCATGTTGTTAGT',\n",
       " 'CGCAGCGAGTGACTGTCACGTGGACCCCTCTTACAACC',\n",
       " 'CAGCATTATCCCAGGACATGAGGTCCTGGAGGTTAGAG',\n",
       " 'AAAACCAAATGAGGCTCACTTTCTCCTTCCAGGTTTCC',\n",
       " 'AAAAATCTTTCAGGGGCAGGTAGAACCTAGAGCATCTC',\n",
       " 'CACCCTAACACTAGGTCAAAACAGCCTGGAGCTGCTTG',\n",
       " 'ACTAATTTCTCAAGGTCAGGATAGCTCTCTAAATAGAG',\n",
       " 'CCCCAGCTTCACAGCTCATGGTACTCTCGGTCTTTCCA',\n",
       " 'CCTGGACAGTCTGGGGCTGCGTGCTCTAGACCGGGGGC',\n",
       " 'TGCGTGTCCTCCAGGGCAGGGAGTCATTGGGAAGGCAG',\n",
       " 'GCTGCTTGTTCTGTGTCACTTGGCACCGAGGACATTGA',\n",
       " 'GGACATAGGCATAGGGCATGACACCCTCACTCTGCATG',\n",
       " 'CTGAAAGCAAATGGGTCATTATGACTATTTGCTTACGG',\n",
       " 'AGGACCAAGGCCAGGTCACCTGGTTCCAGGGCTTACGC',\n",
       " 'CTTTCCCTTTCTAGGTCAGGTCGTTACTGCTCATTTTG',\n",
       " 'GGCTTTGTTACCAAGTCAGGGTCCCACCTTCCCTAGGC',\n",
       " 'CATCCCCTGGTCATGTCATCGGGATCTGAGTGCCGGGG',\n",
       " 'TGTAAACAATTAGAGTCACCATGGTCTGAGCAGGATGA',\n",
       " 'GTGAGGCGAGGAAAGTCAGTCGAACCTCAATGAACTGG',\n",
       " 'CTCCAAGATAAAATCTCATTCTGTCCTTGTCCCTCTAA',\n",
       " 'TGAACTGGAACTATGTCACTACAACATGGTTTACAACA',\n",
       " 'TGCAAGGCACAGATGTCACCTCAACCTTCAGAAACACA',\n",
       " 'TAGCCCTGGAATAGGTCACCAGGCTCCAGCGACTATAA',\n",
       " 'TGTTCATAATCAAGGTCAGCATAGCACAAAGACTCCTA',\n",
       " 'ATAAATACTGCAAGCTCATTGTAATATCATAAAGTGAT',\n",
       " 'GAATGACAGCATGTCTCAGGATGTCCCAAAATGAGTCC',\n",
       " 'TAATAAGCAGCAAAGACAAGTTATCCTGGCATTTTACC',\n",
       " 'TAGGAGGGTCACAGGTCTGTGTGCTCAGCAAATGTTTG',\n",
       " 'TGGAGTGCCTGTGTGACTAGGTGACCTGTTATTTATGT',\n",
       " 'CGATGCCCAGTAAGGTCAGAGAGTTATCCTGCAGTAAC',\n",
       " 'ATGAGTTTTACTGGGTCTTGGTCTTCTATTTCAGTTGC',\n",
       " 'GAGAGAGGGCCACTCTCATTGTAACCTGTGCTCTCCAA',\n",
       " 'GTTTAATAGGGCAGGGCAAGCTGTACTTCTGAAAATGC',\n",
       " 'TGTCTCTCAAGAGGGCCAGGTTAACAAGGGGTCAGGGG',\n",
       " 'TGTTTTTTCCCAAGGTCAAAAGGGCCAGTAATTCACCC',\n",
       " 'GCTCCCCACCCCGGGTCACCCTAGTCCTCCAGTCGGCT',\n",
       " 'CAAACTCCTGCTTTGTCAGAGGGACCTGGGACTCAAGT',\n",
       " 'CATTCATGAGTTGGGTCACTCTAGACTTCACAGAACAG',\n",
       " 'TAATGACAGTATAACCTCAAGGTGTGGCGGGGGGGGGG',\n",
       " 'TCCCTCATCCTCAGGTCACAGTACATTGTTCTACTGTA',\n",
       " 'GCTAAATGACCCAGGGCATTCTCCCCCACAGCAGCGGA',\n",
       " 'CTATCTTTCCCTGGATCATATTCATCTCACATAATGCA',\n",
       " 'GTCTGCATCAAAATGCCAGATTGTCATCTCCAGTTTAG',\n",
       " 'CACATATTTAAAGAGGCAAGCTGTCCCACTGGAGAGAT',\n",
       " 'AGGGGAGCGCAGAGGTCAGTGAAATCCCCAGCCAGGCC',\n",
       " 'AGCATGACGCACAGGGCAGGCCGACTTTTTCAAGGGCA',\n",
       " 'GACAGCTGGCCTAGGGCATGGACACCAGTCTCAGGTTT',\n",
       " 'ATTTATGCTGTCCGGTCACCGTGACAATGCAGCTGAGG',\n",
       " 'TTAAGTGTTTATGGGCCACAGTGCAATACCAGCTGCCA',\n",
       " 'TAAAGAAGAGATGGCACATTCTGACCTAACTTCACTAG',\n",
       " 'AAAAACAGGGCCAGGGCACCTGAACATGCATGCAGGGA',\n",
       " 'GTTTACCCCCCAGGAGCAGGTGCACCTGGGTCACCTCA',\n",
       " 'TTAACGGGTTAGAGGGCAGTTAGAACTGCCCTTGCTGC',\n",
       " 'TTGGGTGGCACAGAGTCACGTTATTTTCTGACAGTGTA',\n",
       " 'ATTAAGCCAAAGGGGACATGTTGCTCCAGGGAGAGTCT',\n",
       " 'ATCAACATGTCAGGGTCAGGACGCGCCACACAGATGTG',\n",
       " 'TGAAAGGAACAAAACTCACATTCCCCTGACCCTGCTTT',\n",
       " 'TGGCAAGAAGGAGGCTCCCTGTGCCCTGGAGCTGCTCT',\n",
       " 'TTAAATTGCCTAAGGTCACGATATAACCACTGATAGAA',\n",
       " 'AGACTGTCTTTCATGTCACAGAGCCTTGCACTGTGAGA',\n",
       " 'GGCCCAAGATGCAGGTCTGGGTGCTTTAGGCAGGGAGT',\n",
       " 'GATTTTATCTCAGTGGCTCTTTCACCTCTTGGTAGCCC',\n",
       " 'AAGGGCTAGGAAATATCTATGTGCCCTGGGCAAATGCA',\n",
       " 'TGCTTCAAGGCAGGGCCACCGACTCCCCTAAGGTGTCC',\n",
       " 'AAGATAAACAAACAGTCATTCTGACATTTAGAGAGGCA',\n",
       " 'AAATGCCCTTCTAGAGCAAGTTGCCTTTTAAACGGCAA',\n",
       " 'AGCCAGAAGAAAGGGGCTCACTGTCCAGATACCACCCT',\n",
       " 'AAGACATTTGATAAGTCACAACGCACTCTACAAGTGCA',\n",
       " 'AATTCTCCACAGAGGCCAGAGTAATCCTTTTAAAACAG',\n",
       " 'TCACAGGCCAAAGGACCAGACTACCCTCAGAACCACCT',\n",
       " 'CTGGCATTCTGTGGGGCATCAGGGCCTCTTTAATTAGA',\n",
       " 'TTTGCACAGCAAATGTCACCCAGCACCCCCTCCAACCA',\n",
       " 'AGCAGAATGCTGCAGTCAGGGTGACACAATGCAAACTG',\n",
       " 'ATCTTGCAGTCCAGGTCAAAACATCCAGTTCCCTGCCT',\n",
       " 'CCAAGAGCTATGTGCCCCCAGAACACCCTGGGGGGGGG',\n",
       " 'AGGTAGCTGGAAGGGTCACTCTGGTAATAGACTGCTGC',\n",
       " 'CTCCAGCCAAAGAGATCAGCCTTCCCTGAACCCCTCCC']"
      ]
     },
     "execution_count": 2,
     "metadata": {},
     "output_type": "execute_result"
    }
   ],
   "source": [
    "def read_data():\n",
    "    with open('sequence.padded.txt') as handle:\n",
    "        # I dont think this is the actual sequences we should be using\n",
    "        # put using as placeholder for now.\n",
    "        return [s.strip() for s in handle.readlines()]\n",
    "\n",
    "data = read_data()\n",
    "data"
   ]
  },
  {
   "cell_type": "markdown",
   "id": "824d91ec",
   "metadata": {},
   "source": [
    "Create matrix $X_{i,j,p,k}$ using one-hot encoding scheme."
   ]
  },
  {
   "cell_type": "code",
   "execution_count": 3,
   "id": "9b1da2a3",
   "metadata": {},
   "outputs": [],
   "source": [
    "seq_length = len(data[0])\n",
    "motif_length = 8\n",
    "number_motifs = seq_length - motif_length + 1\n",
    "X = np.zeros((len(data), number_motifs, motif_length, 4))\n",
    "\n",
    "def nuc_to_one_hot(nuc):\n",
    "    # Convert nucleotide to the index in one hot encoded array\n",
    "    # that should be hot (==1)\n",
    "    upper_nuc = nuc.upper()\n",
    "    mapping = {'A': 0, 'T': 1, 'G': 2, 'C': 3}\n",
    "    return mapping[upper_nuc]\n",
    "\n",
    "j_p = []\n",
    "for i in range(len(data)):\n",
    "    for j in range(number_motifs):\n",
    "        for p in range(motif_length):\n",
    "            nuc = data[i][j+p]\n",
    "            k_hot = nuc_to_one_hot(nuc)\n",
    "            X[i][j][p][k_hot] = 1.0"
   ]
  },
  {
   "cell_type": "markdown",
   "id": "e6a87f9d",
   "metadata": {},
   "source": [
    "Randomly initialize the model parameters."
   ]
  },
  {
   "cell_type": "code",
   "execution_count": 4,
   "id": "ddb2699a",
   "metadata": {},
   "outputs": [],
   "source": [
    "def init_EM(seq_length, motif_length):\n",
    "    number_motifs_per_sequence = seq_length - motif_length + 1\n",
    "    lambda_j = np.random.uniform(0, 1, size=(number_motifs_per_sequence,))\n",
    "    lambda_j_norm = lambda_j / lambda_j.sum()\n",
    "    psi_0 = np.random.uniform(0, 1, size=(4, motif_length))\n",
    "    psi_1 = np.random.uniform(0, 1, size=(4, motif_length))\n",
    "    psi_0 = (psi_0/psi_0.sum(axis=0)).T\n",
    "    psi_1 = (psi_1/psi_1.sum(axis=0)).T\n",
    "    \n",
    "    return lambda_j_norm, psi_0, psi_1"
   ]
  },
  {
   "cell_type": "code",
   "execution_count": 5,
   "id": "70e371c6",
   "metadata": {},
   "outputs": [],
   "source": [
    "lambda_j, psi_0, psi_1 = init_EM(seq_length, motif_length)"
   ]
  },
  {
   "cell_type": "markdown",
   "id": "56920512",
   "metadata": {},
   "source": [
    "## E step"
   ]
  },
  {
   "cell_type": "markdown",
   "id": "2a75cdd5",
   "metadata": {},
   "source": [
    "![](e.png)"
   ]
  },
  {
   "cell_type": "code",
   "execution_count": 6,
   "id": "91599068",
   "metadata": {},
   "outputs": [],
   "source": [
    "def e_numerator(i, j, X, lambda_j, psi_0, psi_1):\n",
    "    # i = current sequence\n",
    "    # j = current j index\n",
    "    # X = Data\n",
    "    psi_1_term = X[i][j] * psi_1\n",
    "    # remove zero terms this is in lieu of having exponent X_{i,j,p,k}\n",
    "    # whcih would cause 0 encoded values (cold values) to have\n",
    "    # value of 1 and therefore not contribute to the product\n",
    "    psi_1_term = psi_1_term[psi_1_term != 0]\n",
    "    # take product of all remaining terms (these are probibities seeing\n",
    "    # the bases in the given motif in their given positions given they\n",
    "    # are in the TFBS)\n",
    "    psi_1_term = np.log(psi_1_term).sum()\n",
    "    \n",
    "    # now need to get product of all other motifs (j' != j) but assuming they are\n",
    "    # not the TFBS (psi^0). \n",
    "    psi_0_term = X[i][np.arange(len(X[i]))!=j] * psi_0\n",
    "    psi_0_term = psi_0_term.flatten()\n",
    "    psi_0_term = np.log(psi_0_term[psi_0_term != 0]).sum()\n",
    "    return np.log(lambda_j[j]) + psi_0_term + psi_1_term  # log of products is sum of logs"
   ]
  },
  {
   "cell_type": "code",
   "execution_count": 7,
   "id": "b1c6cdae",
   "metadata": {
    "scrolled": true
   },
   "outputs": [],
   "source": [
    "def e_step(X, lambda_j, psi_0, psi_1):\n",
    "    post = []\n",
    "    for i in range(X.shape[0]):\n",
    "        post.append([])\n",
    "        for j in range(X.shape[1]):\n",
    "            post[i].append(e_numerator(i, j, X, lambda_j, psi_0, psi_1))\n",
    "        post[i] = np.array(post[i])\n",
    "        min_value = post[i].min()\n",
    "        post[i] = np.e ** (post[i] - min_value)\n",
    "        post[i] = post[i] / post[i].sum()\n",
    "    \n",
    "    return np.array(post)\n",
    "\n",
    "posts = e_step(X, lambda_j, psi_0, psi_1)"
   ]
  },
  {
   "cell_type": "markdown",
   "id": "59b46126",
   "metadata": {},
   "source": [
    "Calculate ELBO. What exactly is ELBO here?"
   ]
  },
  {
   "cell_type": "code",
   "execution_count": 8,
   "id": "efdb626a",
   "metadata": {},
   "outputs": [],
   "source": [
    "def calculate_ELBOOOOO(X, posts, lambda_j, psi_0, psi_1):\n",
    "    \n",
    "    def lambda_j_term():\n",
    "        return (posts * np.log(lambda_j)).sum()\n",
    "    \n",
    "    def C_ij_term():\n",
    "        sum_list = []\n",
    "        for i in range(X.shape[0]):\n",
    "            for j in range(X.shape[1]):\n",
    "                for p in range(X.shape[2]):\n",
    "                    for k in range(X.shape[3]):\n",
    "                        sum_list.append(\n",
    "                            X[i][j][p][k] * (posts[i][j] * np.log(psi_1[p][k]) + (1 - posts[i][j]) * np.log(psi_0[p][k]))\n",
    "                        )\n",
    "        return sum(sum_list)\n",
    "    \n",
    "    def entropy():\n",
    "        return (np.log(posts) * posts).sum()\n",
    "    \n",
    "    return lambda_j_term() + C_ij_term() + entropy()        "
   ]
  },
  {
   "cell_type": "markdown",
   "id": "6c084e15",
   "metadata": {},
   "source": [
    "## M step"
   ]
  },
  {
   "cell_type": "markdown",
   "id": "f489e589",
   "metadata": {},
   "source": [
    "Quon says $\\boldsymbol{E}[C_{i,j}] = P(C_{i} = j | X_{i}, \\theta)$"
   ]
  },
  {
   "cell_type": "markdown",
   "id": "e3a2c987",
   "metadata": {},
   "source": [
    "He also gives what $\\boldsymbol{E}[C_{i,j}] = P(C_{i} = j | X_{i}, \\theta)$ equals to in the E step (shown in the image below.)"
   ]
  },
  {
   "cell_type": "markdown",
   "id": "fb1c0235",
   "metadata": {},
   "source": [
    "### $\\lambda_{j}$"
   ]
  },
  {
   "cell_type": "code",
   "execution_count": 9,
   "id": "0b9a4931",
   "metadata": {},
   "outputs": [],
   "source": [
    "# Make practice posterior to troubleshoot M-step\n",
    "lambda_j, psi_0, psi_1 = init_EM(seq_length, motif_length)\n",
    "practice_posterior = []\n",
    "for i in range(X.shape[0]):\n",
    "    practice_posterior.append(lambda_j)\n",
    "practice_posterior = np.array(practice_posterior)"
   ]
  },
  {
   "cell_type": "code",
   "execution_count": 10,
   "id": "999c8d1d",
   "metadata": {},
   "outputs": [],
   "source": [
    "def lambda_j_m_step(E_Cij):\n",
    "    return E_Cij.sum(axis=0) / E_Cij.shape[0]"
   ]
  },
  {
   "cell_type": "code",
   "execution_count": 11,
   "id": "f8dc0d03",
   "metadata": {},
   "outputs": [
    {
     "data": {
      "text/plain": [
       "(31,)"
      ]
     },
     "execution_count": 11,
     "metadata": {},
     "output_type": "execute_result"
    }
   ],
   "source": [
    "lambda_j_m_step(practice_posterior).shape"
   ]
  },
  {
   "cell_type": "code",
   "execution_count": 12,
   "id": "a3bdd6c7",
   "metadata": {},
   "outputs": [
    {
     "data": {
      "text/plain": [
       "(31,)"
      ]
     },
     "execution_count": 12,
     "metadata": {},
     "output_type": "execute_result"
    }
   ],
   "source": [
    "lambda_j.shape"
   ]
  },
  {
   "cell_type": "markdown",
   "id": "bf68010a",
   "metadata": {},
   "source": [
    "### $\\psi^{1}_{p, k}$"
   ]
  },
  {
   "cell_type": "markdown",
   "id": "a80c70db",
   "metadata": {},
   "source": [
    "Product of indicator variables for a given motif (For example the matrix at `X[0][0]`) and the expectation at that motif calculated during the E step. Then take a sum overall all those values and divide by the number of sequences."
   ]
  },
  {
   "cell_type": "code",
   "execution_count": 13,
   "id": "09827e08",
   "metadata": {
    "scrolled": true
   },
   "outputs": [
    {
     "data": {
      "text/plain": [
       "array([1., 1., 1., 1., 1., 1., 1., 1.])"
      ]
     },
     "execution_count": 13,
     "metadata": {},
     "output_type": "execute_result"
    }
   ],
   "source": [
    "def psi_1_m_step(X, E_Cij, psi_1):\n",
    "    new_psi_1 = np.zeros(psi_1.shape)\n",
    "    for p in range(psi_1.shape[0]):\n",
    "        for k in range(psi_1.shape[1]):\n",
    "            numerator_terms = []\n",
    "            for i in range(X.shape[0]):\n",
    "                for j in range(X.shape[1]):\n",
    "                    numerator_terms.append(X[i][j][p][k] * E_Cij[i][j])\n",
    "            psi_pk = sum(numerator_terms) / X.shape[0]\n",
    "            new_psi_1[p][k] = psi_pk\n",
    "    return new_psi_1\n",
    "            \n",
    "            \n",
    "psi_1_pract = psi_1_m_step(X, posts, psi_1)\n",
    "psi_1_pract.sum(axis=1)"
   ]
  },
  {
   "cell_type": "markdown",
   "id": "37ef5ec7",
   "metadata": {},
   "source": [
    "### $\\psi^{0}_{p, k}$\n",
    "\n",
    "Seems pretty much like other $\\psi$ but add some subtractions and change the denominator to the number of sequences times the number of possible motifs."
   ]
  },
  {
   "cell_type": "code",
   "execution_count": 14,
   "id": "d6d1f08f",
   "metadata": {},
   "outputs": [
    {
     "data": {
      "text/plain": [
       "array([1., 1., 1., 1., 1., 1., 1., 1.])"
      ]
     },
     "execution_count": 14,
     "metadata": {},
     "output_type": "execute_result"
    }
   ],
   "source": [
    "def psi_0_m_step(X, E_Cij, psi_1):\n",
    "    new_psi_1 = np.zeros(psi_1.shape)\n",
    "    \n",
    "    motif_length = X.shape[2]\n",
    "    seq_length = X.shape[1] * motif_length\n",
    "    \n",
    "    for p in range(psi_1.shape[0]):\n",
    "        for k in range(psi_1.shape[1]):\n",
    "            numerator_terms = []\n",
    "            for i in range(X.shape[0]):\n",
    "                for j in range(X.shape[1]):\n",
    "                    numerator_terms.append(\n",
    "                        X[i][j][p][k] * (1 - E_Cij[i][j])\n",
    "                    )\n",
    "\n",
    "            psi_pk = sum(numerator_terms) / ((seq_length - motif_length + 1 - 1) * (X.shape[0]))\n",
    "            new_psi_1[p][k] = psi_pk\n",
    "            \n",
    "    return new_psi_1\n",
    "            \n",
    "            \n",
    "psi_1_pract = psi_1_m_step(X, posts, psi_1)\n",
    "psi_1_pract.sum(axis=1)"
   ]
  },
  {
   "cell_type": "code",
   "execution_count": 15,
   "id": "7e269195",
   "metadata": {},
   "outputs": [],
   "source": [
    "def m_step(X, E_cij, lambda_j, psi_1, psi_0):\n",
    "    return lambda_j_m_step(E_cij), psi_1_m_step(X, E_cij, psi_1), psi_0_m_step(X, E_cij, psi_0)"
   ]
  },
  {
   "cell_type": "code",
   "execution_count": 16,
   "id": "db0daef7",
   "metadata": {},
   "outputs": [],
   "source": [
    "import matplotlib.pyplot as plt"
   ]
  },
  {
   "cell_type": "code",
   "execution_count": 19,
   "id": "222a0077",
   "metadata": {},
   "outputs": [
    {
     "name": "stdout",
     "output_type": "stream",
     "text": [
      "10000301334.12107\n",
      "852.901084727433\n",
      "-466.1159905414097\n",
      "282.47789453546284\n",
      "-361.5951957779471\n",
      "149.98810088046594\n",
      "-232.94597376539605\n",
      "42.189629254862666\n",
      "-120.4544905773364\n",
      "-63.32806459243875\n"
     ]
    }
   ],
   "source": [
    "l_0, l_1 = 0, 1e10\n",
    "l_diff = 1e-3\n",
    "lambda_j, psi_0, psi_1 = init_EM(seq_length, motif_length)\n",
    "elbos = []\n",
    "for i in range(10):\n",
    "    posteriors = e_step(X, lambda_j, psi_0, psi_1)\n",
    "    lambda_j, psi_0, psi_1 = m_step(X, posteriors, lambda_j, psi_1, psi_0)\n",
    "    l_0 = l_1\n",
    "    l_1 = calculate_ELBOOOOO(X, posteriors, lambda_j, psi_1, psi_0)\n",
    "    elbos.append(l_0 - l_1)\n",
    "    print(elbos[i])"
   ]
  },
  {
   "cell_type": "code",
   "execution_count": 22,
   "id": "678e1133",
   "metadata": {},
   "outputs": [
    {
     "data": {
      "text/plain": [
       "[<matplotlib.lines.Line2D at 0x7f870217e880>]"
      ]
     },
     "execution_count": 22,
     "metadata": {},
     "output_type": "execute_result"
    },
    {
     "data": {
      "image/png": "[encoded data removed]",
      "text/plain": [
       "<Figure size 432x288 with 1 Axes>"
      ]
     },
     "metadata": {
      "needs_background": "light"
     },
     "output_type": "display_data"
    }
   ],
   "source": [
    "plt.plot(elbos[1:], linestyle = 'dotted')"
   ]
  }
 ],
 "metadata": {
  "kernelspec": {
   "display_name": "Python 3",
   "language": "python",
   "name": "python3"
  },
  "language_info": {
   "codemirror_mode": {
    "name": "ipython",
    "version": 3
   },
   "file_extension": ".py",
   "mimetype": "text/x-python",
   "name": "python",
   "nbconvert_exporter": "python",
   "pygments_lexer": "ipython3",
   "version": "3.9.6"
  }
 },
 "nbformat": 4,
 "nbformat_minor": 5
}
