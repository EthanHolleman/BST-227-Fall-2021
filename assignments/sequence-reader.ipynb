{
 "cells": [
  {
   "cell_type": "markdown",
   "id": "a7330abc",
   "metadata": {},
   "source": [
    "Read nucleotide sequences and covert to 3D one hot encoded matrix. First dimension gives the sequences index, second is nucleotide position within that sequence, third gives nucleotide identity.\n",
    "\n",
    "$X_{ijk}$"
   ]
  },
  {
   "cell_type": "code",
   "execution_count": 1,
   "id": "11ccba07",
   "metadata": {},
   "outputs": [],
   "source": [
    "from Bio import SeqIO\n",
    "from Bio.Seq import Seq\n",
    "import numpy as np"
   ]
  },
  {
   "cell_type": "code",
   "execution_count": 2,
   "id": "f655a8e9",
   "metadata": {},
   "outputs": [],
   "source": [
    "def random_seqs(num_seqs, length=1000):\n",
    "    # Generate random test data\n",
    "    return [\n",
    "        Seq(''.join(list(np.random.choice(['A', 'T', 'G', 'C'], length, replace=True)))) \n",
    "        for _ in range(0, num_seqs)\n",
    "    ]"
   ]
  },
  {
   "cell_type": "markdown",
   "id": "06f5d347",
   "metadata": {},
   "source": [
    "From Quon"
   ]
  },
  {
   "cell_type": "markdown",
   "id": "d8dd2acf",
   "metadata": {},
   "source": [
    "\"Assume the text file input is going to be a set of N sequences (one per line, all of the same length, with the characters A,C,G, and T).\""
   ]
  },
  {
   "cell_type": "code",
   "execution_count": 3,
   "id": "70401f38",
   "metadata": {},
   "outputs": [],
   "source": [
    "def read_seq_file(filepath):\n",
    "    with open(filepath) as handle:\n",
    "        return [s.upper().strip() for s in handle]"
   ]
  },
  {
   "cell_type": "code",
   "execution_count": 4,
   "id": "e684b2d4",
   "metadata": {},
   "outputs": [],
   "source": [
    "def nuc_to_one_hot(nuc):\n",
    "    # Convert nucleotide to the index in one hot encoded array\n",
    "    # that should be hot (==1)\n",
    "    upper_nuc = nuc.upper()\n",
    "    mapping = {'A': 0, 'T': 1, 'G': 2, 'C': 3}\n",
    "    return mapping[upper_nuc]"
   ]
  },
  {
   "cell_type": "code",
   "execution_count": 5,
   "id": "ed924ac8",
   "metadata": {},
   "outputs": [],
   "source": [
    "def make_matrix(seqs):\n",
    "    # input an iterable of sequences and return one hot matrix\n",
    "    num_seqs, length = len(seqs), len(seqs[0])\n",
    "    # assume all sequences are the same length\n",
    "    matrix = np.zeros((num_seqs, length, 4))\n",
    "    for i, each_seq in enumerate(seqs):\n",
    "        for j, each_nuc in enumerate(each_seq):\n",
    "            hot_index = nuc_to_one_hot(each_nuc)\n",
    "            matrix[i][j][hot_index] = 1\n",
    "    return matrix"
   ]
  },
  {
   "cell_type": "code",
   "execution_count": 6,
   "id": "ccd7f3b9",
   "metadata": {},
   "outputs": [
    {
     "data": {
      "text/plain": [
       "[Seq('TCTGGGCCAG'),\n",
       " Seq('CACTTAAATG'),\n",
       " Seq('CGACTACGAT'),\n",
       " Seq('AACAGGGAAG'),\n",
       " Seq('CTGTCTGTAT'),\n",
       " Seq('AACCAGCATG'),\n",
       " Seq('ATGACACGTG'),\n",
       " Seq('CATGTTGGGC'),\n",
       " Seq('ACTCATTGAC'),\n",
       " Seq('CTCGGACGAA')]"
      ]
     },
     "execution_count": 6,
     "metadata": {},
     "output_type": "execute_result"
    }
   ],
   "source": [
    "rand_seqs = random_seqs(10, 10)\n",
    "rand_seqs"
   ]
  },
  {
   "cell_type": "code",
   "execution_count": 7,
   "id": "663fd344",
   "metadata": {},
   "outputs": [
    {
     "data": {
      "text/plain": [
       "array([[[0., 1., 0., 0.],\n",
       "        [0., 0., 0., 1.],\n",
       "        [0., 1., 0., 0.],\n",
       "        [0., 0., 1., 0.],\n",
       "        [0., 0., 1., 0.],\n",
       "        [0., 0., 1., 0.],\n",
       "        [0., 0., 0., 1.],\n",
       "        [0., 0., 0., 1.],\n",
       "        [1., 0., 0., 0.],\n",
       "        [0., 0., 1., 0.]],\n",
       "\n",
       "       [[0., 0., 0., 1.],\n",
       "        [1., 0., 0., 0.],\n",
       "        [0., 0., 0., 1.],\n",
       "        [0., 1., 0., 0.],\n",
       "        [0., 1., 0., 0.],\n",
       "        [1., 0., 0., 0.],\n",
       "        [1., 0., 0., 0.],\n",
       "        [1., 0., 0., 0.],\n",
       "        [0., 1., 0., 0.],\n",
       "        [0., 0., 1., 0.]],\n",
       "\n",
       "       [[0., 0., 0., 1.],\n",
       "        [0., 0., 1., 0.],\n",
       "        [1., 0., 0., 0.],\n",
       "        [0., 0., 0., 1.],\n",
       "        [0., 1., 0., 0.],\n",
       "        [1., 0., 0., 0.],\n",
       "        [0., 0., 0., 1.],\n",
       "        [0., 0., 1., 0.],\n",
       "        [1., 0., 0., 0.],\n",
       "        [0., 1., 0., 0.]],\n",
       "\n",
       "       [[1., 0., 0., 0.],\n",
       "        [1., 0., 0., 0.],\n",
       "        [0., 0., 0., 1.],\n",
       "        [1., 0., 0., 0.],\n",
       "        [0., 0., 1., 0.],\n",
       "        [0., 0., 1., 0.],\n",
       "        [0., 0., 1., 0.],\n",
       "        [1., 0., 0., 0.],\n",
       "        [1., 0., 0., 0.],\n",
       "        [0., 0., 1., 0.]],\n",
       "\n",
       "       [[0., 0., 0., 1.],\n",
       "        [0., 1., 0., 0.],\n",
       "        [0., 0., 1., 0.],\n",
       "        [0., 1., 0., 0.],\n",
       "        [0., 0., 0., 1.],\n",
       "        [0., 1., 0., 0.],\n",
       "        [0., 0., 1., 0.],\n",
       "        [0., 1., 0., 0.],\n",
       "        [1., 0., 0., 0.],\n",
       "        [0., 1., 0., 0.]],\n",
       "\n",
       "       [[1., 0., 0., 0.],\n",
       "        [1., 0., 0., 0.],\n",
       "        [0., 0., 0., 1.],\n",
       "        [0., 0., 0., 1.],\n",
       "        [1., 0., 0., 0.],\n",
       "        [0., 0., 1., 0.],\n",
       "        [0., 0., 0., 1.],\n",
       "        [1., 0., 0., 0.],\n",
       "        [0., 1., 0., 0.],\n",
       "        [0., 0., 1., 0.]],\n",
       "\n",
       "       [[1., 0., 0., 0.],\n",
       "        [0., 1., 0., 0.],\n",
       "        [0., 0., 1., 0.],\n",
       "        [1., 0., 0., 0.],\n",
       "        [0., 0., 0., 1.],\n",
       "        [1., 0., 0., 0.],\n",
       "        [0., 0., 0., 1.],\n",
       "        [0., 0., 1., 0.],\n",
       "        [0., 1., 0., 0.],\n",
       "        [0., 0., 1., 0.]],\n",
       "\n",
       "       [[0., 0., 0., 1.],\n",
       "        [1., 0., 0., 0.],\n",
       "        [0., 1., 0., 0.],\n",
       "        [0., 0., 1., 0.],\n",
       "        [0., 1., 0., 0.],\n",
       "        [0., 1., 0., 0.],\n",
       "        [0., 0., 1., 0.],\n",
       "        [0., 0., 1., 0.],\n",
       "        [0., 0., 1., 0.],\n",
       "        [0., 0., 0., 1.]],\n",
       "\n",
       "       [[1., 0., 0., 0.],\n",
       "        [0., 0., 0., 1.],\n",
       "        [0., 1., 0., 0.],\n",
       "        [0., 0., 0., 1.],\n",
       "        [1., 0., 0., 0.],\n",
       "        [0., 1., 0., 0.],\n",
       "        [0., 1., 0., 0.],\n",
       "        [0., 0., 1., 0.],\n",
       "        [1., 0., 0., 0.],\n",
       "        [0., 0., 0., 1.]],\n",
       "\n",
       "       [[0., 0., 0., 1.],\n",
       "        [0., 1., 0., 0.],\n",
       "        [0., 0., 0., 1.],\n",
       "        [0., 0., 1., 0.],\n",
       "        [0., 0., 1., 0.],\n",
       "        [1., 0., 0., 0.],\n",
       "        [0., 0., 0., 1.],\n",
       "        [0., 0., 1., 0.],\n",
       "        [1., 0., 0., 0.],\n",
       "        [1., 0., 0., 0.]]])"
      ]
     },
     "execution_count": 7,
     "metadata": {},
     "output_type": "execute_result"
    }
   ],
   "source": [
    "matrix = make_matrix(rand_seqs)\n",
    "matrix"
   ]
  },
  {
   "cell_type": "markdown",
   "id": "179a8f1f",
   "metadata": {},
   "source": [
    "Test when reading from a list of sequences."
   ]
  },
  {
   "cell_type": "code",
   "execution_count": 8,
   "id": "085f722c",
   "metadata": {},
   "outputs": [],
   "source": [
    "# write random sequences to a text file\n",
    "random_seqs_file = 'random.txt'\n",
    "with open(random_seqs_file, 'w') as handle:\n",
    "    for each_seq in rand_seqs:\n",
    "        handle.write(str(each_seq))\n",
    "        handle.write('\\n')"
   ]
  },
  {
   "cell_type": "markdown",
   "id": "5c90cb71",
   "metadata": {},
   "source": [
    "Read sequences."
   ]
  },
  {
   "cell_type": "code",
   "execution_count": 9,
   "id": "f9ba2d6f",
   "metadata": {},
   "outputs": [
    {
     "data": {
      "text/plain": [
       "['TCTGGGCCAG',\n",
       " 'CACTTAAATG',\n",
       " 'CGACTACGAT',\n",
       " 'AACAGGGAAG',\n",
       " 'CTGTCTGTAT',\n",
       " 'AACCAGCATG',\n",
       " 'ATGACACGTG',\n",
       " 'CATGTTGGGC',\n",
       " 'ACTCATTGAC',\n",
       " 'CTCGGACGAA']"
      ]
     },
     "execution_count": 9,
     "metadata": {},
     "output_type": "execute_result"
    }
   ],
   "source": [
    "rand_seqs_from_file = read_seq_file(random_seqs_file)\n",
    "rand_seqs_from_file"
   ]
  },
  {
   "cell_type": "markdown",
   "id": "019a4e59",
   "metadata": {},
   "source": [
    "Compute matrix."
   ]
  },
  {
   "cell_type": "code",
   "execution_count": 10,
   "id": "ceaaae51",
   "metadata": {},
   "outputs": [],
   "source": [
    "matrix_from_file = make_matrix(rand_seqs_from_file)"
   ]
  },
  {
   "cell_type": "markdown",
   "id": "809c8f87",
   "metadata": {},
   "source": [
    "Check to make sure is the same as the matrix computed before reading from file."
   ]
  },
  {
   "cell_type": "code",
   "execution_count": 11,
   "id": "c5a03fb8",
   "metadata": {},
   "outputs": [
    {
     "name": "stdout",
     "output_type": "stream",
     "text": [
      "Matrices match\n"
     ]
    }
   ],
   "source": [
    "assert matrix_from_file.all() == matrix.all()\n",
    "print('Matrices match')"
   ]
  }
 ],
 "metadata": {
  "kernelspec": {
   "display_name": "Python 3",
   "language": "python",
   "name": "python3"
  },
  "language_info": {
   "codemirror_mode": {
    "name": "ipython",
    "version": 3
   },
   "file_extension": ".py",
   "mimetype": "text/x-python",
   "name": "python",
   "nbconvert_exporter": "python",
   "pygments_lexer": "ipython3",
   "version": "3.9.6"
  }
 },
 "nbformat": 4,
 "nbformat_minor": 5
}
