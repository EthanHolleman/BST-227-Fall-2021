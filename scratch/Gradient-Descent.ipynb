{
 "cells": [
  {
   "cell_type": "markdown",
   "id": "dba677bd",
   "metadata": {},
   "source": [
    "# Gradient Descent\n",
    "\n",
    "Gradient descent implementation because I am pretty sure this is what Dr. Quon is asking for on the pre-req test."
   ]
  },
  {
   "cell_type": "code",
   "execution_count": 1,
   "id": "522e87f7",
   "metadata": {},
   "outputs": [],
   "source": [
    "def rolling_ball(point, dydx, step, iters=100000, precision=1e-5):\n",
    "    '''Implementation of gradient descent algorithim.\n",
    "\n",
    "    Args:\n",
    "        point (float): Starting x position.\n",
    "        dydx (float): Derivitive of the function searching for local minima.\n",
    "        step (float): Size of step to take at each iteration.\n",
    "        iters (int, optional): Max number of iterations. Defaults to 100000.\n",
    "        percision (float, optional): Max distance between steps before stopping. Defaults to 1e-5.\n",
    "\n",
    "    Returns:\n",
    "        tuple: Tuple with first value being list of points the algo stopped at\n",
    "                during the descent and second being the final point.\n",
    "    '''\n",
    "    points = []\n",
    "    for i in range(0, iters):\n",
    "        gradient = dydx(point)\n",
    "        next_point = point - (step * gradient)\n",
    "        if abs(next_point - point) <= precision:\n",
    "            return points, next_point\n",
    "        else:\n",
    "            point = next_point\n",
    "            points.append(next_point)"
   ]
  },
  {
   "cell_type": "code",
   "execution_count": 2,
   "id": "6a23b1d4",
   "metadata": {},
   "outputs": [],
   "source": [
    "points, end = rolling_ball(3, lambda x: 2*(x+5), 0.01)"
   ]
  },
  {
   "cell_type": "code",
   "execution_count": 3,
   "id": "35909b30",
   "metadata": {},
   "outputs": [],
   "source": [
    "import matplotlib.pyplot as plt\n",
    "import numpy as np\n",
    "\n",
    "def plot_path(ypoints):\n",
    "    plt.plot(ypoints, linestyle = 'dotted')\n",
    "    plt.show()"
   ]
  },
  {
   "cell_type": "code",
   "execution_count": 4,
   "id": "9d30f264",
   "metadata": {},
   "outputs": [
    {
     "data": {
      "image/png": "[encoded data removed]",
      "text/plain": [
       "<Figure size 432x288 with 1 Axes>"
      ]
     },
     "metadata": {
      "needs_background": "light"
     },
     "output_type": "display_data"
    }
   ],
   "source": [
    "plot_path(points)"
   ]
  },
  {
   "cell_type": "code",
   "execution_count": 5,
   "id": "640747c5",
   "metadata": {},
   "outputs": [
    {
     "name": "stdout",
     "output_type": "stream",
     "text": [
      "-4.999518238161995\n"
     ]
    }
   ],
   "source": [
    "print(end)"
   ]
  }
 ],
 "metadata": {
  "kernelspec": {
   "display_name": "Python 3",
   "language": "python",
   "name": "python3"
  },
  "language_info": {
   "codemirror_mode": {
    "name": "ipython",
    "version": 3
   },
   "file_extension": ".py",
   "mimetype": "text/x-python",
   "name": "python",
   "nbconvert_exporter": "python",
   "pygments_lexer": "ipython3",
   "version": "3.9.6"
  }
 },
 "nbformat": 4,
 "nbformat_minor": 5
}
