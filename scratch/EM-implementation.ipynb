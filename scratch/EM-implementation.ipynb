{
 "cells": [
  {
   "cell_type": "markdown",
   "id": "98a19261",
   "metadata": {},
   "source": [
    "# In class EM implementation"
   ]
  },
  {
   "cell_type": "markdown",
   "id": "0b3fa61d",
   "metadata": {},
   "source": [
    "## Stopping iteration\n",
    "\n",
    "Need to stop somewhere, keep track how much it is improving when it slows down then you stop optimizing."
   ]
  },
  {
   "cell_type": "markdown",
   "id": "679728e2",
   "metadata": {},
   "source": [
    "How would actually calculate?\n",
    "\n",
    "- Each sequences have is length $L$\n",
    "- How to calculate things we need given the data?"
   ]
  },
  {
   "cell_type": "markdown",
   "id": "eee7b720",
   "metadata": {},
   "source": [
    "## Computing posteriors (E step)\n",
    "\n",
    "- Posteriors goes into M step\n",
    "- At some point need to calculate post for each base for each sequence\n",
    "    - Already init $\\lambda_{l}$ and $\\Psi_{l}$"
   ]
  },
  {
   "cell_type": "markdown",
   "id": "74c78cb9",
   "metadata": {},
   "source": [
    "- Could do nested for loop but not efficient"
   ]
  },
  {
   "cell_type": "markdown",
   "id": "b929a011",
   "metadata": {},
   "source": [
    "In current model each base is sampled independently so each time you see an A you will have same value."
   ]
  },
  {
   "cell_type": "markdown",
   "id": "63e80492",
   "metadata": {},
   "source": [
    "$ P(C_{ij}=1|X_{ij}=A) = \\frac{\\lambda_{0}\\Psi^{0}_{A}}{\\lambda_{0}\\Psi^{0}_{A} + \\lambda_{1}\\Psi^{1}_{A}} $"
   ]
  },
  {
   "cell_type": "markdown",
   "id": "a2204fda",
   "metadata": {},
   "source": [
    "For next class write code to calculate the posteriors."
   ]
  }
 ],
 "metadata": {
  "kernelspec": {
   "display_name": "Python 3 (ipykernel)",
   "language": "python",
   "name": "python3"
  },
  "language_info": {
   "codemirror_mode": {
    "name": "ipython",
    "version": 3
   },
   "file_extension": ".py",
   "mimetype": "text/x-python",
   "name": "python",
   "nbconvert_exporter": "python",
   "pygments_lexer": "ipython3",
   "version": "3.9.6"
  }
 },
 "nbformat": 4,
 "nbformat_minor": 5
}
