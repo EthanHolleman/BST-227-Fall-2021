{
 "cells": [
  {
   "cell_type": "markdown",
   "id": "55f1412a",
   "metadata": {},
   "source": [
    "# Pre-req assessment"
   ]
  },
  {
   "cell_type": "markdown",
   "id": "f93dc005",
   "metadata": {},
   "source": [
    "## Problem 1\n",
    "\n",
    "- There is some unknown distribution and looking for a max likihood estimate\n",
    "- Given 100 datapoints then probibility is seeing each data point is product of seeing any individual point under the model\n",
    "- Taking dx is actually pretty hard\n",
    "    - Better way to do this is by taking log of everything (log of x is monotonic)\n",
    "    - Log of products becomes sum of logs\n",
    "\n",
    "\n",
    "## Problem 3\n",
    "\n",
    "- Coonvex functions\n",
    "- Derivitives (drawn as arrows) point in the direction of steepest decent\n",
    "\n",
    "### Objective functions\n",
    "\n",
    "Objective functions. Objective functions define the objective of the optimization. An objective function is a single scalar value that is formulated from a set of design responses."
   ]
  },
  {
   "cell_type": "markdown",
   "id": "920f5570",
   "metadata": {},
   "source": [
    "## Problem 4\n",
    "\n",
    "- Most functions we are interested in are non-convex\n",
    "- Use the dx to find a local minimium\n",
    "- If data is well conditioned then in 2d space gradient will be symetic\n",
    "    - However if poorly conditioned the gradient will not point directly at the optimum"
   ]
  },
  {
   "cell_type": "markdown",
   "id": "b505d4d6",
   "metadata": {},
   "source": [
    "## The problem we are trying to solve"
   ]
  },
  {
   "cell_type": "markdown",
   "id": "346e8778",
   "metadata": {},
   "source": [
    "- We hve $N_1$ to $N_2$ data points (DNA sequences)\n",
    "    - One set is labeled as brain another is labeled as liver\n",
    "    - We are trying to determine the regulatrory grammer; what makes sequences *belong* to a specific group\n",
    "        - Classification problem"
   ]
  },
  {
   "cell_type": "markdown",
   "id": "d579101d",
   "metadata": {},
   "source": [
    "### Relationship to supervised learning \n",
    "\n",
    "- Classic example trying to learn some function given some input data point (matrix) what label is the most probable\n",
    "    - Lots of ways to do this and lots of details\n",
    "    - Much depends on being able to arrange data in specific ways\n",
    "        - Support vector machines\n",
    "        - etc\n",
    "    - One matrix $X$: All datapoints have labels for\n",
    "    - One vector $Y$ which contains their known classification\n",
    "    - But how do we get the data into this kind of format? Lots of ways to do that? How do we make them compare?\n",
    "        - Position 0 of observation $a$ != position 0 observation $b$"
   ]
  },
  {
   "cell_type": "markdown",
   "id": "0932941b",
   "metadata": {},
   "source": [
    "### Relationship to generative learning\n",
    "\n",
    "- If these two classes can be told apart by the data I have collected then I should be able to make a machine to generate sequences that looks like one or the other\n",
    "    - Joint distribution?\n",
    "    ![](https://upload.wikimedia.org/wikipedia/commons/thumb/9/95/Multivariate_normal_sample.svg/600px-Multivariate_normal_sample.svg.png)"
   ]
  },
  {
   "cell_type": "markdown",
   "id": "ea097d67",
   "metadata": {},
   "source": [
    "## Next class\n",
    "\n",
    "- Very simple generative model and intro to generative approach\n",
    "- Try it out on some datasets, etc.\n",
    "- Think a little bit about how to do the feature problem for classification of enhancers\n",
    "\n",
    "\n",
    "### Reading\n",
    "\n",
    "Pattern recognition and machine learning; try and read chapters before hand. This gets sent out on campus wire"
   ]
  }
 ],
 "metadata": {
  "kernelspec": {
   "display_name": "Python 3 (ipykernel)",
   "language": "python",
   "name": "python3"
  },
  "language_info": {
   "codemirror_mode": {
    "name": "ipython",
    "version": 3
   },
   "file_extension": ".py",
   "mimetype": "text/x-python",
   "name": "python",
   "nbconvert_exporter": "python",
   "pygments_lexer": "ipython3",
   "version": "3.9.6"
  }
 },
 "nbformat": 4,
 "nbformat_minor": 5
}
