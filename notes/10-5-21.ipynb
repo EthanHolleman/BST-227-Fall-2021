{
 "cells": [
  {
   "cell_type": "markdown",
   "id": "6ed11353",
   "metadata": {},
   "source": [
    "# Building models\n",
    "\n",
    "- Trying to crate PDF where parameters are things that you care about \n",
    "\n",
    "## Bayesian models\n",
    "\n",
    "- How to change the parameters to better capture biology\n",
    "\n",
    "## NN\n",
    "\n",
    "- More work to figure out what it actually learned\n",
    "\n",
    "What we learn in both cases is based on how we define parameters and which ones we use"
   ]
  },
  {
   "cell_type": "markdown",
   "id": "c60b482d",
   "metadata": {},
   "source": [
    "# Models and enhancers\n",
    "\n",
    "## Enhancers \n",
    "\n",
    "- Very long\n",
    "- Actual functional sequences are short and sparse\n",
    "\n",
    "### Enhancers as mixtures of different kinds of sequences\n",
    "\n",
    "- Useful sequences punctuated with noise\n",
    "    - Not every base should come from the same distribution then\n",
    "    - How do we learn to ignore noise though? Isn't that kind of circular?"
   ]
  },
  {
   "cell_type": "markdown",
   "id": "26b156e9",
   "metadata": {},
   "source": [
    "## Models with multiple sets of parameters\n",
    "\n",
    "- $\\Phi_{0}$ and $\\Phi_{1}$ are the two vectors of parameters "
   ]
  },
  {
   "cell_type": "markdown",
   "id": "59264312",
   "metadata": {},
   "source": [
    "### Training the model\n",
    "\n",
    "- Calculating the likiehood of the data given the model"
   ]
  },
  {
   "cell_type": "markdown",
   "id": "89cfd42d",
   "metadata": {},
   "source": [
    "$P( X | \\Phi_{0}, \\Phi_{1})$ = $P( X | \\theta)$ = $\\prod_{i} \\prod_{j} P(X_{ij} | \\theta)$"
   ]
  },
  {
   "cell_type": "markdown",
   "id": "d75083ae",
   "metadata": {},
   "source": [
    "- The problem with above is that have many param sets. Either base is from foreground or background and we don't know what they are. \n",
    "- Solve by introducing a new set of variables.\n",
    "    - $C_{ij}$ = 0 if $X_{ij}$ is from foreground and 1 if $X_{ij}$ = background\n",
    "    - Trying to create a process we can sample and assume that same process generated the training data\n",
    "    - Assuming all enhancers have background and foreground need to decide if $C_{11}$ is from foreground or background\n",
    "    - $P(C_{ij} = 0 | \\lambda ) = \\lambda_{1}$\n",
    "    - $P(C_{ij} = 1 | \\lambda ) = \\lambda_{2}$\n",
    "    - $\\lambda_{1} + \\lambda_{2}$ = 1"
   ]
  },
  {
   "cell_type": "markdown",
   "id": "629834d7",
   "metadata": {},
   "source": [
    "$P(X_{ij} | C_{}ij\\Phi_{i}) = \\Phi_{k}$"
   ]
  },
  {
   "cell_type": "markdown",
   "id": "10638807",
   "metadata": {},
   "source": [
    "As long as have $C$ variables writing function becomes easier to write.\n",
    "\n",
    "For every base in the input data you can assume they are independent in this model.\n",
    "\n",
    "$P(X, c | \\theta) = \\prod_{i} \\prod_{j} P(X_{ij}, C_{ij} | \\theta)$\n",
    "\n",
    "Expand where $C_{ij}$ = 0 and $C_{ij}$ = 1"
   ]
  },
  {
   "cell_type": "markdown",
   "id": "9c64f257",
   "metadata": {},
   "source": [
    "$P(C_{ij})P(X_{ij} | C_{ik}, \\theta)$\n",
    "\n",
    "$\\prod_{l=0}[P(C_{ij} = l)P(X_{ij} | C_{ij}= l, \\theta)] ^ {[C_{ik}=l]}$ "
   ]
  },
  {
   "cell_type": "markdown",
   "id": "c90701d1",
   "metadata": {},
   "source": [
    "Where $C_{ij=l}$ is indicator variable that is either 1 or 0 depending on if base is from foreground or background."
   ]
  },
  {
   "cell_type": "markdown",
   "id": "394a5355",
   "metadata": {},
   "source": [
    "$log(P(x | \\theta)) = [\\sum_{c}q(c)log P(x, c | \\theta)] + KL(q(z)||P(c|x)$\n",
    "\n",
    "- $P(C|X)$: Best guess if base is in foreground or background given data\n",
    "- Expectation maximization\n",
    "    - Regular (using this one)\n",
    "    - Variational inference"
   ]
  },
  {
   "cell_type": "markdown",
   "id": "3fcd1491",
   "metadata": {},
   "source": [
    "$KL$ diversion?"
   ]
  },
  {
   "cell_type": "markdown",
   "id": "da175b71",
   "metadata": {},
   "source": [
    "$q(C) = P(C|X)$\n",
    "\n",
    "$P(C| X, \\theta) = P(X, C | \\theta) / P(X | \\theta)$\n",
    "\n",
    "Each $C_{ij}$ can only be 0 or 1. Probiblity of either 0 or 1 has to sum to 1."
   ]
  },
  {
   "cell_type": "markdown",
   "id": "7676cb2b",
   "metadata": {},
   "source": [
    "- Expected value of X under some distribution\n",
    "$E[X] = \\sum_{X^1} P(X=X^1)X^1$"
   ]
  }
 ],
 "metadata": {
  "kernelspec": {
   "display_name": "Python 3 (ipykernel)",
   "language": "python",
   "name": "python3"
  },
  "language_info": {
   "codemirror_mode": {
    "name": "ipython",
    "version": 3
   },
   "file_extension": ".py",
   "mimetype": "text/x-python",
   "name": "python",
   "nbconvert_exporter": "python",
   "pygments_lexer": "ipython3",
   "version": "3.9.6"
  }
 },
 "nbformat": 4,
 "nbformat_minor": 5
}
